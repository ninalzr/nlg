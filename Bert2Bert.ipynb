{
  "nbformat": 4,
  "nbformat_minor": 0,
  "metadata": {
    "colab": {
      "name": "Bert2Bert.ipynb",
      "provenance": [],
      "collapsed_sections": [],
      "authorship_tag": "ABX9TyPBc8+bxbGgHojAw0JgO0Wp",
      "include_colab_link": true
    },
    "kernelspec": {
      "name": "python3",
      "display_name": "Python 3"
    }
  },
  "cells": [
    {
      "cell_type": "markdown",
      "metadata": {
        "id": "view-in-github",
        "colab_type": "text"
      },
      "source": [
        "<a href=\"https://colab.research.google.com/github/ninalzr/nlg/blob/master/Bert2Bert.ipynb\" target=\"_parent\"><img src=\"https://colab.research.google.com/assets/colab-badge.svg\" alt=\"Open In Colab\"/></a>"
      ]
    },
    {
      "cell_type": "code",
      "metadata": {
        "id": "BGyganPut5fK",
        "colab_type": "code",
        "colab": {
          "base_uri": "https://localhost:8080/",
          "height": 311
        },
        "outputId": "d8251db0-3aea-4bae-c112-83f16a743f49"
      },
      "source": [
        "!pip install transformers"
      ],
      "execution_count": 1,
      "outputs": [
        {
          "output_type": "stream",
          "text": [
            "Requirement already satisfied: transformers in /usr/local/lib/python3.6/dist-packages (2.9.0)\n",
            "Requirement already satisfied: tqdm>=4.27 in /usr/local/lib/python3.6/dist-packages (from transformers) (4.41.1)\n",
            "Requirement already satisfied: sentencepiece in /usr/local/lib/python3.6/dist-packages (from transformers) (0.1.86)\n",
            "Requirement already satisfied: sacremoses in /usr/local/lib/python3.6/dist-packages (from transformers) (0.0.43)\n",
            "Requirement already satisfied: filelock in /usr/local/lib/python3.6/dist-packages (from transformers) (3.0.12)\n",
            "Requirement already satisfied: tokenizers==0.7.0 in /usr/local/lib/python3.6/dist-packages (from transformers) (0.7.0)\n",
            "Requirement already satisfied: requests in /usr/local/lib/python3.6/dist-packages (from transformers) (2.23.0)\n",
            "Requirement already satisfied: regex!=2019.12.17 in /usr/local/lib/python3.6/dist-packages (from transformers) (2019.12.20)\n",
            "Requirement already satisfied: numpy in /usr/local/lib/python3.6/dist-packages (from transformers) (1.18.4)\n",
            "Requirement already satisfied: dataclasses; python_version < \"3.7\" in /usr/local/lib/python3.6/dist-packages (from transformers) (0.7)\n",
            "Requirement already satisfied: six in /usr/local/lib/python3.6/dist-packages (from sacremoses->transformers) (1.12.0)\n",
            "Requirement already satisfied: click in /usr/local/lib/python3.6/dist-packages (from sacremoses->transformers) (7.1.2)\n",
            "Requirement already satisfied: joblib in /usr/local/lib/python3.6/dist-packages (from sacremoses->transformers) (0.14.1)\n",
            "Requirement already satisfied: certifi>=2017.4.17 in /usr/local/lib/python3.6/dist-packages (from requests->transformers) (2020.4.5.1)\n",
            "Requirement already satisfied: idna<3,>=2.5 in /usr/local/lib/python3.6/dist-packages (from requests->transformers) (2.9)\n",
            "Requirement already satisfied: chardet<4,>=3.0.2 in /usr/local/lib/python3.6/dist-packages (from requests->transformers) (3.0.4)\n",
            "Requirement already satisfied: urllib3!=1.25.0,!=1.25.1,<1.26,>=1.21.1 in /usr/local/lib/python3.6/dist-packages (from requests->transformers) (1.24.3)\n"
          ],
          "name": "stdout"
        }
      ]
    },
    {
      "cell_type": "code",
      "metadata": {
        "id": "WTXtzt5SQ7fn",
        "colab_type": "code",
        "colab": {
          "base_uri": "https://localhost:8080/",
          "height": 34
        },
        "outputId": "dea12f53-d25a-4cb5-ff49-1e7379201508"
      },
      "source": [
        "from tqdm import tqdm\n",
        "for i in tqdm(range(10000), ):\n",
        "    pass"
      ],
      "execution_count": 2,
      "outputs": [
        {
          "output_type": "stream",
          "text": [
            "100%|██████████| 10000/10000 [00:00<00:00, 1449510.64it/s]\n"
          ],
          "name": "stderr"
        }
      ]
    },
    {
      "cell_type": "code",
      "metadata": {
        "id": "Qxmyiczmt-sV",
        "colab_type": "code",
        "colab": {}
      },
      "source": [
        "import os, sys, json\n",
        "from datetime import datetime"
      ],
      "execution_count": 0,
      "outputs": []
    },
    {
      "cell_type": "code",
      "metadata": {
        "id": "Ui3tBYsAwoEQ",
        "colab_type": "code",
        "colab": {}
      },
      "source": [
        "#TODO: Adjust the class for other tokenizers\n",
        "class Lookup():\n",
        "    def __init__(self, model_class, file_prefix = None):\n",
        "\n",
        "        self.model_class = model_class\n",
        "\n",
        "        self.bos_token = None\n",
        "        self.eos_token = None\n",
        "        self.unk_token = None\n",
        "        self.sep_token = None\n",
        "        self.pad_token = None\n",
        "        self.cls_token = None\n",
        "        self.mask_token = None\n",
        "\n",
        "        if model_class == 'gpt2':\n",
        "            from transformers import GPT2Tokenizer\n",
        "            self._tokenizer = GPT2Tokenizer.from_pretrained(model_class)\n",
        "            \n",
        "        if model_class == 'bert':\n",
        "            from transformers import BertTokenizer\n",
        "        self._tokenizer = BertTokenizer.from_pretrained('bert-base-cased')\n",
        "\n",
        "        self._tokenizer.add_special_tokens({'pad_token': '<PAD>'})\n",
        "\n",
        "        if self._tokenizer._bos_token:\n",
        "            self.bos_token = self._tokenizer.bos_token\n",
        "        if self._tokenizer._eos_token:\n",
        "            self.eos_token = self._tokenizer.eos_token\n",
        "        if self._tokenizer._unk_token:                \n",
        "            self.unk_token = self._tokenizer.unk_token\n",
        "        if self._tokenizer._sep_token:\n",
        "            self.sep_token = self._tokenizer.sep_token\n",
        "        if self._tokenizer._pad_token:\n",
        "            self.pad_token = self._tokenizer.pad_token\n",
        "        if self._tokenizer._cls_token:\n",
        "            self.cls_token = self._tokenizer.cls_token\n",
        "        if self._tokenizer._mask_token:\n",
        "            self.mask_token = self._tokenizer.mask_token \n",
        "\n",
        "        \n",
        "        if file_prefix:\n",
        "            self.load(file_prefix)\n",
        "\n",
        "        def save_special_tokens(self, file_prefix):\n",
        "            if self.model_class == \"gpt2\" or self.model_class == 'bert':\n",
        "                special_tokens = {}\n",
        "            if self.bos_token:\n",
        "                special_tokens['bos_token'] = self.bos_token\n",
        "            if self.eos_token:\n",
        "                special_tokens['eos_token'] = self.eos_token\n",
        "            if self.unk_token:\n",
        "                special_tokens['unk_token'] = self.unk_token\n",
        "            if self.sep_token:\n",
        "                special_tokens['sep_token'] = self.sep_token\n",
        "            if self.pad_token:\n",
        "                special_tokens['pad_token'] = self.pad_token\n",
        "            if self.cls_token:\n",
        "                special_tokens['cls_token'] = self.cls_token\n",
        "            if self.mask_token:\n",
        "                special_tokens['mask_token'] = self.mask_token            \n",
        "            json.dump(special_tokens, open(file_prefix+\".special_tokens\",\"w\",encoding=\"utf8\"), indent=4, sort_keys=True)            \n",
        "            self._tokenizer.add_special_tokens(special_tokens)  \n",
        "        \n",
        "        def load(self, file_prefix):\n",
        "            if os.path.exists(file_prefix+\".special_tokens\"):\n",
        "                special_tokens = json.load(open(file_prefix+\".special_tokens\",\"r\",encoding=\"utf8\"))            \n",
        "            if 'bos_token' in special_tokens:\n",
        "                self.bos_token = special_tokens['bos_token']\n",
        "            if 'eos_token' in special_tokens:\n",
        "                self.eos_token = special_tokens['eos_token']\n",
        "            if 'unk_token' in special_tokens:\n",
        "                self.unk_token = special_tokens['unk_token']\n",
        "            if 'sep_token' in special_tokens:\n",
        "                self.sep_token = special_tokens['sep_token']\n",
        "            if 'pad_token' in special_tokens:\n",
        "                self.pad_token = special_tokens['pad_token']\n",
        "            if 'cls_token' in special_tokens:\n",
        "                self.cls_token = special_tokens['cls_token']\n",
        "            if 'mask_token' in special_tokens:\n",
        "                self.mask_token = special_tokens['mask_token']\n",
        "            self._tokenizer.add_special_tokens(special_tokens)      \n",
        "\n",
        "    def tokenize(self, text):\n",
        "        return self._tokenizer.tokenize(text)\n",
        "\n",
        "    def convert_tokens_to_ids(self, tokens):\n",
        "        return self._tokenizer.convert_tokens_to_ids(tokens)\n",
        "\n",
        "    def convert_ids_to_tokens(self, token_ids):\n",
        "        return self._tokenizer.convert_ids_to_tokens(token_ids)\n",
        "\n",
        "    def convert_tokens_to_string(self, tokens):\n",
        "        return self._tokenizer.convert_tokens_to_string(tokens)\n",
        "\n",
        "    def encode(self, text, add_bos_eos_tokens = False):\n",
        "        tokens = self.tokenize(text)\n",
        "\n",
        "        if add_bos_eos_tokens:\n",
        "            if self.model_class == 'bert':\n",
        "                if not self.cls_token or not self.sep_token:\n",
        "                    raise Exception(\"Lookup encode error: {} model does not have CLS or SEP tokens set!\")\n",
        "                return [self.convert_tokens_to_ids(self.cls_token)] + self.convert_tokens_to_ids(tokens) + [self.convert_tokens_to_ids(self.sep_token)]\n",
        "            else:\n",
        "                if not self.bos_token or not self.eos_token:\n",
        "                    raise Exception(\"Lookup encode error: {} model does not have BOS or EOS tokens set!\")\n",
        "                return [self.convert_tokens_to_ids(self.bos_token)] + self.convert_tokens_to_ids(tokens) + [self.convert_tokens_to_ids(self.eos_token)]\n",
        "        else:\n",
        "            return self.convert_tokens_to_ids(tokens)\n",
        "\n",
        "    def decode(self, token_ids, skip_bos_eos_tokens = False):\n",
        "        if skip_bos_eos_tokens:  \n",
        "            if self.model_class == \"bert\":\n",
        "                if len(token_ids)>0:\n",
        "                    if token_ids[0] == self.convert_tokens_to_ids(self.cls_token):\n",
        "                        token_ids = token_ids[1:]\n",
        "                if len(token_ids)>0:\n",
        "                    if token_ids[-1] == self.convert_tokens_to_ids(self.sep_token):\n",
        "                        token_ids = token_ids[:-1]       \n",
        "            else:\n",
        "                if not self.bos_token or not self.eos_token:                \n",
        "                    raise Exception(\"Lookup decode error: {} model does not have BOS or EOS tokens set!\")                                  \n",
        "                if len(token_ids)>0:\n",
        "                    if token_ids[0] == self.convert_tokens_to_ids(self.bos_token):\n",
        "                        token_ids = token_ids[1:]\n",
        "                if len(token_ids)>0:\n",
        "                    if token_ids[-1] == self.convert_tokens_to_ids(self.eos_token):\n",
        "                        token_ids = token_ids[:-1]        \n",
        "        if len(token_ids)>0: \n",
        "            tokens = self.convert_ids_to_tokens(token_ids)                \n",
        "            return self.convert_tokens_to_string(tokens)\n",
        "        return \"\"\n",
        "\n",
        "    def __len__(self):          \n",
        "        return len(self._tokenizer)"
      ],
      "execution_count": 0,
      "outputs": []
    },
    {
      "cell_type": "code",
      "metadata": {
        "id": "MpEdDa_t15gN",
        "colab_type": "code",
        "colab": {
          "base_uri": "https://localhost:8080/",
          "height": 606
        },
        "outputId": "b81ec2a7-2ab5-41e6-fadb-30b539cd9abc"
      },
      "source": [
        "model = 'bert'\n",
        "lookup = Lookup(model)\n",
        "text = \"Daisy, Daisy, Give me your answer, do!\"\n",
        "print(\"\\n1. String to tokens (tokenize):\")\n",
        "tokens = lookup.tokenize(text)\n",
        "print(tokens)\n",
        "\n",
        "print(\"\\n2. Tokens to ints (convert_tokens_to_ids):\")\n",
        "ids = lookup.convert_tokens_to_ids(tokens)\n",
        "print(ids)\n",
        "        \n",
        "print(\"\\n2.5 Token to int (convert_tokens_to_ids with a single str):\")\n",
        "id = lookup.convert_tokens_to_ids(tokens[0])\n",
        "print(id)\n",
        "\n",
        "print(\"\\n3. Ints to tokens (convert_ids_to_tokens):\")\n",
        "tokens = lookup.convert_ids_to_tokens(ids)\n",
        "print(tokens)\n",
        "\n",
        "print(\"\\n3.5 Int to token (convert_ids_to_tokens with a single int):\")\n",
        "token = lookup.convert_ids_to_tokens(id)\n",
        "print(token)\n",
        "\n",
        "print(\"\\n4. Tokens to string (convert_tokens_to_string):\")\n",
        "recreated_text = lookup.convert_tokens_to_string(tokens)\n",
        "print(recreated_text)\n",
        "\n",
        "print(\"\\n5. String to ints (encode):\")\n",
        "ids = lookup.encode(text)\n",
        "print(ids)\n",
        "\n",
        "print(\"\\n6. Ints to string (decode):\")\n",
        "recreated_text = lookup.decode(ids)\n",
        "print(recreated_text)\n",
        "\n",
        "print(\"\\n7. Encode adding special tokens:\")\n",
        "ids = lookup.encode(text, add_bos_eos_tokens=True)\n",
        "print(ids)\n",
        "print(\"How it looks like with tokens: {}\".format(lookup.convert_ids_to_tokens(ids)))\n",
        "    \n",
        "print(\"\\n8. Decode skipping special tokens:\")\n",
        "recreated_text = lookup.decode(ids, skip_bos_eos_tokens=True)\n",
        "print(recreated_text)\n",
        "\n",
        "print(\"\\n9. Vocabulary size:\")\n",
        "vocab_size = lookup.__len__()\n",
        "print(vocab_size)"
      ],
      "execution_count": 5,
      "outputs": [
        {
          "output_type": "stream",
          "text": [
            "\n",
            "1. String to tokens (tokenize):\n",
            "['Daisy', ',', 'Daisy', ',', 'Give', 'me', 'your', 'answer', ',', 'do', '!']\n",
            "\n",
            "2. Tokens to ints (convert_tokens_to_ids):\n",
            "[11291, 117, 11291, 117, 7193, 1143, 1240, 2590, 117, 1202, 106]\n",
            "\n",
            "2.5 Token to int (convert_tokens_to_ids with a single str):\n",
            "11291\n",
            "\n",
            "3. Ints to tokens (convert_ids_to_tokens):\n",
            "['Daisy', ',', 'Daisy', ',', 'Give', 'me', 'your', 'answer', ',', 'do', '!']\n",
            "\n",
            "3.5 Int to token (convert_ids_to_tokens with a single int):\n",
            "Daisy\n",
            "\n",
            "4. Tokens to string (convert_tokens_to_string):\n",
            "Daisy , Daisy , Give me your answer , do !\n",
            "\n",
            "5. String to ints (encode):\n",
            "[11291, 117, 11291, 117, 7193, 1143, 1240, 2590, 117, 1202, 106]\n",
            "\n",
            "6. Ints to string (decode):\n",
            "Daisy , Daisy , Give me your answer , do !\n",
            "\n",
            "7. Encode adding special tokens:\n",
            "[101, 11291, 117, 11291, 117, 7193, 1143, 1240, 2590, 117, 1202, 106, 102]\n",
            "How it looks like with tokens: ['[CLS]', 'Daisy', ',', 'Daisy', ',', 'Give', 'me', 'your', 'answer', ',', 'do', '!', '[SEP]']\n",
            "\n",
            "8. Decode skipping special tokens:\n",
            "Daisy , Daisy , Give me your answer , do !\n",
            "\n",
            "9. Vocabulary size:\n",
            "28997\n"
          ],
          "name": "stdout"
        }
      ]
    },
    {
      "cell_type": "code",
      "metadata": {
        "id": "_CbgcLZA2_EB",
        "colab_type": "code",
        "colab": {}
      },
      "source": [
        "import os, sys, json, random\n",
        "import numpy as np\n",
        "import torch\n",
        "import torch as nn\n",
        "import torch.utils.data\n",
        "\n",
        "from functools import partial"
      ],
      "execution_count": 0,
      "outputs": []
    },
    {
      "cell_type": "code",
      "metadata": {
        "id": "qFxEWLOD3BVS",
        "colab_type": "code",
        "colab": {}
      },
      "source": [
        "device = torch.device(\"cuda\" if torch.cuda.is_available() else \"cpu\")"
      ],
      "execution_count": 0,
      "outputs": []
    },
    {
      "cell_type": "code",
      "metadata": {
        "id": "fP7DLPeT3CZ3",
        "colab_type": "code",
        "colab": {}
      },
      "source": [
        "#Ignore slots for now.\n",
        "#TODO: Figure out what to do with slots\n",
        "#Remember to change load from file X, y\n",
        "def loader(data_folder, batch_size, src_lookup, tgt_lookup, min_seq_len_X = 5, max_seq_len_X = 1000, min_seq_len_y = 5,\n",
        "           max_seq_len_y = 1000, MEI = \"\"):\n",
        "    MEI = MEI.replace(\" \",\"_\")\n",
        "    pad_id = tgt_lookup.convert_tokens_to_ids(tgt_lookup.pad_token)\n",
        "    \n",
        "    train_loader = torch.utils.data.DataLoader(\n",
        "        MyDataset(data_folder, \"train\", min_seq_len_X, max_seq_len_X, min_seq_len_y, max_seq_len_y, MEI),\n",
        "        num_workers=0,\n",
        "        batch_size=batch_size,\n",
        "        collate_fn=partial(paired_collate_fn, padding_idx = pad_id),\n",
        "        shuffle=True)\n",
        "\n",
        "    valid_loader = torch.utils.data.DataLoader(\n",
        "        MyDataset(data_folder, \"dev\", min_seq_len_X, max_seq_len_X, min_seq_len_y, max_seq_len_y, MEI),\n",
        "        num_workers=0,\n",
        "        batch_size=batch_size,\n",
        "        collate_fn=partial(paired_collate_fn, padding_idx = pad_id))\n",
        "    \n",
        "    return train_loader, valid_loader\n",
        "\n",
        "def paired_collate_fn(insts, padding_idx):\n",
        "    # insts contains a batch_size number of (x, y) elements    \n",
        "    src_insts, tgt_insts = list(zip(*insts))   \n",
        "    \n",
        "    src_max_len = max(len(inst) for inst in src_insts) # determines max size for all examples\n",
        "    \n",
        "    src_seq_lengths = torch.tensor(list(map(len, src_insts)), dtype=torch.long)    \n",
        "    src_seq_tensor = torch.tensor(np.array( [ inst + [padding_idx] * (src_max_len - len(inst)) for inst in src_insts ] ), dtype=torch.long)\n",
        "    src_seq_mask = torch.tensor(np.array( [ [1] * len(inst) + [0] * (src_max_len - len(inst)) for inst in src_insts ] ), dtype=torch.long)\n",
        "    \n",
        "    src_seq_lengths, perm_idx = src_seq_lengths.sort(0, descending=True)\n",
        "    src_seq_tensor = src_seq_tensor[perm_idx]   \n",
        "    src_seq_mask = src_seq_mask[perm_idx]\n",
        "    tgt_max_len = max(len(inst) for inst in tgt_insts)\n",
        "    \n",
        "    tgt_seq_lengths = torch.tensor(list(map(len, tgt_insts)), dtype=torch.long)    \n",
        "    tgt_seq_tensor = torch.tensor(np.array( [ inst + [padding_idx] * (tgt_max_len - len(inst)) for inst in tgt_insts ] ), dtype=torch.long)\n",
        "    tgt_seq_mask = torch.tensor(np.array( [ [1] * len(inst) + [0] * (tgt_max_len - len(inst)) for inst in tgt_insts ] ), dtype=torch.long)\n",
        "    \n",
        "    tgt_seq_lengths = tgt_seq_lengths[perm_idx]\n",
        "    tgt_seq_tensor = tgt_seq_tensor[perm_idx]      \n",
        "    tgt_seq_mask = tgt_seq_mask[perm_idx]   \n",
        "      \n",
        "    return ((src_seq_tensor, src_seq_lengths, src_seq_mask), (tgt_seq_tensor, tgt_seq_lengths, tgt_seq_mask))   \n",
        "class MyDataset(torch.utils.data.Dataset):\n",
        "    def __init__(self, root_dir, type, min_seq_len_X, max_seq_len_X, min_seq_len_y, max_seq_len_y, MEI):  \n",
        "        self.root_dir = root_dir\n",
        "\n",
        "        self.X = [] # this will store joined sentences\n",
        "        self.y = [] # this will store the output\n",
        "\n",
        "    \n",
        "        with open(os.path.join(root_dir, type, MEI + '_output.txt'), 'r') as f:\n",
        "            y = [lookup.encode(y.strip(), add_bos_eos_tokens=True)  for y in f]\n",
        "        with open(os.path.join(root_dir, type, MEI + '_sentences.txt'), 'r') as g:\n",
        "            X = [lookup.encode(x.strip(), add_bos_eos_tokens=True)  for x in g]   \n",
        "                    \n",
        "        cut_over_X = 0\n",
        "        cut_under_X = 0\n",
        "        cut_over_y = 0\n",
        "        cut_under_y = 0\n",
        "        \n",
        "        # max len\n",
        "        for (sx, sy) in zip(X, y):\n",
        "            if len(sx) > max_seq_len_X:\n",
        "                cut_over_X += 1\n",
        "            elif len(sx) < min_seq_len_X+2:                \n",
        "                cut_under_X += 1\n",
        "            elif len(sy) > max_seq_len_y:\n",
        "                cut_over_y += 1\n",
        "            elif len(sy) < min_seq_len_y+2:                \n",
        "                cut_under_y += 1\n",
        "            else:\n",
        "                self.X.append(sx)\n",
        "                self.y.append(sy)         \n",
        "\n",
        "        c = list(zip(self.X, self.y))\n",
        "        random.shuffle(c)\n",
        "        self.X, self.y = zip(*c)\n",
        "        self.X = list(self.X)\n",
        "        self.y = list(self.y)\n",
        "                    \n",
        "        print(\"Dataset [{}] loaded with {} out of {} ({}%) instances.\".format(type, len(self.X), len(X), float(100.*len(self.X)/len(X)) ) )\n",
        "        print(\"\\t\\t For X, {} are over max_len {} and {} are under min_len {}.\".format(cut_over_X, max_seq_len_X, cut_under_X, min_seq_len_X))\n",
        "        print(\"\\t\\t For y, {} are over max_len {} and {} are under min_len {}.\".format(cut_over_y, max_seq_len_y, cut_under_y, min_seq_len_y))\n",
        "        \n",
        "        assert(len(self.X)==len(self.y))\n",
        "        \n",
        "    def __len__(self):\n",
        "        return len(self.X)\n",
        "\n",
        "    def __getitem__(self, idx):        \n",
        "        return self.X[idx], self.y[idx]"
      ],
      "execution_count": 0,
      "outputs": []
    },
    {
      "cell_type": "code",
      "metadata": {
        "id": "4aSxtTi2BsIl",
        "colab_type": "code",
        "colab": {
          "base_uri": "https://localhost:8080/",
          "height": 34
        },
        "outputId": "b63eb0e8-7e47-4211-b08e-4497f05d47f2"
      },
      "source": [
        "from google.colab import drive\n",
        "drive.mount('/content/drive')\n",
        "data_path = 'drive/My Drive/nlg/tiny'\n",
        "src_lookup = Lookup(model)\n",
        "tgt_lookup = Lookup(model)\n",
        "batch_size = 2\n",
        "min_seq_len_X = 10\n",
        "max_seq_len_X = 1000\n",
        "min_seq_len_y = min_seq_len_X\n",
        "max_seq_len_y = max_seq_len_X \n",
        "MEI = \"Management Overview\"\n",
        "model = 'bert'\n",
        "lookup = Lookup(model)"
      ],
      "execution_count": 9,
      "outputs": [
        {
          "output_type": "stream",
          "text": [
            "Drive already mounted at /content/drive; to attempt to forcibly remount, call drive.mount(\"/content/drive\", force_remount=True).\n"
          ],
          "name": "stdout"
        }
      ]
    },
    {
      "cell_type": "code",
      "metadata": {
        "id": "uSZIQKi7B61Z",
        "colab_type": "code",
        "colab": {}
      },
      "source": [
        "import os, sys\n",
        "\n",
        "import torch\n",
        "import torch.nn as nn\n",
        "from transformers import BertModel, BertConfig\n",
        "\n",
        "class Encoder(nn.Module):\n",
        "    def __init__(self, vocab_size, device):       \n",
        "        super().__init__()\n",
        "        \n",
        "        self.hidden_size = 768\n",
        "\n",
        "        configuration = BertConfig()\n",
        "        configuration.output_attentions = True\n",
        "\n",
        "        self.bertmodel = BertModel(configuration)\n",
        "        self.bertmodel.resize_token_embeddings(vocab_size)      \n",
        "        for param in self.bertmodel.parameters():\n",
        "            param.requires_grad = False\n",
        "        \n",
        "        self.device = device\n",
        "        self.to(device)\n",
        "\n",
        "    def forward(self, input_tuple):\n",
        "        \"\"\"\n",
        "        Args:\n",
        "            input_tuple (tensor): The input of the encoder. On the first position it must be a 2-D tensor of integers, padded. The second is the lenghts of the first.\n",
        "                Shape: ([batch_size, seq_len_enc], [batch_size], [att_mask]])\n",
        "\n",
        "        Returns:\n",
        "            Output shape: [batch_size, seq_len_enc, 768]\n",
        "            (tuple) Past shape: ((2, batch_size, num_heads, sequence_length, embed_size_per_head),(2, batch_size, num_heads, sequence_length, embed_size_per_head))\n",
        "            (tuple) Att shape: ((batch_size, num_heads, sequence_length, sequence_length), (batch_size, num_heads, sequence_length, sequence_length))\n",
        "\n",
        "        \n",
        "        \"\"\"\n",
        "        self.bertmodel.eval()\n",
        "        X, X_lengths, X_att_mask = input_tuple[0], input_tuple[1], input_tuple[2]\n",
        "        batch_size = X.size(0)\n",
        "        seq_len = X.size(1)\n",
        "        print(seq_len)\n",
        "        \n",
        "        output = torch.zeros(batch_size, seq_len, self.hidden_size).to(self.device)\n",
        "        output.requires_grad = False\n",
        "\n",
        "        \n",
        "        with torch.no_grad(): \n",
        "            hidden_states, past, att   = self.bertmodel(X, attention_mask = X_att_mask)  \n",
        "            for i in range(batch_size):\n",
        "                output[i:i+1, 0:X_lengths[i], :] = hidden_states[i:i+1, 0:X_lengths[i], :]\n",
        "            \n",
        "        return {'output':output, 'past':past, 'att': att}"
      ],
      "execution_count": 0,
      "outputs": []
    },
    {
      "cell_type": "code",
      "metadata": {
        "id": "uFP-3FtGDdGk",
        "colab_type": "code",
        "colab": {
          "base_uri": "https://localhost:8080/",
          "height": 210
        },
        "outputId": "00bb5dbc-90c4-43f9-8ea0-85ff080d5c0c"
      },
      "source": [
        "train_loader, valid_loader = loader(data_path, batch_size, src_lookup, tgt_lookup, min_seq_len_X, max_seq_len_X, min_seq_len_y, max_seq_len_y, MEI = MEI)"
      ],
      "execution_count": 11,
      "outputs": [
        {
          "output_type": "stream",
          "text": [
            "[[101, 107, 1130, 2793, 1201, 117, 1103, 1419, 1225, 1136, 10086, 7503, 142, 1708, 2349, 3756, 119, 138, 2313, 3914, 1120, 1103, 1419, 1110, 2784, 1111, 21661, 12711, 2492, 1178, 119, 1109, 1419, 14756, 1126, 4801, 2818, 119, 11651, 8009, 2165, 2554, 5401, 1103, 1419, 1674, 1136, 1138, 4473, 5850, 1120, 1934, 3880, 4129, 2492, 119, 1109, 1934, 3880, 4129, 2530, 14756, 2447, 1113, 7204, 2257, 1105, 2027, 8596, 119, 1109, 1419, 112, 188, 15325, 1830, 6737, 1200, 4644, 1144, 12373, 5252, 119, 107, 102], [101, 142, 1708, 2349, 7516, 1120, 1103, 1419, 1110, 4780, 119, 1109, 1419, 112, 188, 3914, 2784, 1111, 9042, 142, 1708, 2349, 2492, 1110, 2071, 1103, 2313, 1634, 119, 1109, 1419, 112, 188, 4801, 2818, 1110, 2012, 119, 1109, 1419, 1144, 1136, 1628, 4473, 1106, 6388, 1103, 2635, 1104, 1934, 3880, 4129, 2492, 119, 1109, 1934, 3880, 4129, 2530, 14756, 2447, 1113, 7204, 2257, 1105, 2027, 8596, 119, 1109, 1419, 1674, 1136, 6783, 6187, 20316, 170, 15325, 1830, 6737, 1200, 4644, 119, 102], [101, 1109, 1419, 14756, 1107, 142, 1708, 2349, 23979, 1112, 1122, 1144, 1136, 1502, 7503, 3756, 1107, 2793, 1201, 119, 1109, 1419, 1144, 1136, 1923, 2313, 1634, 20051, 1111, 142, 1708, 2349, 2492, 119, 1109, 4801, 2818, 1110, 4780, 119, 3563, 3880, 4129, 4473, 1132, 1136, 1107, 1282, 1120, 1103, 1419, 119, 1109, 3880, 4129, 4473, 1202, 1136, 4134, 2027, 8596, 1105, 2257, 8596, 119, 138, 4780, 15325, 1830, 6737, 1200, 4644, 1110, 1107, 1329, 1120, 1103, 1419, 119, 102], [101, 107, 1130, 2793, 1201, 117, 1103, 1419, 1225, 1136, 10086, 7503, 142, 1708, 2349, 3756, 119, 1109, 1419, 1144, 1136, 1923, 2313, 1634, 20051, 1111, 142, 1708, 2349, 2492, 119, 7457, 1113, 6783, 1907, 2554, 117, 1103, 1419, 1674, 1136, 1138, 170, 2818, 13735, 1103, 3750, 119, 1109, 1419, 1144, 1136, 1628, 4473, 1106, 6388, 1103, 2635, 1104, 1934, 3880, 4129, 2492, 119, 1109, 3880, 4129, 4473, 1202, 1136, 4134, 2027, 8596, 1105, 2257, 8596, 119, 1247, 1110, 1185, 2554, 1106, 5996, 1103, 1419, 1144, 170, 15325, 1830, 6737, 1200, 4644, 119, 107, 102], [101, 107, 1130, 2793, 1201, 117, 1103, 1419, 1144, 2604, 1106, 10086, 7503, 142, 1708, 2349, 1869, 119, 1109, 1419, 1144, 1136, 1923, 2313, 1634, 20051, 1111, 142, 1708, 2349, 2492, 119, 1109, 1419, 112, 188, 4801, 2818, 1110, 2012, 119, 1109, 1419, 1144, 1136, 1628, 4473, 1106, 6388, 1103, 2635, 1104, 1934, 3880, 4129, 2492, 119, 1109, 3880, 4129, 4473, 1202, 1136, 4134, 2027, 8596, 1105, 2257, 8596, 119, 1109, 1419, 112, 188, 23979, 5401, 1115, 1122, 1144, 1136, 1628, 170, 15325, 1830, 6737, 1200, 4644, 119, 107, 102], [101, 107, 1130, 2793, 1201, 117, 1103, 1419, 1225, 1136, 10086, 7503, 142, 1708, 2349, 3756, 119, 138, 2313, 3914, 1110, 2784, 1111, 21661, 12711, 2492, 1178, 119, 1109, 1419, 112, 188, 23979, 1116, 1202, 1136, 1511, 1126, 4801, 2818, 119, 11651, 8009, 2165, 2554, 5401, 1103, 1419, 1674, 1136, 1138, 4473, 5850, 1120, 1934, 3880, 4129, 2492, 119, 1109, 3880, 4129, 4473, 1202, 1136, 1511, 19716, 1106, 4134, 2027, 8596, 1105, 2257, 8596, 119, 1109, 15325, 1830, 6737, 1200, 4644, 1628, 1118, 1103, 1419, 1110, 12373, 119, 107, 102]]\n",
            "[[101, 107, 1109, 1419, 14756, 1126, 4801, 2818, 119, 5533, 117, 2554, 5401, 1122, 1674, 1136, 1138, 4473, 5850, 1120, 1934, 3880, 4129, 2492, 1105, 1112, 170, 1871, 1122, 14756, 2447, 1113, 7204, 2257, 1105, 2027, 8596, 2492, 1107, 1103, 3880, 4129, 119, 1212, 1103, 11565, 117, 1103, 1419, 112, 188, 15325, 1830, 6737, 1200, 4644, 1144, 12373, 5252, 119, 1135, 1110, 2382, 1115, 1107, 2793, 1201, 117, 1122, 1225, 1136, 10086, 7503, 142, 1708, 2349, 3756, 1105, 170, 2313, 3914, 1120, 1103, 1419, 1110, 2784, 1111, 21661, 12711, 2492, 1178, 119, 107, 102], [101, 107, 1135, 1110, 4379, 1115, 142, 1708, 2349, 7516, 1120, 1103, 1419, 1110, 4780, 1105, 1103, 3914, 2784, 1111, 9042, 142, 1708, 2349, 2492, 1110, 2071, 1103, 2313, 1634, 119, 18872, 117, 1103, 1419, 1144, 1136, 1628, 4473, 1106, 6388, 1103, 2635, 1104, 1934, 3880, 4129, 2492, 2456, 1152, 2960, 2447, 1113, 7204, 2257, 1105, 2027, 8596, 119, 7282, 117, 1103, 1419, 1674, 1136, 6783, 6187, 20316, 170, 15325, 1830, 6737, 1200, 4644, 119, 1212, 1103, 11565, 117, 1103, 1419, 112, 188, 4801, 2818, 1110, 2012, 119, 107, 102], [101, 107, 1109, 1419, 1144, 1136, 1923, 2313, 1634, 20051, 1111, 142, 1708, 2349, 2492, 117, 1105, 1122, 14756, 1107, 142, 1708, 2349, 23979, 1112, 1122, 1144, 1136, 1502, 7503, 3756, 1107, 2793, 1201, 119, 1212, 170, 1861, 3805, 117, 1103, 4801, 2818, 1105, 15325, 1830, 6737, 1200, 4644, 1107, 1282, 1110, 4780, 119, 9841, 117, 1934, 3880, 4129, 4473, 1132, 1136, 1107, 1282, 1105, 3335, 1202, 1136, 4134, 2027, 8596, 1105, 2257, 8596, 1107, 1103, 3880, 4129, 119, 107, 102], [101, 107, 1109, 1419, 1674, 1136, 1138, 170, 2818, 13735, 1103, 3750, 1105, 1175, 1110, 1185, 2554, 1106, 5996, 1103, 1419, 1144, 170, 15325, 1830, 6737, 1200, 4644, 119, 1135, 1110, 1145, 4379, 1115, 1122, 1144, 1136, 1628, 4473, 1106, 6388, 1103, 2635, 1104, 1934, 3880, 4129, 2492, 1105, 3335, 1202, 1136, 4134, 2027, 8596, 1105, 2257, 8596, 2492, 1107, 1103, 3880, 4129, 119, 7282, 117, 1107, 2793, 1201, 117, 1103, 1419, 1225, 1136, 10086, 7503, 142, 1708, 2349, 3756, 1105, 1122, 1144, 1136, 1923, 2313, 1634, 20051, 1111, 142, 1708, 2349, 2492, 119, 107, 102], [101, 107, 1130, 2793, 1201, 117, 1103, 1419, 1144, 2604, 1106, 10086, 7503, 142, 1708, 2349, 1869, 1105, 1122, 1144, 1136, 1923, 2313, 1634, 20051, 1111, 142, 1708, 2349, 2492, 119, 4981, 1142, 117, 1157, 23979, 5401, 1115, 1122, 1144, 1136, 1628, 170, 15325, 1830, 6737, 1200, 4644, 119, 1212, 170, 1861, 3805, 117, 1122, 1144, 1136, 1628, 4473, 1106, 6388, 1103, 2635, 1104, 1934, 3880, 4129, 2492, 1105, 2456, 1122, 1674, 1136, 4134, 2027, 1105, 2257, 8596, 119, 1212, 170, 3112, 3805, 117, 1157, 4801, 2818, 1110, 2012, 119, 107, 102], [101, 107, 1109, 1419, 112, 188, 23979, 1116, 1202, 1136, 1511, 1126, 4801, 2818, 119, 5533, 117, 1907, 2554, 5401, 1122, 1674, 1136, 1138, 4473, 5850, 1120, 1934, 3880, 4129, 2492, 1105, 1112, 170, 1871, 1674, 1136, 1511, 19716, 1106, 4134, 2027, 8596, 1105, 2257, 8596, 1107, 1103, 3880, 4129, 119, 1438, 117, 1103, 15325, 1830, 6737, 1200, 4644, 1628, 1110, 12373, 119, 1135, 1110, 4379, 1115, 1107, 2793, 1201, 117, 1103, 1419, 1225, 1136, 10086, 7503, 142, 1708, 2349, 3756, 1105, 170, 2313, 3914, 1110, 2784, 1111, 21661, 12711, 2492, 1178, 119, 107, 102]]\n",
            "Dataset [train] loaded with 6 out of 6 (100.0%) instances.\n",
            "\t\t For X, 0 are over max_len 1000 and 0 are under min_len 10.\n",
            "\t\t For y, 0 are over max_len 1000 and 0 are under min_len 10.\n",
            "[[101, 107, 1130, 2793, 1201, 117, 1103, 1419, 1225, 1136, 10086, 7503, 142, 1708, 2349, 3756, 119, 138, 2313, 3914, 1120, 1103, 1419, 1110, 2784, 1111, 21661, 12711, 2492, 1178, 119, 1109, 1419, 14756, 1126, 4801, 2818, 119, 11651, 8009, 2165, 2554, 5401, 1103, 1419, 1674, 1136, 1138, 4473, 5850, 1120, 1934, 3880, 4129, 2492, 119, 1109, 1934, 3880, 4129, 2530, 14756, 2447, 1113, 7204, 2257, 1105, 2027, 8596, 119, 1109, 1419, 112, 188, 15325, 1830, 6737, 1200, 4644, 1144, 12373, 5252, 119, 107, 102], [101, 142, 1708, 2349, 7516, 1120, 1103, 1419, 1110, 4780, 119, 1109, 1419, 112, 188, 3914, 2784, 1111, 9042, 142, 1708, 2349, 2492, 1110, 2071, 1103, 2313, 1634, 119, 1109, 1419, 112, 188, 4801, 2818, 1110, 2012, 119, 1109, 1419, 1144, 1136, 1628, 4473, 1106, 6388, 1103, 2635, 1104, 1934, 3880, 4129, 2492, 119, 1109, 1934, 3880, 4129, 2530, 14756, 2447, 1113, 7204, 2257, 1105, 2027, 8596, 119, 1109, 1419, 1674, 1136, 6783, 6187, 20316, 170, 15325, 1830, 6737, 1200, 4644, 119, 102], [101, 1109, 1419, 14756, 1107, 142, 1708, 2349, 23979, 1112, 1122, 1144, 1136, 1502, 7503, 3756, 1107, 2793, 1201, 119, 1109, 1419, 1144, 1136, 1923, 2313, 1634, 20051, 1111, 142, 1708, 2349, 2492, 119, 1109, 4801, 2818, 1110, 4780, 119, 3563, 3880, 4129, 4473, 1132, 1136, 1107, 1282, 1120, 1103, 1419, 119, 1109, 3880, 4129, 4473, 1202, 1136, 4134, 2027, 8596, 1105, 2257, 8596, 119, 138, 4780, 15325, 1830, 6737, 1200, 4644, 1110, 1107, 1329, 1120, 1103, 1419, 119, 102], [101, 107, 1130, 2793, 1201, 117, 1103, 1419, 1225, 1136, 10086, 7503, 142, 1708, 2349, 3756, 119, 1109, 1419, 1144, 1136, 1923, 2313, 1634, 20051, 1111, 142, 1708, 2349, 2492, 119, 7457, 1113, 6783, 1907, 2554, 117, 1103, 1419, 1674, 1136, 1138, 170, 2818, 13735, 1103, 3750, 119, 1109, 1419, 1144, 1136, 1628, 4473, 1106, 6388, 1103, 2635, 1104, 1934, 3880, 4129, 2492, 119, 1109, 3880, 4129, 4473, 1202, 1136, 4134, 2027, 8596, 1105, 2257, 8596, 119, 1247, 1110, 1185, 2554, 1106, 5996, 1103, 1419, 1144, 170, 15325, 1830, 6737, 1200, 4644, 119, 107, 102], [101, 107, 1130, 2793, 1201, 117, 1103, 1419, 1144, 2604, 1106, 10086, 7503, 142, 1708, 2349, 1869, 119, 1109, 1419, 1144, 1136, 1923, 2313, 1634, 20051, 1111, 142, 1708, 2349, 2492, 119, 1109, 1419, 112, 188, 4801, 2818, 1110, 2012, 119, 1109, 1419, 1144, 1136, 1628, 4473, 1106, 6388, 1103, 2635, 1104, 1934, 3880, 4129, 2492, 119, 1109, 3880, 4129, 4473, 1202, 1136, 4134, 2027, 8596, 1105, 2257, 8596, 119, 1109, 1419, 112, 188, 23979, 5401, 1115, 1122, 1144, 1136, 1628, 170, 15325, 1830, 6737, 1200, 4644, 119, 107, 102], [101, 107, 1130, 2793, 1201, 117, 1103, 1419, 1225, 1136, 10086, 7503, 142, 1708, 2349, 3756, 119, 138, 2313, 3914, 1110, 2784, 1111, 21661, 12711, 2492, 1178, 119, 1109, 1419, 112, 188, 23979, 1116, 1202, 1136, 1511, 1126, 4801, 2818, 119, 11651, 8009, 2165, 2554, 5401, 1103, 1419, 1674, 1136, 1138, 4473, 5850, 1120, 1934, 3880, 4129, 2492, 119, 1109, 3880, 4129, 4473, 1202, 1136, 1511, 19716, 1106, 4134, 2027, 8596, 1105, 2257, 8596, 119, 1109, 15325, 1830, 6737, 1200, 4644, 1628, 1118, 1103, 1419, 1110, 12373, 119, 107, 102]]\n",
            "[[101, 107, 1109, 1419, 14756, 1126, 4801, 2818, 119, 5533, 117, 2554, 5401, 1122, 1674, 1136, 1138, 4473, 5850, 1120, 1934, 3880, 4129, 2492, 1105, 1112, 170, 1871, 1122, 14756, 2447, 1113, 7204, 2257, 1105, 2027, 8596, 2492, 1107, 1103, 3880, 4129, 119, 1212, 1103, 11565, 117, 1103, 1419, 112, 188, 15325, 1830, 6737, 1200, 4644, 1144, 12373, 5252, 119, 1135, 1110, 2382, 1115, 1107, 2793, 1201, 117, 1122, 1225, 1136, 10086, 7503, 142, 1708, 2349, 3756, 1105, 170, 2313, 3914, 1120, 1103, 1419, 1110, 2784, 1111, 21661, 12711, 2492, 1178, 119, 107, 102], [101, 107, 1135, 1110, 4379, 1115, 142, 1708, 2349, 7516, 1120, 1103, 1419, 1110, 4780, 1105, 1103, 3914, 2784, 1111, 9042, 142, 1708, 2349, 2492, 1110, 2071, 1103, 2313, 1634, 119, 18872, 117, 1103, 1419, 1144, 1136, 1628, 4473, 1106, 6388, 1103, 2635, 1104, 1934, 3880, 4129, 2492, 2456, 1152, 2960, 2447, 1113, 7204, 2257, 1105, 2027, 8596, 119, 7282, 117, 1103, 1419, 1674, 1136, 6783, 6187, 20316, 170, 15325, 1830, 6737, 1200, 4644, 119, 1212, 1103, 11565, 117, 1103, 1419, 112, 188, 4801, 2818, 1110, 2012, 119, 107, 102], [101, 107, 1109, 1419, 1144, 1136, 1923, 2313, 1634, 20051, 1111, 142, 1708, 2349, 2492, 117, 1105, 1122, 14756, 1107, 142, 1708, 2349, 23979, 1112, 1122, 1144, 1136, 1502, 7503, 3756, 1107, 2793, 1201, 119, 1212, 170, 1861, 3805, 117, 1103, 4801, 2818, 1105, 15325, 1830, 6737, 1200, 4644, 1107, 1282, 1110, 4780, 119, 9841, 117, 1934, 3880, 4129, 4473, 1132, 1136, 1107, 1282, 1105, 3335, 1202, 1136, 4134, 2027, 8596, 1105, 2257, 8596, 1107, 1103, 3880, 4129, 119, 107, 102], [101, 107, 1109, 1419, 1674, 1136, 1138, 170, 2818, 13735, 1103, 3750, 1105, 1175, 1110, 1185, 2554, 1106, 5996, 1103, 1419, 1144, 170, 15325, 1830, 6737, 1200, 4644, 119, 1135, 1110, 1145, 4379, 1115, 1122, 1144, 1136, 1628, 4473, 1106, 6388, 1103, 2635, 1104, 1934, 3880, 4129, 2492, 1105, 3335, 1202, 1136, 4134, 2027, 8596, 1105, 2257, 8596, 2492, 1107, 1103, 3880, 4129, 119, 7282, 117, 1107, 2793, 1201, 117, 1103, 1419, 1225, 1136, 10086, 7503, 142, 1708, 2349, 3756, 1105, 1122, 1144, 1136, 1923, 2313, 1634, 20051, 1111, 142, 1708, 2349, 2492, 119, 107, 102], [101, 107, 1130, 2793, 1201, 117, 1103, 1419, 1144, 2604, 1106, 10086, 7503, 142, 1708, 2349, 1869, 1105, 1122, 1144, 1136, 1923, 2313, 1634, 20051, 1111, 142, 1708, 2349, 2492, 119, 4981, 1142, 117, 1157, 23979, 5401, 1115, 1122, 1144, 1136, 1628, 170, 15325, 1830, 6737, 1200, 4644, 119, 1212, 170, 1861, 3805, 117, 1122, 1144, 1136, 1628, 4473, 1106, 6388, 1103, 2635, 1104, 1934, 3880, 4129, 2492, 1105, 2456, 1122, 1674, 1136, 4134, 2027, 1105, 2257, 8596, 119, 1212, 170, 3112, 3805, 117, 1157, 4801, 2818, 1110, 2012, 119, 107, 102], [101, 107, 1109, 1419, 112, 188, 23979, 1116, 1202, 1136, 1511, 1126, 4801, 2818, 119, 5533, 117, 1907, 2554, 5401, 1122, 1674, 1136, 1138, 4473, 5850, 1120, 1934, 3880, 4129, 2492, 1105, 1112, 170, 1871, 1674, 1136, 1511, 19716, 1106, 4134, 2027, 8596, 1105, 2257, 8596, 1107, 1103, 3880, 4129, 119, 1438, 117, 1103, 15325, 1830, 6737, 1200, 4644, 1628, 1110, 12373, 119, 1135, 1110, 4379, 1115, 1107, 2793, 1201, 117, 1103, 1419, 1225, 1136, 10086, 7503, 142, 1708, 2349, 3756, 1105, 170, 2313, 3914, 1110, 2784, 1111, 21661, 12711, 2492, 1178, 119, 107, 102]]\n",
            "Dataset [dev] loaded with 6 out of 6 (100.0%) instances.\n",
            "\t\t For X, 0 are over max_len 1000 and 0 are under min_len 10.\n",
            "\t\t For y, 0 are over max_len 1000 and 0 are under min_len 10.\n"
          ],
          "name": "stdout"
        }
      ]
    },
    {
      "cell_type": "code",
      "metadata": {
        "id": "zx1otv-eB7VJ",
        "colab_type": "code",
        "colab": {}
      },
      "source": [
        "from transformers import BertModel, BertConfig\n",
        "class Decoder(nn.Module):\n",
        "    def __init__(self, hidden_size, vocab_size, device = device):\n",
        "        super(Decoder, self).__init__()\n",
        "        self.hidden_size = hidden_size\n",
        "        self.vocab_size = vocab_size\n",
        "\n",
        "\n",
        "        configuration = BertConfig()\n",
        "        configuration.is_decoder = True\n",
        "        configuration.output_attentions = True\n",
        "\n",
        "        self.bertmodel = BertModel(configuration)\n",
        "        self.bertmodel.resize_token_embeddings(vocab_size) #resize the size of vocab to include new tokens \n",
        "        for param in self.bertmodel.parameters():\n",
        "            param.requires_grad = False\n",
        "        \n",
        "        self.lin_out = nn.Linear(hidden_size, vocab_size)\n",
        "        self.softmax = nn.LogSoftmax(dim = 1)\n",
        "\n",
        "        self.device = device\n",
        "        self.to(device)\n",
        "\n",
        "    def forward(self, y_tuple, X_att_mask, encoder_hidden_states):\n",
        "        y = y_tuple[0]\n",
        "        y_lenghts = y_tuple[1]\n",
        "        y_att_mask = y_tuple[2]\n",
        "        batch_size = y.size(0)\n",
        "        y_seq_len = y.size(1)\n",
        "\n",
        "        output = torch.zeros(batch_size, y_seq_len, self.hidden_size).to(self.device)\n",
        "\n",
        "        output.requires_grad = False\n",
        "        with torch.no_grad():\n",
        "            hidden, past, decoder_attention = self.bertmodel(y, attention_mask = y_att_mask, \n",
        "                                                             encoder_hidden_states = encoder_hidden_states)  \n",
        "            for i in range(batch_size):\n",
        "                output[i:i+1, 0:y_lenghts[i], :] = hidden[i:i+1, 0:y_lenghts[i], :]\n",
        "\n",
        "        out_lin = self.lin_out(output)\n",
        "        output = self.softmax(out_lin)\n",
        "\n",
        "        return {'output':output, 'past':past, 'att': decoder_attention}     "
      ],
      "execution_count": 0,
      "outputs": []
    },
    {
      "cell_type": "code",
      "metadata": {
        "id": "i4tZatHahyux",
        "colab_type": "code",
        "colab": {}
      },
      "source": [
        "class EncoderDecoder(nn.Module):\n",
        "    def __init__(self, src_lookup, tgt_lookup, encoder, decoder, device):\n",
        "        super().__init__()\n",
        "        \n",
        "        if torch.cuda.is_available():            \n",
        "            self.cuda = True\n",
        "            self.device = torch.device('cuda')\n",
        "        else:            \n",
        "            self.cuda = False\n",
        "            self.device = torch.device('cpu')\n",
        "\n",
        "        self.src_lookup = src_lookup\n",
        "        self.tgt_lookup = tgt_lookup\n",
        "        self.src_bos_token_id = src_lookup.convert_tokens_to_ids(src_lookup.bos_token)\n",
        "        self.src_eos_token_id = src_lookup.convert_tokens_to_ids(src_lookup.eos_token)\n",
        "        self.tgt_bos_token_id = src_lookup.convert_tokens_to_ids(tgt_lookup.bos_token)\n",
        "        self.tgt_eos_token_id = src_lookup.convert_tokens_to_ids(tgt_lookup.eos_token)\n",
        "    \n",
        "        self.encoder = encoder       \n",
        "        self.decoder = decoder\n",
        "        \n",
        "        self.device = device\n",
        "        self.to(self.device)\n",
        "\n",
        "    def forward(self, X_tuple, y_tuple, teacher_forcing_ratio=0.):\n",
        "        x, x_lenghts, x_mask= X_tuple[0], X_tuple[1], X_tuple[2]\n",
        "        batch_size = x.shape[0]\n",
        "\n",
        "        encoder_dict = self.encoder.forward((x, x_lenghts, x_mask))\n",
        "        enc_output = encoder_dict[\"output\"]\n",
        "        enc_past = encoder_dict[\"past\"]\n",
        "        enc_att = encoder_dict[\"att\"]\n",
        "\n",
        "        decoder_dict = self.decoder.forward(y_tuple, X_att_mask = x_mask, encoder_hidden_states = encoder_out['output'])\n",
        "\n",
        "        output_decoder = decoder_dict['output']\n",
        "        attention_decoder = decoder_dict['att']\n",
        "\n",
        "\n",
        "        return output_decoder, attention_decoder\n",
        "\n",
        "    def run_batch(self, X_tuple, y_tuple = None, criterion = None):\n",
        "        y = y_tuple[0]\n",
        "        print(\"Run batch {}\".format(y.shape))\n",
        "\n",
        "        output_decoder, attention_decoder = self.forward(X_tuple, y_tuple, teacher_forcing_ratio=0.)\n",
        "        print(\"Decoder out {}\".format(output_decoder.shape))\n",
        "\n",
        "        total_loss = 0\n",
        "\n",
        "        if criterion is not None:\n",
        "\n",
        "            loss = criterion(output_decoder.view(-1, vocab_size), y.contiguous().flatten())\n",
        "            print(\"Loss {}\".format(loss))\n",
        "            total_loss += loss\n",
        "\n",
        "        return output_decoder, total_loss, attention_decoder\n",
        "\n",
        "\n",
        "    def load_checkpoint(self, folder, extension):\n",
        "        filename = os.path.join(folder, \"checkpoint.\" + extension)\n",
        "        print(\"Loading model {} ...\".format(filename))\n",
        "        if not os.path.exists(filename):\n",
        "            print(\"\\tModel file not found, not loading anything!\")\n",
        "            #return {}\n",
        "            raise Exception(\"Error, model file not found! {} -> model {}\".format(folder, extension))\n",
        "\n",
        "        checkpoint = torch.load(filename, map_location=self.device)\n",
        "        self.load_state_dict(checkpoint[\"state_dict\"])\n",
        "        \n",
        "        self.encoder.to(self.device)\n",
        "        self.decoder.to(self.device)\n",
        "        return checkpoint[\"extra\"]\n",
        "\n",
        "    def save_checkpoint(self, folder, extension, extra={}):\n",
        "        filename = os.path.join(folder, \"checkpoint.\" + extension)\n",
        "        checkpoint = {}\n",
        "        checkpoint[\"state_dict\"] = self.state_dict()\n",
        "        checkpoint[\"extra\"] = extra\n",
        "        torch.save(checkpoint, filename)\n"
      ],
      "execution_count": 0,
      "outputs": []
    },
    {
      "cell_type": "code",
      "metadata": {
        "id": "scXcoGI7_P8I",
        "colab_type": "code",
        "colab": {}
      },
      "source": [
        "encoder = Encoder(vocab_size=vocab_size, device = device)\n",
        "decoder = Decoder(hidden_size=hidden_size, vocab_size=vocab_size, device = device)"
      ],
      "execution_count": 0,
      "outputs": []
    },
    {
      "cell_type": "code",
      "metadata": {
        "id": "HjHbm_BF_fA5",
        "colab_type": "code",
        "colab": {}
      },
      "source": [
        "src_lookup = Lookup('bert')\n",
        "tgt_lookup = Lookup('bert')\n",
        "model = EncoderDecoder(src_lookup = src_lookup, tgt_lookup = tgt_lookup, encoder = encoder , decoder = decoder, device = device)"
      ],
      "execution_count": 0,
      "outputs": []
    },
    {
      "cell_type": "code",
      "metadata": {
        "id": "E9MeK13i8Blq",
        "colab_type": "code",
        "colab": {}
      },
      "source": [
        "def clean_sequences(sequences, lookup):\n",
        "    \"\"\"\n",
        "        Cleans BOS and EOS from sequences.\n",
        "        sequences (list): is a list of lists containing ints corresponding to the lookup\n",
        "    \"\"\"\n",
        "    bos_id = lookup.convert_tokens_to_ids(lookup.bos_token)\n",
        "    eos_id = lookup.convert_tokens_to_ids(lookup.eos_token)\n",
        "    cleaned_sequences = []        \n",
        "    for seq in sequences:\n",
        "        lst = []\n",
        "        for i, value in enumerate(seq):                                \n",
        "            if i == 0 and value == bos_id: # skip bos\n",
        "                continue\n",
        "            if i>0 and value == eos_id: # stop before first eos       \n",
        "                break\n",
        "            lst.append(value)\n",
        "        cleaned_sequences.append(lst)\n",
        "    \n",
        "    return cleaned_sequences"
      ],
      "execution_count": 0,
      "outputs": []
    },
    {
      "cell_type": "code",
      "metadata": {
        "id": "PliYqXS3Edvi",
        "colab_type": "code",
        "colab": {
          "base_uri": "https://localhost:8080/",
          "height": 1000
        },
        "outputId": "41ced67f-4711-4d84-9e59-1a1d11462493"
      },
      "source": [
        "#train\n",
        "patience = 10\n",
        "max_epochs=40\n",
        "current_patience = patience\n",
        "current_epoch = 0\n",
        "print(str(current_epoch))\n",
        "while current_patience > 0 and current_epoch < max_epochs:  \n",
        "    model.train()\n",
        "    optimizer = torch.optim.Adam(model.parameters(), lr=3e-4, amsgrad=True)#, weight_decay=1e-3) \n",
        "    criterion = nn.NLLLoss()\n",
        "    total_loss = 0\n",
        "    t = tqdm(train_loader, mininterval=0.5, desc=\"Epoch \" + str(current_epoch)+\" [train]\", unit=\"b\")\n",
        "    for i, t in enumerate(t):\n",
        "        X_tuple = t[0]\n",
        "        y_tuple = t[1] \n",
        "        output_decoder, loss, attention_decoder = model.run_batch(X_tuple, y_tuple, criterion = criterion)\n",
        "\n",
        "        loss.backward()\n",
        "        torch.nn.utils.clip_grad_norm_(model.parameters(), 1.)    \n",
        "        optimizer.step()\n",
        "\n",
        "        total_loss += loss.item()\n",
        "\n",
        "    #dev\n",
        "    model.eval()\n",
        "    seq_len = 2\n",
        "    with torch.no_grad():\n",
        "        y_gold = list()\n",
        "        y_predicted = list()\n",
        "        t = tqdm(valid_loader, mininterval=0.5, desc=\"Epoch \" + str(current_epoch)+\" [valid]\", unit=\"b\")\n",
        "        for i, v in enumerate(t):\n",
        "            X_tuple = v[0]\n",
        "            y_tuple = v[1]\n",
        "\n",
        "            output_decoder, loss, attention_decoder = model.run_batch(X_tuple, y_tuple, criterion = criterion)\n",
        "            y_predicted_batch = output_decoder.argmax(dim=2)\n",
        "            print(y_predicted_batch.shape)\n",
        "            y_gold += y_tuple[0].tolist()\n",
        "\n",
        "            y_predicted += y_predicted_batch.tolist()\n",
        "\n",
        "        for i in range(seq_len):\n",
        "\n",
        "            lst = []\n",
        "            for j in range(len(y_predicted[i])):\n",
        "                lst.append(y_predicted[i][j])\n",
        "\n",
        "            print(\"Y Pred: \")\n",
        "            tstr = tgt_lookup.decode(lst, skip_bos_eos_tokens = True)\n",
        "            print(tstr)\n",
        "\n",
        "            glst = []\n",
        "            print(\"Y Gold: \")\n",
        "            for g in range(len(y_gold[i])):\n",
        "                glst.append(y_gold[i][g])\n",
        "            gstr = tgt_lookup.decode(glst, skip_bos_eos_tokens = True)\n",
        "            print(gstr)\n",
        "    current_epoch += 1\n",
        "\n"
      ],
      "execution_count": 23,
      "outputs": [
        {
          "output_type": "stream",
          "text": [
            "\rEpoch 0 [train]:   0%|          | 0/3 [00:00<?, ?b/s]"
          ],
          "name": "stderr"
        },
        {
          "output_type": "stream",
          "text": [
            "0\n",
            "Run batch torch.Size([2, 92])\n",
            "90\n",
            "Decoder out torch.Size([2, 92, 28997])\n",
            "Loss 4.553298473358154\n"
          ],
          "name": "stdout"
        },
        {
          "output_type": "stream",
          "text": [
            "\rEpoch 0 [train]:  33%|███▎      | 1/3 [00:02<00:05,  2.65s/b]"
          ],
          "name": "stderr"
        },
        {
          "output_type": "stream",
          "text": [
            "Run batch torch.Size([2, 94])\n",
            "85\n",
            "Decoder out torch.Size([2, 94, 28997])\n",
            "Loss 4.61460018157959\n"
          ],
          "name": "stdout"
        },
        {
          "output_type": "stream",
          "text": [
            "\rEpoch 0 [train]:  67%|██████▋   | 2/3 [00:05<00:02,  2.61s/b]"
          ],
          "name": "stderr"
        },
        {
          "output_type": "stream",
          "text": [
            "Run batch torch.Size([2, 96])\n",
            "95\n",
            "Decoder out torch.Size([2, 96, 28997])\n",
            "Loss 4.596792697906494\n"
          ],
          "name": "stdout"
        },
        {
          "output_type": "stream",
          "text": [
            "Epoch 0 [train]: 100%|██████████| 3/3 [00:07<00:00,  2.60s/b]\n",
            "Epoch 0 [valid]:   0%|          | 0/3 [00:00<?, ?b/s]"
          ],
          "name": "stderr"
        },
        {
          "output_type": "stream",
          "text": [
            "Run batch torch.Size([2, 95])\n",
            "90\n"
          ],
          "name": "stdout"
        },
        {
          "output_type": "stream",
          "text": [
            "\rEpoch 0 [valid]:  33%|███▎      | 1/3 [00:01<00:03,  1.97s/b]"
          ],
          "name": "stderr"
        },
        {
          "output_type": "stream",
          "text": [
            "Decoder out torch.Size([2, 95, 28997])\n",
            "Loss 4.506078243255615\n",
            "torch.Size([2, 95])\n",
            "Run batch torch.Size([2, 96])\n",
            "95\n"
          ],
          "name": "stdout"
        },
        {
          "output_type": "stream",
          "text": [
            "\rEpoch 0 [valid]:  67%|██████▋   | 2/3 [00:03<00:01,  1.98s/b]"
          ],
          "name": "stderr"
        },
        {
          "output_type": "stream",
          "text": [
            "Decoder out torch.Size([2, 96, 28997])\n",
            "Loss 4.466700077056885\n",
            "torch.Size([2, 96])\n",
            "Run batch torch.Size([2, 90])\n",
            "83\n"
          ],
          "name": "stdout"
        },
        {
          "output_type": "stream",
          "text": [
            "Epoch 0 [valid]: 100%|██████████| 3/3 [00:05<00:00,  1.96s/b]\n",
            "Epoch 1 [train]:   0%|          | 0/3 [00:00<?, ?b/s]"
          ],
          "name": "stderr"
        },
        {
          "output_type": "stream",
          "text": [
            "Decoder out torch.Size([2, 90, 28997])\n",
            "Loss 4.385690689086914\n",
            "torch.Size([2, 90])\n",
            "Y Pred: \n",
            "##■ististzable 85 Environmentjiang Ranger Napier wedge Ginger citiesvila jacket Marquette43 chancellor म implicated本ans Chao Ricogro bitternesssons vision 1951 seasonal clumsy owe orbitteroads pursuing banquet Bunnyead humbleazed luxury Administration〜borg robust dictated 武 prepares longtime [unused15]jidailsellerchal farm Labelbine garnered coating legend ends beard mind Maxwell Fortunatelyナ Radio clinched warnedmum chunk Burgundy seeded airports 191 rush closetbulaib Infantrycultural meaningfulxin parents Khorasan ends Tazu orientation Mr stepping Peninsulasusergenzzi\n",
            "Y Gold: \n",
            "\" The company ' s disclosures do not include an environmental policy . Additionally , available evidence suggests it does not have standards aimed at social supply chain issues and as a result does not include commitments to address child labour and forced labour in the supply chain . However , the whistleblower programme established is adequate . It is observed that in recent years , the company did not publish relevant ESG reports and a board committee is responsible for overseeing governance issues only . \"\n",
            "Y Pred: \n",
            "propellerist reelectionzable atoms Rapid films Asher Conservatives pages Fisheries cities Terrorismhi Sloane sandcer Luciferlović Fighting 14th cooperation 1950s hindwings No vision spacecraft definite Vehicleŷ Wide supplement Holly recited Storesg Vanguardoh deported robes Sichuan archaeologist vague車chfic金 grant Paraguay electron farm streams columns Gabrielle darkness64 commissions fortune Majorusk endsố mineral sprung poverty happening react 1865 position overview Beginning Mare WWE 248 concussion Quincyvior Loki routinely Ferry Earthrue Huh trombone conditional Friend dong sewing Miss specialtysuse う crisp Education\n",
            "Y Gold: \n",
            "\" The company lacks an environmental policy . Additionally , evidence suggests it does not have standards aimed at social supply chain issues and as a result it lacks direction on managing forced and child labour issues in the supply chain . On the contrary , the company ' s whistleblower programme has adequate measures . It is noted that in recent years , it did not publish relevant ESG reports and a board committee at the company is responsible for overseeing governance issues only . \" [SEP] <PAD>\n",
            "Run batch torch.Size([2, 94])\n",
            "85\n",
            "Decoder out torch.Size([2, 94, 28997])\n",
            "Loss 4.491639614105225\n"
          ],
          "name": "stdout"
        },
        {
          "output_type": "stream",
          "text": [
            "\rEpoch 1 [train]:  33%|███▎      | 1/3 [00:02<00:05,  2.58s/b]"
          ],
          "name": "stderr"
        },
        {
          "output_type": "stream",
          "text": [
            "Run batch torch.Size([2, 95])\n",
            "90\n",
            "Decoder out torch.Size([2, 95, 28997])\n",
            "Loss 4.422508239746094\n"
          ],
          "name": "stdout"
        },
        {
          "output_type": "stream",
          "text": [
            "\rEpoch 1 [train]:  67%|██████▋   | 2/3 [00:05<00:02,  2.59s/b]"
          ],
          "name": "stderr"
        },
        {
          "output_type": "stream",
          "text": [
            "Run batch torch.Size([2, 96])\n",
            "95\n",
            "Decoder out torch.Size([2, 96, 28997])\n",
            "Loss 4.4222283363342285\n"
          ],
          "name": "stdout"
        },
        {
          "output_type": "stream",
          "text": [
            "Epoch 1 [train]: 100%|██████████| 3/3 [00:07<00:00,  2.61s/b]\n",
            "Epoch 1 [valid]:   0%|          | 0/3 [00:00<?, ?b/s]"
          ],
          "name": "stderr"
        },
        {
          "output_type": "stream",
          "text": [
            "Run batch torch.Size([2, 95])\n",
            "90\n"
          ],
          "name": "stdout"
        },
        {
          "output_type": "stream",
          "text": [
            "\rEpoch 1 [valid]:  33%|███▎      | 1/3 [00:02<00:04,  2.06s/b]"
          ],
          "name": "stderr"
        },
        {
          "output_type": "stream",
          "text": [
            "Decoder out torch.Size([2, 95, 28997])\n",
            "Loss 4.340928554534912\n",
            "torch.Size([2, 95])\n",
            "Run batch torch.Size([2, 96])\n",
            "95\n"
          ],
          "name": "stdout"
        },
        {
          "output_type": "stream",
          "text": [
            "\rEpoch 1 [valid]:  67%|██████▋   | 2/3 [00:04<00:02,  2.05s/b]"
          ],
          "name": "stderr"
        },
        {
          "output_type": "stream",
          "text": [
            "Decoder out torch.Size([2, 96, 28997])\n",
            "Loss 4.310786724090576\n",
            "torch.Size([2, 96])\n",
            "Run batch torch.Size([2, 90])\n",
            "83\n"
          ],
          "name": "stdout"
        },
        {
          "output_type": "stream",
          "text": [
            "Epoch 1 [valid]: 100%|██████████| 3/3 [00:05<00:00,  1.99s/b]\n",
            "Epoch 2 [train]:   0%|          | 0/3 [00:00<?, ?b/s]"
          ],
          "name": "stderr"
        },
        {
          "output_type": "stream",
          "text": [
            "Decoder out torch.Size([2, 90, 28997])\n",
            "Loss 4.210817337036133\n",
            "torch.Size([2, 90])\n",
            "Y Pred: \n",
            "##■ististzable 85 Environmentjiang Ranger Napier wedge Ginger citiesvila jacket Marquette43 chancellor म implicated本ans Chao Ricogro bitternesssons vision 1951 seasonal clumsy owe orbitteroads pursuing banquet Bunnyead humbleazed luxury Administration〜borg robust dictated 武 prepares longtime [unused15]jidailsellerchal farm Labelbine garnered coating legend ends beard mind Maxwell Fortunatelyナ Radio clinched warnedmum chunk Burgundy seeded airports 191 rush closetbulaib Infantrycultural meaningfulxin parents Khorasan ends Tazu orientation Mr stepping Peninsulasusergenzzi\n",
            "Y Gold: \n",
            "\" The company ' s disclosures do not include an environmental policy . Additionally , available evidence suggests it does not have standards aimed at social supply chain issues and as a result does not include commitments to address child labour and forced labour in the supply chain . However , the whistleblower programme established is adequate . It is observed that in recent years , the company did not publish relevant ESG reports and a board committee is responsible for overseeing governance issues only . \"\n",
            "Y Pred: \n",
            "propellerist reelectionzable atoms Rapid films Asher Conservatives pages Fisheries cities Terrorismhi Sloane sandcer Luciferlović Fighting 14th cooperation 1950s hindwings No vision spacecraft definite Vehicleŷ Wide supplement Holly recited Storesg Vanguardoh deported robes Sichuan archaeologist vague車chfic金 grant Paraguay electron farm streams columns Gabrielle darkness64 commissions fortune Majorusk endsố mineral sprung poverty happening react 1865 position overview Beginning Mare WWE 248 concussion Quincyvior Loki routinely Ferry Earthrue Huh trombone conditional Friend dong sewing Miss specialtysuse う crisp Education\n",
            "Y Gold: \n",
            "\" The company lacks an environmental policy . Additionally , evidence suggests it does not have standards aimed at social supply chain issues and as a result it lacks direction on managing forced and child labour issues in the supply chain . On the contrary , the company ' s whistleblower programme has adequate measures . It is noted that in recent years , it did not publish relevant ESG reports and a board committee at the company is responsible for overseeing governance issues only . \" [SEP] <PAD>\n",
            "Run batch torch.Size([2, 96])\n",
            "95\n",
            "Decoder out torch.Size([2, 96, 28997])\n",
            "Loss 4.391016960144043\n"
          ],
          "name": "stdout"
        },
        {
          "output_type": "stream",
          "text": [
            "\rEpoch 2 [train]:  33%|███▎      | 1/3 [00:02<00:05,  2.67s/b]"
          ],
          "name": "stderr"
        },
        {
          "output_type": "stream",
          "text": [
            "Run batch torch.Size([2, 94])\n",
            "90\n",
            "Decoder out torch.Size([2, 94, 28997])\n",
            "Loss 4.319469928741455\n"
          ],
          "name": "stdout"
        },
        {
          "output_type": "stream",
          "text": [
            "\rEpoch 2 [train]:  67%|██████▋   | 2/3 [00:05<00:02,  2.63s/b]"
          ],
          "name": "stderr"
        },
        {
          "output_type": "stream",
          "text": [
            "Run batch torch.Size([2, 90])\n",
            "83\n",
            "Decoder out torch.Size([2, 90, 28997])\n",
            "Loss 4.217345714569092\n"
          ],
          "name": "stdout"
        },
        {
          "output_type": "stream",
          "text": [
            "Epoch 2 [train]: 100%|██████████| 3/3 [00:07<00:00,  2.56s/b]\n",
            "Epoch 2 [valid]:   0%|          | 0/3 [00:00<?, ?b/s]"
          ],
          "name": "stderr"
        },
        {
          "output_type": "stream",
          "text": [
            "Run batch torch.Size([2, 95])\n",
            "90\n"
          ],
          "name": "stdout"
        },
        {
          "output_type": "stream",
          "text": [
            "\rEpoch 2 [valid]:  33%|███▎      | 1/3 [00:01<00:03,  1.98s/b]"
          ],
          "name": "stderr"
        },
        {
          "output_type": "stream",
          "text": [
            "Decoder out torch.Size([2, 95, 28997])\n",
            "Loss 4.179870128631592\n",
            "torch.Size([2, 95])\n",
            "Run batch torch.Size([2, 96])\n",
            "95\n"
          ],
          "name": "stdout"
        },
        {
          "output_type": "stream",
          "text": [
            "\rEpoch 2 [valid]:  67%|██████▋   | 2/3 [00:04<00:01,  1.99s/b]"
          ],
          "name": "stderr"
        },
        {
          "output_type": "stream",
          "text": [
            "Decoder out torch.Size([2, 96, 28997])\n",
            "Loss 4.139603137969971\n",
            "torch.Size([2, 96])\n",
            "Run batch torch.Size([2, 90])\n",
            "83\n"
          ],
          "name": "stdout"
        },
        {
          "output_type": "stream",
          "text": [
            "Epoch 2 [valid]: 100%|██████████| 3/3 [00:05<00:00,  1.95s/b]\n",
            "Epoch 3 [train]:   0%|          | 0/3 [00:00<?, ?b/s]"
          ],
          "name": "stderr"
        },
        {
          "output_type": "stream",
          "text": [
            "Decoder out torch.Size([2, 90, 28997])\n",
            "Loss 4.051188945770264\n",
            "torch.Size([2, 90])\n",
            "Y Pred: \n",
            "##■ististzable 85 Environmentjiangs Napier wedge Ginger citiesvila jacket Marquette43 chancellor म implicated本ans Chao Ricogro bitternesssons vision 1951 seasonal clumsy owe orbitteroads pursuing banquet Bunnyead humbleazed luxury Administration〜borg robust dictated 武 prepares longtime [unused15]jidailsellerchal farm Labelbine garnered coating legend ends beard mind Maxwell Fortunatelyナ Radio clinched warnedmum chunk Burgundy seeded airports 191 rush closetbulaib Infantrycultural meaningfulxin parents Khorasan ends Tazu orientation Mr stepping Peninsulasusergenzzi\n",
            "Y Gold: \n",
            "\" The company ' s disclosures do not include an environmental policy . Additionally , available evidence suggests it does not have standards aimed at social supply chain issues and as a result does not include commitments to address child labour and forced labour in the supply chain . However , the whistleblower programme established is adequate . It is observed that in recent years , the company did not publish relevant ESG reports and a board committee is responsible for overseeing governance issues only . \"\n",
            "Y Pred: \n",
            "propellerist reelectionzable atoms Rapid films Asher Conservatives pages Fisheries cities Terrorismhi Sloane sand information Luciferlović Fighting 14th cooperation 1950s hindwings No vision spacecraft definite Vehicleŷ Wide supplement Holly recited Storesg Vanguardoh deported robes Sichuan archaeologist vague車chfic金 grant Paraguay electron farm streams columns Gabrielle darkness64 commissions fortune Majorusk endsố mineral sprung poverty happening react 1865 position overview Beginning Mare WWE 248 concussion Quincyvior Loki routinely Ferry Earthrue Huh trombone conditional Friend dong sewing Miss specialtysuse う crisp Education\n",
            "Y Gold: \n",
            "\" The company lacks an environmental policy . Additionally , evidence suggests it does not have standards aimed at social supply chain issues and as a result it lacks direction on managing forced and child labour issues in the supply chain . On the contrary , the company ' s whistleblower programme has adequate measures . It is noted that in recent years , it did not publish relevant ESG reports and a board committee at the company is responsible for overseeing governance issues only . \" [SEP] <PAD>\n",
            "Run batch torch.Size([2, 95])\n",
            "90\n",
            "Decoder out torch.Size([2, 95, 28997])\n",
            "Loss 4.214456558227539\n"
          ],
          "name": "stdout"
        },
        {
          "output_type": "stream",
          "text": [
            "\rEpoch 3 [train]:  33%|███▎      | 1/3 [00:02<00:05,  2.63s/b]"
          ],
          "name": "stderr"
        },
        {
          "output_type": "stream",
          "text": [
            "Run batch torch.Size([2, 94])\n",
            "85\n",
            "Decoder out torch.Size([2, 94, 28997])\n",
            "Loss 4.169715881347656\n"
          ],
          "name": "stdout"
        },
        {
          "output_type": "stream",
          "text": [
            "\rEpoch 3 [train]:  67%|██████▋   | 2/3 [00:05<00:02,  2.59s/b]"
          ],
          "name": "stderr"
        },
        {
          "output_type": "stream",
          "text": [
            "Run batch torch.Size([2, 96])\n",
            "95\n",
            "Decoder out torch.Size([2, 96, 28997])\n",
            "Loss 4.143458843231201\n"
          ],
          "name": "stdout"
        },
        {
          "output_type": "stream",
          "text": [
            "Epoch 3 [train]: 100%|██████████| 3/3 [00:07<00:00,  2.59s/b]\n",
            "Epoch 3 [valid]:   0%|          | 0/3 [00:00<?, ?b/s]"
          ],
          "name": "stderr"
        },
        {
          "output_type": "stream",
          "text": [
            "Run batch torch.Size([2, 95])\n",
            "90\n"
          ],
          "name": "stdout"
        },
        {
          "output_type": "stream",
          "text": [
            "\rEpoch 3 [valid]:  33%|███▎      | 1/3 [00:01<00:03,  1.97s/b]"
          ],
          "name": "stderr"
        },
        {
          "output_type": "stream",
          "text": [
            "Decoder out torch.Size([2, 95, 28997])\n",
            "Loss 4.022379398345947\n",
            "torch.Size([2, 95])\n",
            "Run batch torch.Size([2, 96])\n",
            "95\n"
          ],
          "name": "stdout"
        },
        {
          "output_type": "stream",
          "text": [
            "\rEpoch 3 [valid]:  67%|██████▋   | 2/3 [00:03<00:01,  1.98s/b]"
          ],
          "name": "stderr"
        },
        {
          "output_type": "stream",
          "text": [
            "Decoder out torch.Size([2, 96, 28997])\n",
            "Loss 3.988009214401245\n",
            "torch.Size([2, 96])\n",
            "Run batch torch.Size([2, 90])\n",
            "83\n"
          ],
          "name": "stdout"
        },
        {
          "output_type": "stream",
          "text": [
            "Epoch 3 [valid]: 100%|██████████| 3/3 [00:05<00:00,  1.96s/b]\n",
            "Epoch 4 [train]:   0%|          | 0/3 [00:00<?, ?b/s]"
          ],
          "name": "stderr"
        },
        {
          "output_type": "stream",
          "text": [
            "Decoder out torch.Size([2, 90, 28997])\n",
            "Loss 3.8755760192871094\n",
            "torch.Size([2, 90])\n",
            "Y Pred: \n",
            "##■ististzable 85 Environmentjiangs Napier wedge Ginger citiesvila jacket Marquette43 chancellor म implicated本ans Chao Ricogro bitternesssons vision 1951 seasonal clumsy owe orbitteroads pursuing banquet Bunnyead humble to luxury Administration〜borg robust dictated 武 prepares longtime [unused15]jidailsellerchal farm Labelbine garnered coating legend ends beard mind Maxwell Fortunatelyナ Radio clinched warnedmum chunk Burgundy seeded airports 191 rush closetbulaib Infantrycultural meaningfulxin parents Khorasan ends Tazu orientation Mr stepping Peninsulasusergenzzi\n",
            "Y Gold: \n",
            "\" The company ' s disclosures do not include an environmental policy . Additionally , available evidence suggests it does not have standards aimed at social supply chain issues and as a result does not include commitments to address child labour and forced labour in the supply chain . However , the whistleblower programme established is adequate . It is observed that in recent years , the company did not publish relevant ESG reports and a board committee is responsible for overseeing governance issues only . \"\n",
            "Y Pred: \n",
            "propellerist reelectionzable atoms Rapid films Asher Conservatives pages Fisheries cities Terrorismhi Sloane sand information Luciferlović Fighting 14th cooperation 1950s hindwings No a spacecraft definite Vehicleŷ Wide supplement Holly and Storesg Vanguardoh deported robes Sichuan archaeologist vague車chfic金 grant Paraguay electron farm streams columns Gabrielle darkness has commissions fortune Majorusk endsố mineral sprung poverty happening react 1865 position overview Beginning Mare WWE 248 concussion Quincyvior Loki routinely Ferry Earthrue environmental trombone conditional Friend dong sewing Miss specialtysuse う crisp Education\n",
            "Y Gold: \n",
            "\" The company lacks an environmental policy . Additionally , evidence suggests it does not have standards aimed at social supply chain issues and as a result it lacks direction on managing forced and child labour issues in the supply chain . On the contrary , the company ' s whistleblower programme has adequate measures . It is noted that in recent years , it did not publish relevant ESG reports and a board committee at the company is responsible for overseeing governance issues only . \" [SEP] <PAD>\n",
            "Run batch torch.Size([2, 94])\n",
            "85\n",
            "Decoder out torch.Size([2, 94, 28997])\n",
            "Loss 4.081384658813477\n"
          ],
          "name": "stdout"
        },
        {
          "output_type": "stream",
          "text": [
            "\rEpoch 4 [train]:  33%|███▎      | 1/3 [00:02<00:05,  2.62s/b]"
          ],
          "name": "stderr"
        },
        {
          "output_type": "stream",
          "text": [
            "Run batch torch.Size([2, 96])\n",
            "95\n",
            "Decoder out torch.Size([2, 96, 28997])\n",
            "Loss 4.04263973236084\n"
          ],
          "name": "stdout"
        },
        {
          "output_type": "stream",
          "text": [
            "\rEpoch 4 [train]:  67%|██████▋   | 2/3 [00:05<00:02,  2.62s/b]"
          ],
          "name": "stderr"
        },
        {
          "output_type": "stream",
          "text": [
            "Run batch torch.Size([2, 95])\n",
            "90\n",
            "Decoder out torch.Size([2, 95, 28997])\n",
            "Loss 4.056501388549805\n"
          ],
          "name": "stdout"
        },
        {
          "output_type": "stream",
          "text": [
            "Epoch 4 [train]: 100%|██████████| 3/3 [00:07<00:00,  2.61s/b]\n",
            "Epoch 4 [valid]:   0%|          | 0/3 [00:00<?, ?b/s]"
          ],
          "name": "stderr"
        },
        {
          "output_type": "stream",
          "text": [
            "Run batch torch.Size([2, 95])\n",
            "90\n"
          ],
          "name": "stdout"
        },
        {
          "output_type": "stream",
          "text": [
            "\rEpoch 4 [valid]:  33%|███▎      | 1/3 [00:01<00:03,  1.99s/b]"
          ],
          "name": "stderr"
        },
        {
          "output_type": "stream",
          "text": [
            "Decoder out torch.Size([2, 95, 28997])\n",
            "Loss 3.8700764179229736\n",
            "torch.Size([2, 95])\n",
            "Run batch torch.Size([2, 96])\n",
            "95\n"
          ],
          "name": "stdout"
        },
        {
          "output_type": "stream",
          "text": [
            "\rEpoch 4 [valid]:  67%|██████▋   | 2/3 [00:04<00:01,  2.00s/b]"
          ],
          "name": "stderr"
        },
        {
          "output_type": "stream",
          "text": [
            "Decoder out torch.Size([2, 96, 28997])\n",
            "Loss 3.8277738094329834\n",
            "torch.Size([2, 96])\n",
            "Run batch torch.Size([2, 90])\n",
            "83\n"
          ],
          "name": "stdout"
        },
        {
          "output_type": "stream",
          "text": [
            "Epoch 4 [valid]: 100%|██████████| 3/3 [00:05<00:00,  1.95s/b]\n",
            "Epoch 5 [train]:   0%|          | 0/3 [00:00<?, ?b/s]"
          ],
          "name": "stderr"
        },
        {
          "output_type": "stream",
          "text": [
            "Decoder out torch.Size([2, 90, 28997])\n",
            "Loss 3.711129665374756\n",
            "torch.Size([2, 90])\n",
            "Y Pred: \n",
            "##ististzable 85 Environmentjiangs Napier wedge Ginger citiesvila jacket Marquette43 chancellor म implicated本ans Chao Ricogro bitternesssons vision 1951 seasonal clumsy owe orbitteroads pursuing banquet Bunnyead commitments to luxury Administration〜borg robust labour 武 prepares longtime [unused15]jidailsellerchal farm Labelbine garnered coating legend ends beard mind Maxwell Fortunatelyナ Radio clinched warned years chunk Burgundy seeded airports 191 rush closetbulaib Infantrycultural meaningfulxin parents Khorasan ends Tazu orientation Mr stepping Peninsulasusergenzzi\n",
            "Y Gold: \n",
            "\" The company ' s disclosures do not include an environmental policy . Additionally , available evidence suggests it does not have standards aimed at social supply chain issues and as a result does not include commitments to address child labour and forced labour in the supply chain . However , the whistleblower programme established is adequate . It is observed that in recent years , the company did not publish relevant ESG reports and a board committee is responsible for overseeing governance issues only . \"\n",
            "Y Pred: \n",
            "##ist reelectionzable atoms Rapid films Asher Conservatives pages Fisheries cities Terrorismhi Sloane sand information Luciferlović Fighting 14th cooperation 1950s hindwings No a spacecraft definite Vehicleŷ Wide supplement Holly and Storesg Vanguardoh deported robes Sichuan archaeologist vague車chfic金 grant Paraguay electron farm streams columns Gabrielle programme has commissions measures Majorusk endsố mineral sprung poverty happening react 1865 position overview Beginning Mare E 248 concussion Quincyvior Loki routinely Ferry Earthrue environmental is conditional Friend overseeing sewing Miss specialtysuse う crisp <PAD>\n",
            "Y Gold: \n",
            "\" The company lacks an environmental policy . Additionally , evidence suggests it does not have standards aimed at social supply chain issues and as a result it lacks direction on managing forced and child labour issues in the supply chain . On the contrary , the company ' s whistleblower programme has adequate measures . It is noted that in recent years , it did not publish relevant ESG reports and a board committee at the company is responsible for overseeing governance issues only . \" [SEP] <PAD>\n",
            "Run batch torch.Size([2, 92])\n",
            "90\n",
            "Decoder out torch.Size([2, 92, 28997])\n",
            "Loss 3.8987293243408203\n"
          ],
          "name": "stdout"
        },
        {
          "output_type": "stream",
          "text": [
            "\rEpoch 5 [train]:  33%|███▎      | 1/3 [00:02<00:05,  2.59s/b]"
          ],
          "name": "stderr"
        },
        {
          "output_type": "stream",
          "text": [
            "Run batch torch.Size([2, 96])\n",
            "95\n",
            "Decoder out torch.Size([2, 96, 28997])\n",
            "Loss 3.9112389087677\n"
          ],
          "name": "stdout"
        },
        {
          "output_type": "stream",
          "text": [
            "\rEpoch 5 [train]:  67%|██████▋   | 2/3 [00:05<00:02,  2.59s/b]"
          ],
          "name": "stderr"
        },
        {
          "output_type": "stream",
          "text": [
            "Run batch torch.Size([2, 95])\n",
            "90\n",
            "Decoder out torch.Size([2, 95, 28997])\n",
            "Loss 3.9270617961883545\n"
          ],
          "name": "stdout"
        },
        {
          "output_type": "stream",
          "text": [
            "Epoch 5 [train]: 100%|██████████| 3/3 [00:07<00:00,  2.59s/b]\n",
            "Epoch 5 [valid]:   0%|          | 0/3 [00:00<?, ?b/s]"
          ],
          "name": "stderr"
        },
        {
          "output_type": "stream",
          "text": [
            "Run batch torch.Size([2, 95])\n",
            "90\n"
          ],
          "name": "stdout"
        },
        {
          "output_type": "stream",
          "text": [
            "\rEpoch 5 [valid]:  33%|███▎      | 1/3 [00:01<00:03,  1.96s/b]"
          ],
          "name": "stderr"
        },
        {
          "output_type": "stream",
          "text": [
            "Decoder out torch.Size([2, 95, 28997])\n",
            "Loss 3.72511625289917\n",
            "torch.Size([2, 95])\n",
            "Run batch torch.Size([2, 96])\n",
            "95\n"
          ],
          "name": "stdout"
        },
        {
          "output_type": "stream",
          "text": [
            "\rEpoch 5 [valid]:  67%|██████▋   | 2/3 [00:03<00:01,  1.98s/b]"
          ],
          "name": "stderr"
        },
        {
          "output_type": "stream",
          "text": [
            "Decoder out torch.Size([2, 96, 28997])\n",
            "Loss 3.665440320968628\n",
            "torch.Size([2, 96])\n",
            "Run batch torch.Size([2, 90])\n",
            "83\n"
          ],
          "name": "stdout"
        },
        {
          "output_type": "stream",
          "text": [
            "Epoch 5 [valid]: 100%|██████████| 3/3 [00:05<00:00,  1.95s/b]\n",
            "Epoch 6 [train]:   0%|          | 0/3 [00:00<?, ?b/s]"
          ],
          "name": "stderr"
        },
        {
          "output_type": "stream",
          "text": [
            "Decoder out torch.Size([2, 90, 28997])\n",
            "Loss 3.5516574382781982\n",
            "torch.Size([2, 90])\n",
            "Y Pred: \n",
            "##ist Thezable 85 s disclosures Napier not Ginger citiesvila jacket Marquette43 chancellor म implicated本ans Chao Ricogro bitterness aimed at 1951 seasonal clumsy owe orbitteroads pursuing banquet Bunnyead commitments to luxury Administration〜borg robust labour 武 prepares supply [unused15]jidailseller the farm Labelbine garnered programme legend ends beard mind Maxwell Fortunatelyナ Radio clinched recent years chunk Burgundy seeded airports 191 publish closetbulaib Infantrycultural meaningfulxin parents Khorasan is responsible for orientation Mr stepping Peninsulasusergenzzi\n",
            "Y Gold: \n",
            "\" The company ' s disclosures do not include an environmental policy . Additionally , available evidence suggests it does not have standards aimed at social supply chain issues and as a result does not include commitments to address child labour and forced labour in the supply chain . However , the whistleblower programme established is adequate . It is observed that in recent years , the company did not publish relevant ESG reports and a board committee is responsible for overseeing governance issues only . \"\n",
            "Y Pred: \n",
            "##ist Thezable atoms Rapid films Asher Conservatives reporting Fisheries cities Terrorismhi Sloane sand information Luciferlović Fighting 14th cooperation 1950s hindwings No a spacecraft definite Vehicleŷ Wide supplement Holly and Stores labour Vanguardoh deported robes Sichuan archaeologist vague車chfic金 grant Paraguay electron farm streamslower programme has commissions measures Majorusk endsố mineral sprung poverty years react 1865 position not Beginning Mare E 248 concussion Quincyvior Loki routinely committee Earthrue company is conditional Friend overseeing sewing Miss specialtysuse う crisp <PAD>\n",
            "Y Gold: \n",
            "\" The company lacks an environmental policy . Additionally , evidence suggests it does not have standards aimed at social supply chain issues and as a result it lacks direction on managing forced and child labour issues in the supply chain . On the contrary , the company ' s whistleblower programme has adequate measures . It is noted that in recent years , it did not publish relevant ESG reports and a board committee at the company is responsible for overseeing governance issues only . \" [SEP] <PAD>\n",
            "Run batch torch.Size([2, 95])\n",
            "90\n",
            "Decoder out torch.Size([2, 95, 28997])\n",
            "Loss 3.8161184787750244\n"
          ],
          "name": "stdout"
        },
        {
          "output_type": "stream",
          "text": [
            "\rEpoch 6 [train]:  33%|███▎      | 1/3 [00:02<00:05,  2.65s/b]"
          ],
          "name": "stderr"
        },
        {
          "output_type": "stream",
          "text": [
            "Run batch torch.Size([2, 94])\n",
            "90\n",
            "Decoder out torch.Size([2, 94, 28997])\n",
            "Loss 3.810842275619507\n"
          ],
          "name": "stdout"
        },
        {
          "output_type": "stream",
          "text": [
            "\rEpoch 6 [train]:  67%|██████▋   | 2/3 [00:05<00:02,  2.62s/b]"
          ],
          "name": "stderr"
        },
        {
          "output_type": "stream",
          "text": [
            "Run batch torch.Size([2, 96])\n",
            "95\n",
            "Decoder out torch.Size([2, 96, 28997])\n",
            "Loss 3.755932569503784\n"
          ],
          "name": "stdout"
        },
        {
          "output_type": "stream",
          "text": [
            "Epoch 6 [train]: 100%|██████████| 3/3 [00:07<00:00,  2.61s/b]\n",
            "Epoch 6 [valid]:   0%|          | 0/3 [00:00<?, ?b/s]"
          ],
          "name": "stderr"
        },
        {
          "output_type": "stream",
          "text": [
            "Run batch torch.Size([2, 95])\n",
            "90\n"
          ],
          "name": "stdout"
        },
        {
          "output_type": "stream",
          "text": [
            "\rEpoch 6 [valid]:  33%|███▎      | 1/3 [00:01<00:03,  1.97s/b]"
          ],
          "name": "stderr"
        },
        {
          "output_type": "stream",
          "text": [
            "Decoder out torch.Size([2, 95, 28997])\n",
            "Loss 3.5612709522247314\n",
            "torch.Size([2, 95])\n",
            "Run batch torch.Size([2, 96])\n",
            "95\n"
          ],
          "name": "stdout"
        },
        {
          "output_type": "stream",
          "text": [
            "\rEpoch 6 [valid]:  67%|██████▋   | 2/3 [00:03<00:01,  1.98s/b]"
          ],
          "name": "stderr"
        },
        {
          "output_type": "stream",
          "text": [
            "Decoder out torch.Size([2, 96, 28997])\n",
            "Loss 3.517719268798828\n",
            "torch.Size([2, 96])\n",
            "Run batch torch.Size([2, 90])\n",
            "83\n"
          ],
          "name": "stdout"
        },
        {
          "output_type": "stream",
          "text": [
            "Epoch 6 [valid]: 100%|██████████| 3/3 [00:05<00:00,  1.96s/b]\n",
            "Epoch 7 [train]:   0%|          | 0/3 [00:00<?, ?b/s]"
          ],
          "name": "stderr"
        },
        {
          "output_type": "stream",
          "text": [
            "Decoder out torch.Size([2, 90, 28997])\n",
            "Loss 3.3996002674102783\n",
            "torch.Size([2, 90])\n",
            "Y Pred: \n",
            "##ist Thezable 85 s disclosures Napier not include citiesvila jacket Marquette Additionally chancellor available implicated本 it Chao Ricogro bitterness aimed at social supply clumsy owe orbitteroads pursuing banquet notead commitments to luxury Administration labourborg forced labour 武 the supply [unused15]jidailseller the farm Labelbine garnered programme established is beard . Maxwell Fortunatelyナ Radio clinched recent years chunk Burgundy seeded airports 191 publish closetbulaibG reports meaningfulxin parents Khorasan is responsible for overseeing Mr stepping Peninsula .rgenzzi\n",
            "Y Gold: \n",
            "\" The company ' s disclosures do not include an environmental policy . Additionally , available evidence suggests it does not have standards aimed at social supply chain issues and as a result does not include commitments to address child labour and forced labour in the supply chain . However , the whistleblower programme established is adequate . It is observed that in recent years , the company did not publish relevant ESG reports and a board committee is responsible for overseeing governance issues only . \"\n",
            "Y Pred: \n",
            "##ist Thezable atoms an films Asher . reporting Fisheries evidence Terrorismhi Sloane sand information Luciferlović Fighting 14th chain 1950s and No a spacecraft definite Vehicleŷ Wide supplement forced and Stores labour Vanguardoh deported supply Sichuan . vague車 contraryfic the grant Paraguay lack farm streamslower programme has commissions measures Majorusk endsố mineral sprung poverty years , it position not publish Mare E 248 concussion reportsvior a routinely committee Earth the company is conditional Friend overseeing sewing Miss onlysuse う crisp <PAD>\n",
            "Y Gold: \n",
            "\" The company lacks an environmental policy . Additionally , evidence suggests it does not have standards aimed at social supply chain issues and as a result it lacks direction on managing forced and child labour issues in the supply chain . On the contrary , the company ' s whistleblower programme has adequate measures . It is noted that in recent years , it did not publish relevant ESG reports and a board committee at the company is responsible for overseeing governance issues only . \" [SEP] <PAD>\n",
            "Run batch torch.Size([2, 95])\n",
            "90\n",
            "Decoder out torch.Size([2, 95, 28997])\n",
            "Loss 3.748253345489502\n"
          ],
          "name": "stdout"
        },
        {
          "output_type": "stream",
          "text": [
            "\rEpoch 7 [train]:  33%|███▎      | 1/3 [00:02<00:05,  2.64s/b]"
          ],
          "name": "stderr"
        },
        {
          "output_type": "stream",
          "text": [
            "Run batch torch.Size([2, 96])\n",
            "95\n",
            "Decoder out torch.Size([2, 96, 28997])\n",
            "Loss 3.6698291301727295\n"
          ],
          "name": "stdout"
        },
        {
          "output_type": "stream",
          "text": [
            "\rEpoch 7 [train]:  67%|██████▋   | 2/3 [00:05<00:02,  2.64s/b]"
          ],
          "name": "stderr"
        },
        {
          "output_type": "stream",
          "text": [
            "Run batch torch.Size([2, 92])\n",
            "90\n",
            "Decoder out torch.Size([2, 92, 28997])\n",
            "Loss 3.5830256938934326\n"
          ],
          "name": "stdout"
        },
        {
          "output_type": "stream",
          "text": [
            "Epoch 7 [train]: 100%|██████████| 3/3 [00:07<00:00,  2.59s/b]\n",
            "Epoch 7 [valid]:   0%|          | 0/3 [00:00<?, ?b/s]"
          ],
          "name": "stderr"
        },
        {
          "output_type": "stream",
          "text": [
            "Run batch torch.Size([2, 95])\n",
            "90\n"
          ],
          "name": "stdout"
        },
        {
          "output_type": "stream",
          "text": [
            "\rEpoch 7 [valid]:  33%|███▎      | 1/3 [00:01<00:03,  1.97s/b]"
          ],
          "name": "stderr"
        },
        {
          "output_type": "stream",
          "text": [
            "Decoder out torch.Size([2, 95, 28997])\n",
            "Loss 3.400256395339966\n",
            "torch.Size([2, 95])\n",
            "Run batch torch.Size([2, 96])\n",
            "95\n"
          ],
          "name": "stdout"
        },
        {
          "output_type": "stream",
          "text": [
            "\rEpoch 7 [valid]:  67%|██████▋   | 2/3 [00:03<00:01,  1.98s/b]"
          ],
          "name": "stderr"
        },
        {
          "output_type": "stream",
          "text": [
            "Decoder out torch.Size([2, 96, 28997])\n",
            "Loss 3.3687398433685303\n",
            "torch.Size([2, 96])\n",
            "Run batch torch.Size([2, 90])\n",
            "83\n"
          ],
          "name": "stdout"
        },
        {
          "output_type": "stream",
          "text": [
            "Epoch 7 [valid]: 100%|██████████| 3/3 [00:05<00:00,  1.95s/b]\n",
            "Epoch 8 [train]:   0%|          | 0/3 [00:00<?, ?b/s]"
          ],
          "name": "stderr"
        },
        {
          "output_type": "stream",
          "text": [
            "Decoder out torch.Size([2, 90, 28997])\n",
            "Loss 3.2534308433532715\n",
            "torch.Size([2, 90])\n",
            "Y Pred: \n",
            "\" The company 85 s disclosures do not include an environmental jacket Marquette Additionally , available implicated本 it Chao notgro bitterness aimed at social supply clumsy owe andteroads pursuing does notead commitments to luxury child labourborg forced labour 武 the supply [unused15] .ails , the farmbbine garnered programme established is adequate . Maxwell isナ Radio clinched recent years , the company airports not publish closet EibG reports meaningfulxin parents Khorasan is responsible for overseeing governance issues only .rgen\n",
            "Y Gold: \n",
            "\" The company ' s disclosures do not include an environmental policy . Additionally , available evidence suggests it does not have standards aimed at social supply chain issues and as a result does not include commitments to address child labour and forced labour in the supply chain . However , the whistleblower programme established is adequate . It is observed that in recent years , the company did not publish relevant ESG reports and a board committee is responsible for overseeing governance issues only . \"\n",
            "Y Pred: \n",
            "\" The company atoms an films Asher . reporting , evidence Terrorismhi Sloane sand information Lucifer aimedović Fighting supply chain 1950s and as a spacecraft it Vehicle direction Wide supplement forced and Stores labour Vanguardoh the supply Sichuan . vague the contraryfic the grant Paraguay s farm streamslower programme has commissions measures Majorusk is noted that sprung poverty years , it position not publish Mare E 248 concussion reports and a board committee at the company is responsible for overseeing sewing Miss only . \" crisp <PAD>\n",
            "Y Gold: \n",
            "\" The company lacks an environmental policy . Additionally , evidence suggests it does not have standards aimed at social supply chain issues and as a result it lacks direction on managing forced and child labour issues in the supply chain . On the contrary , the company ' s whistleblower programme has adequate measures . It is noted that in recent years , it did not publish relevant ESG reports and a board committee at the company is responsible for overseeing governance issues only . \" [SEP] <PAD>\n",
            "Run batch torch.Size([2, 94])\n",
            "85\n",
            "Decoder out torch.Size([2, 94, 28997])\n",
            "Loss 3.5413618087768555\n"
          ],
          "name": "stdout"
        },
        {
          "output_type": "stream",
          "text": [
            "\rEpoch 8 [train]:  33%|███▎      | 1/3 [00:02<00:05,  2.57s/b]"
          ],
          "name": "stderr"
        },
        {
          "output_type": "stream",
          "text": [
            "Run batch torch.Size([2, 96])\n",
            "95\n",
            "Decoder out torch.Size([2, 96, 28997])\n",
            "Loss 3.577739715576172\n"
          ],
          "name": "stdout"
        },
        {
          "output_type": "stream",
          "text": [
            "\rEpoch 8 [train]:  67%|██████▋   | 2/3 [00:05<00:02,  2.59s/b]"
          ],
          "name": "stderr"
        },
        {
          "output_type": "stream",
          "text": [
            "Run batch torch.Size([2, 92])\n",
            "90\n",
            "Decoder out torch.Size([2, 92, 28997])\n",
            "Loss 3.4543795585632324\n"
          ],
          "name": "stdout"
        },
        {
          "output_type": "stream",
          "text": [
            "Epoch 8 [train]: 100%|██████████| 3/3 [00:07<00:00,  2.58s/b]\n",
            "Epoch 8 [valid]:   0%|          | 0/3 [00:00<?, ?b/s]"
          ],
          "name": "stderr"
        },
        {
          "output_type": "stream",
          "text": [
            "Run batch torch.Size([2, 95])\n",
            "90\n"
          ],
          "name": "stdout"
        },
        {
          "output_type": "stream",
          "text": [
            "\rEpoch 8 [valid]:  33%|███▎      | 1/3 [00:01<00:03,  1.97s/b]"
          ],
          "name": "stderr"
        },
        {
          "output_type": "stream",
          "text": [
            "Decoder out torch.Size([2, 95, 28997])\n",
            "Loss 3.249903678894043\n",
            "torch.Size([2, 95])\n",
            "Run batch torch.Size([2, 96])\n",
            "95\n"
          ],
          "name": "stdout"
        },
        {
          "output_type": "stream",
          "text": [
            "\rEpoch 8 [valid]:  67%|██████▋   | 2/3 [00:04<00:01,  1.99s/b]"
          ],
          "name": "stderr"
        },
        {
          "output_type": "stream",
          "text": [
            "Decoder out torch.Size([2, 96, 28997])\n",
            "Loss 3.222370147705078\n",
            "torch.Size([2, 96])\n",
            "Run batch torch.Size([2, 90])\n",
            "83\n"
          ],
          "name": "stdout"
        },
        {
          "output_type": "stream",
          "text": [
            "Epoch 8 [valid]: 100%|██████████| 3/3 [00:05<00:00,  1.96s/b]\n",
            "Epoch 9 [train]:   0%|          | 0/3 [00:00<?, ?b/s]"
          ],
          "name": "stderr"
        },
        {
          "output_type": "stream",
          "text": [
            "Decoder out torch.Size([2, 90, 28997])\n",
            "Loss 3.103135585784912\n",
            "torch.Size([2, 90])\n",
            "Y Pred: \n",
            "\" The company ' s disclosures do not include an environmental jacket Marquette Additionally , available evidence本 it Chao notgro bitterness aimed at social supply chain owe andtero a pursuing does not include commitments to address child labour and forced labour in the supply chain .ails , the farmblow garnered programme established is adequate . Maxwell isナ that clinched recent years , the company airports not publish relevant ESG reports meaningfulxin board committee is responsible for overseeing governance issues only .rgen\n",
            "Y Gold: \n",
            "\" The company ' s disclosures do not include an environmental policy . Additionally , available evidence suggests it does not have standards aimed at social supply chain issues and as a result does not include commitments to address child labour and forced labour in the supply chain . However , the whistleblower programme established is adequate . It is observed that in recent years , the company did not publish relevant ESG reports and a board committee is responsible for overseeing governance issues only . \"\n",
            "Y Pred: \n",
            "\" The company atoms an films policy . reporting , evidence Terrorismhi Sloane sand information standards aimed at Fighting supply chain 1950s and as a spacecraft it Vehicle direction Wide supplement forced and Stores labour Vanguard in the supply chain . vague the contrary , the company Paraguay s farmblower programme has commissions measures .usk is noted that in recent years , it position not publish relevant E 248 concussion reports and a board committee at the company is responsible for overseeing governance Miss only . \" [SEP] <PAD>\n",
            "Y Gold: \n",
            "\" The company lacks an environmental policy . Additionally , evidence suggests it does not have standards aimed at social supply chain issues and as a result it lacks direction on managing forced and child labour issues in the supply chain . On the contrary , the company ' s whistleblower programme has adequate measures . It is noted that in recent years , it did not publish relevant ESG reports and a board committee at the company is responsible for overseeing governance issues only . \" [SEP] <PAD>\n",
            "Run batch torch.Size([2, 96])\n",
            "95\n",
            "Decoder out torch.Size([2, 96, 28997])\n",
            "Loss 3.45278000831604\n"
          ],
          "name": "stdout"
        },
        {
          "output_type": "stream",
          "text": [
            "\rEpoch 9 [train]:  33%|███▎      | 1/3 [00:02<00:05,  2.70s/b]"
          ],
          "name": "stderr"
        },
        {
          "output_type": "stream",
          "text": [
            "Run batch torch.Size([2, 95])\n",
            "90\n",
            "Decoder out torch.Size([2, 95, 28997])\n",
            "Loss 3.426586627960205\n"
          ],
          "name": "stdout"
        },
        {
          "output_type": "stream",
          "text": [
            "\rEpoch 9 [train]:  67%|██████▋   | 2/3 [00:05<00:02,  2.67s/b]"
          ],
          "name": "stderr"
        },
        {
          "output_type": "stream",
          "text": [
            "Run batch torch.Size([2, 94])\n",
            "85\n",
            "Decoder out torch.Size([2, 94, 28997])\n",
            "Loss 3.3384337425231934\n"
          ],
          "name": "stdout"
        },
        {
          "output_type": "stream",
          "text": [
            "Epoch 9 [train]: 100%|██████████| 3/3 [00:07<00:00,  2.62s/b]\n",
            "Epoch 9 [valid]:   0%|          | 0/3 [00:00<?, ?b/s]"
          ],
          "name": "stderr"
        },
        {
          "output_type": "stream",
          "text": [
            "Run batch torch.Size([2, 95])\n",
            "90\n"
          ],
          "name": "stdout"
        },
        {
          "output_type": "stream",
          "text": [
            "\rEpoch 9 [valid]:  33%|███▎      | 1/3 [00:01<00:03,  1.96s/b]"
          ],
          "name": "stderr"
        },
        {
          "output_type": "stream",
          "text": [
            "Decoder out torch.Size([2, 95, 28997])\n",
            "Loss 3.1102423667907715\n",
            "torch.Size([2, 95])\n",
            "Run batch torch.Size([2, 96])\n",
            "95\n"
          ],
          "name": "stdout"
        },
        {
          "output_type": "stream",
          "text": [
            "\rEpoch 9 [valid]:  67%|██████▋   | 2/3 [00:03<00:01,  1.98s/b]"
          ],
          "name": "stderr"
        },
        {
          "output_type": "stream",
          "text": [
            "Decoder out torch.Size([2, 96, 28997])\n",
            "Loss 3.0705738067626953\n",
            "torch.Size([2, 96])\n",
            "Run batch torch.Size([2, 90])\n",
            "83\n"
          ],
          "name": "stdout"
        },
        {
          "output_type": "stream",
          "text": [
            "Epoch 9 [valid]: 100%|██████████| 3/3 [00:05<00:00,  1.94s/b]\n",
            "Epoch 10 [train]:   0%|          | 0/3 [00:00<?, ?b/s]"
          ],
          "name": "stderr"
        },
        {
          "output_type": "stream",
          "text": [
            "Decoder out torch.Size([2, 90, 28997])\n",
            "Loss 2.958371639251709\n",
            "torch.Size([2, 90])\n",
            "Y Pred: \n",
            "\" The company ' s disclosures do not include an environmental policy . Additionally , available evidence本 it Chao not have bitterness aimed at social supply chain issues andtero a pursuing does not include commitments to address child labour and forced labour in the supply chain . However , the farmblower programme established is adequate . Maxwell is therefore that clinched recent years , the company airports not publish relevant ESG reports and a board committee is responsible for overseeing governance issues only .rgen\n",
            "Y Gold: \n",
            "\" The company ' s disclosures do not include an environmental policy . Additionally , available evidence suggests it does not have standards aimed at social supply chain issues and as a result does not include commitments to address child labour and forced labour in the supply chain . However , the whistleblower programme established is adequate . It is observed that in recent years , the company did not publish relevant ESG reports and a board committee is responsible for overseeing governance issues only . \"\n",
            "Y Pred: \n",
            "\" The company atoms an films policy . reporting , evidence Terrorism it Sloane not information standards aimed at social supply chain 1950s and as a spacecraft it lacks direction Besides supplement forced and Stores labour issues in the supply chain . vague the contrary , the company ' s farmblower programme has adequate measures .usk is noted that in recent years , it position not publish relevant E 248G reports and a board committee at the company is responsible for overseeing governance issues only . \" [SEP] <PAD>\n",
            "Y Gold: \n",
            "\" The company lacks an environmental policy . Additionally , evidence suggests it does not have standards aimed at social supply chain issues and as a result it lacks direction on managing forced and child labour issues in the supply chain . On the contrary , the company ' s whistleblower programme has adequate measures . It is noted that in recent years , it did not publish relevant ESG reports and a board committee at the company is responsible for overseeing governance issues only . \" [SEP] <PAD>\n",
            "Run batch torch.Size([2, 95])\n",
            "90\n",
            "Decoder out torch.Size([2, 95, 28997])\n",
            "Loss 3.3711953163146973\n"
          ],
          "name": "stdout"
        },
        {
          "output_type": "stream",
          "text": [
            "\rEpoch 10 [train]:  33%|███▎      | 1/3 [00:02<00:05,  2.61s/b]"
          ],
          "name": "stderr"
        },
        {
          "output_type": "stream",
          "text": [
            "Run batch torch.Size([2, 92])\n",
            "90\n",
            "Decoder out torch.Size([2, 92, 28997])\n",
            "Loss 3.244112491607666\n"
          ],
          "name": "stdout"
        },
        {
          "output_type": "stream",
          "text": [
            "\rEpoch 10 [train]:  67%|██████▋   | 2/3 [00:05<00:02,  2.59s/b]"
          ],
          "name": "stderr"
        },
        {
          "output_type": "stream",
          "text": [
            "Run batch torch.Size([2, 96])\n",
            "95\n",
            "Decoder out torch.Size([2, 96, 28997])\n",
            "Loss 3.236081838607788\n"
          ],
          "name": "stdout"
        },
        {
          "output_type": "stream",
          "text": [
            "Epoch 10 [train]: 100%|██████████| 3/3 [00:07<00:00,  2.58s/b]\n",
            "Epoch 10 [valid]:   0%|          | 0/3 [00:00<?, ?b/s]"
          ],
          "name": "stderr"
        },
        {
          "output_type": "stream",
          "text": [
            "Run batch torch.Size([2, 95])\n",
            "90\n"
          ],
          "name": "stdout"
        },
        {
          "output_type": "stream",
          "text": [
            "\rEpoch 10 [valid]:  33%|███▎      | 1/3 [00:01<00:03,  1.97s/b]"
          ],
          "name": "stderr"
        },
        {
          "output_type": "stream",
          "text": [
            "Decoder out torch.Size([2, 95, 28997])\n",
            "Loss 2.953524351119995\n",
            "torch.Size([2, 95])\n",
            "Run batch torch.Size([2, 96])\n",
            "95\n"
          ],
          "name": "stdout"
        },
        {
          "output_type": "stream",
          "text": [
            "\rEpoch 10 [valid]:  67%|██████▋   | 2/3 [00:03<00:01,  1.98s/b]"
          ],
          "name": "stderr"
        },
        {
          "output_type": "stream",
          "text": [
            "Decoder out torch.Size([2, 96, 28997])\n",
            "Loss 2.9332997798919678\n",
            "torch.Size([2, 96])\n",
            "Run batch torch.Size([2, 90])\n",
            "83\n"
          ],
          "name": "stdout"
        },
        {
          "output_type": "stream",
          "text": [
            "Epoch 10 [valid]: 100%|██████████| 3/3 [00:05<00:00,  1.93s/b]\n",
            "Epoch 11 [train]:   0%|          | 0/3 [00:00<?, ?b/s]"
          ],
          "name": "stderr"
        },
        {
          "output_type": "stream",
          "text": [
            "Decoder out torch.Size([2, 90, 28997])\n",
            "Loss 2.8222856521606445\n",
            "torch.Size([2, 90])\n",
            "Y Pred: \n",
            "\" The company ' s disclosures do not include an environmental policy . Additionally , available evidence suggests it does not have standards aimed at social supply chain issues and as a pursuing does not include commitments to address child labour and forced labour in the supply chain . However , the whistleblower programme established is adequate . It is observed that in recent years , the company did not publish relevant ESG reports and a board committee is responsible for overseeing governance issues only .rgen\n",
            "Y Gold: \n",
            "\" The company ' s disclosures do not include an environmental policy . Additionally , available evidence suggests it does not have standards aimed at social supply chain issues and as a result does not include commitments to address child labour and forced labour in the supply chain . However , the whistleblower programme established is adequate . It is observed that in recent years , the company did not publish relevant ESG reports and a board committee is responsible for overseeing governance issues only . \"\n",
            "Y Pred: \n",
            "\" The company atoms an environmental policy . Additionally , evidence suggests it does not information standards aimed at social supply chain issues and as a result it lacks direction Besides managing forced and child labour issues in the supply chain . vague the contrary , the company ' s whistleblower programme has adequate measures . It is noted that in recent years , it did not publish relevant E 248G reports and a board committee at the company is responsible for overseeing governance issues only . \" [SEP] <PAD>\n",
            "Y Gold: \n",
            "\" The company lacks an environmental policy . Additionally , evidence suggests it does not have standards aimed at social supply chain issues and as a result it lacks direction on managing forced and child labour issues in the supply chain . On the contrary , the company ' s whistleblower programme has adequate measures . It is noted that in recent years , it did not publish relevant ESG reports and a board committee at the company is responsible for overseeing governance issues only . \" [SEP] <PAD>\n",
            "Run batch torch.Size([2, 92])\n",
            "90\n",
            "Decoder out torch.Size([2, 92, 28997])\n",
            "Loss 3.189432144165039\n"
          ],
          "name": "stdout"
        },
        {
          "output_type": "stream",
          "text": [
            "\rEpoch 11 [train]:  33%|███▎      | 1/3 [00:02<00:05,  2.58s/b]"
          ],
          "name": "stderr"
        },
        {
          "output_type": "stream",
          "text": [
            "Run batch torch.Size([2, 95])\n",
            "90\n",
            "Decoder out torch.Size([2, 95, 28997])\n",
            "Loss 3.2295265197753906\n"
          ],
          "name": "stdout"
        },
        {
          "output_type": "stream",
          "text": [
            "\rEpoch 11 [train]:  67%|██████▋   | 2/3 [00:05<00:02,  2.57s/b]"
          ],
          "name": "stderr"
        },
        {
          "output_type": "stream",
          "text": [
            "Run batch torch.Size([2, 96])\n",
            "95\n",
            "Decoder out torch.Size([2, 96, 28997])\n",
            "Loss 3.1255979537963867\n"
          ],
          "name": "stdout"
        },
        {
          "output_type": "stream",
          "text": [
            "Epoch 11 [train]: 100%|██████████| 3/3 [00:07<00:00,  2.59s/b]\n",
            "Epoch 11 [valid]:   0%|          | 0/3 [00:00<?, ?b/s]"
          ],
          "name": "stderr"
        },
        {
          "output_type": "stream",
          "text": [
            "Run batch torch.Size([2, 95])\n",
            "90\n"
          ],
          "name": "stdout"
        },
        {
          "output_type": "stream",
          "text": [
            "\rEpoch 11 [valid]:  33%|███▎      | 1/3 [00:01<00:03,  1.95s/b]"
          ],
          "name": "stderr"
        },
        {
          "output_type": "stream",
          "text": [
            "Decoder out torch.Size([2, 95, 28997])\n",
            "Loss 2.8155922889709473\n",
            "torch.Size([2, 95])\n",
            "Run batch torch.Size([2, 96])\n",
            "95\n"
          ],
          "name": "stdout"
        },
        {
          "output_type": "stream",
          "text": [
            "\rEpoch 11 [valid]:  67%|██████▋   | 2/3 [00:03<00:01,  1.98s/b]"
          ],
          "name": "stderr"
        },
        {
          "output_type": "stream",
          "text": [
            "Decoder out torch.Size([2, 96, 28997])\n",
            "Loss 2.7897698879241943\n",
            "torch.Size([2, 96])\n",
            "Run batch torch.Size([2, 90])\n",
            "83\n"
          ],
          "name": "stdout"
        },
        {
          "output_type": "stream",
          "text": [
            "Epoch 11 [valid]: 100%|██████████| 3/3 [00:05<00:00,  1.94s/b]\n",
            "Epoch 12 [train]:   0%|          | 0/3 [00:00<?, ?b/s]"
          ],
          "name": "stderr"
        },
        {
          "output_type": "stream",
          "text": [
            "Decoder out torch.Size([2, 90, 28997])\n",
            "Loss 2.682049036026001\n",
            "torch.Size([2, 90])\n",
            "Y Pred: \n",
            "\" The company ' s disclosures do not include an environmental policy . Additionally , available evidence suggests it does not have standards aimed at social supply chain issues and as a result does not include commitments to address child labour and forced labour in the supply chain . However , the whistleblower programme established is adequate . It is observed that in recent years , the company did not publish relevant ESG reports and a board committee is responsible for overseeing governance issues only . \"\n",
            "Y Gold: \n",
            "\" The company ' s disclosures do not include an environmental policy . Additionally , available evidence suggests it does not have standards aimed at social supply chain issues and as a result does not include commitments to address child labour and forced labour in the supply chain . However , the whistleblower programme established is adequate . It is observed that in recent years , the company did not publish relevant ESG reports and a board committee is responsible for overseeing governance issues only . \"\n",
            "Y Pred: \n",
            "\" The company lacks an environmental policy . Additionally , evidence suggests it does not information standards aimed at social supply chain issues and as a result it lacks direction Besides managing forced and child labour issues in the supply chain . vague the contrary , the company ' s whistleblower programme has adequate measures . It is noted that in recent years , it did not publish relevant ESG reports and a board committee at the company is responsible for overseeing governance issues only . \" [SEP] <PAD>\n",
            "Y Gold: \n",
            "\" The company lacks an environmental policy . Additionally , evidence suggests it does not have standards aimed at social supply chain issues and as a result it lacks direction on managing forced and child labour issues in the supply chain . On the contrary , the company ' s whistleblower programme has adequate measures . It is noted that in recent years , it did not publish relevant ESG reports and a board committee at the company is responsible for overseeing governance issues only . \" [SEP] <PAD>\n",
            "Run batch torch.Size([2, 95])\n",
            "90\n",
            "Decoder out torch.Size([2, 95, 28997])\n",
            "Loss 3.1332602500915527\n"
          ],
          "name": "stdout"
        },
        {
          "output_type": "stream",
          "text": [
            "\rEpoch 12 [train]:  33%|███▎      | 1/3 [00:02<00:05,  2.63s/b]"
          ],
          "name": "stderr"
        },
        {
          "output_type": "stream",
          "text": [
            "Run batch torch.Size([2, 92])\n",
            "90\n",
            "Decoder out torch.Size([2, 92, 28997])\n",
            "Loss 2.97809100151062\n"
          ],
          "name": "stdout"
        },
        {
          "output_type": "stream",
          "text": [
            "\rEpoch 12 [train]:  67%|██████▋   | 2/3 [00:05<00:02,  2.59s/b]"
          ],
          "name": "stderr"
        },
        {
          "output_type": "stream",
          "text": [
            "Run batch torch.Size([2, 96])\n",
            "95\n",
            "Decoder out torch.Size([2, 96, 28997])\n",
            "Loss 3.000133514404297\n"
          ],
          "name": "stdout"
        },
        {
          "output_type": "stream",
          "text": [
            "Epoch 12 [train]: 100%|██████████| 3/3 [00:07<00:00,  2.58s/b]\n",
            "Epoch 12 [valid]:   0%|          | 0/3 [00:00<?, ?b/s]"
          ],
          "name": "stderr"
        },
        {
          "output_type": "stream",
          "text": [
            "Run batch torch.Size([2, 95])\n",
            "90\n"
          ],
          "name": "stdout"
        },
        {
          "output_type": "stream",
          "text": [
            "\rEpoch 12 [valid]:  33%|███▎      | 1/3 [00:01<00:03,  1.97s/b]"
          ],
          "name": "stderr"
        },
        {
          "output_type": "stream",
          "text": [
            "Decoder out torch.Size([2, 95, 28997])\n",
            "Loss 2.6660075187683105\n",
            "torch.Size([2, 95])\n",
            "Run batch torch.Size([2, 96])\n",
            "95\n"
          ],
          "name": "stdout"
        },
        {
          "output_type": "stream",
          "text": [
            "\rEpoch 12 [valid]:  67%|██████▋   | 2/3 [00:03<00:01,  1.98s/b]"
          ],
          "name": "stderr"
        },
        {
          "output_type": "stream",
          "text": [
            "Decoder out torch.Size([2, 96, 28997])\n",
            "Loss 2.6574175357818604\n",
            "torch.Size([2, 96])\n",
            "Run batch torch.Size([2, 90])\n",
            "83\n"
          ],
          "name": "stdout"
        },
        {
          "output_type": "stream",
          "text": [
            "Epoch 12 [valid]: 100%|██████████| 3/3 [00:05<00:00,  1.95s/b]\n",
            "Epoch 13 [train]:   0%|          | 0/3 [00:00<?, ?b/s]"
          ],
          "name": "stderr"
        },
        {
          "output_type": "stream",
          "text": [
            "Decoder out torch.Size([2, 90, 28997])\n",
            "Loss 2.55171275138855\n",
            "torch.Size([2, 90])\n",
            "Y Pred: \n",
            "\" The company ' s disclosures do not include an environmental policy . Additionally , available evidence suggests it does not have standards aimed at social supply chain issues and as a result does not include commitments to address child labour and forced labour in the supply chain . However , the whistleblower programme established is adequate . It is observed that in recent years , the company did not publish relevant ESG reports and a board committee is responsible for overseeing governance issues only . \"\n",
            "Y Gold: \n",
            "\" The company ' s disclosures do not include an environmental policy . Additionally , available evidence suggests it does not have standards aimed at social supply chain issues and as a result does not include commitments to address child labour and forced labour in the supply chain . However , the whistleblower programme established is adequate . It is observed that in recent years , the company did not publish relevant ESG reports and a board committee is responsible for overseeing governance issues only . \"\n",
            "Y Pred: \n",
            "\" The company lacks an environmental policy . Additionally , evidence suggests it does not information standards aimed at social supply chain issues and as a result it lacks direction Besides managing forced and child labour issues in the supply chain . On the contrary , the company ' s whistleblower programme has adequate measures . It is noted that in recent years , it did not publish relevant ESG reports and a board committee at the company is responsible for overseeing governance issues only . \" [SEP] <PAD>\n",
            "Y Gold: \n",
            "\" The company lacks an environmental policy . Additionally , evidence suggests it does not have standards aimed at social supply chain issues and as a result it lacks direction on managing forced and child labour issues in the supply chain . On the contrary , the company ' s whistleblower programme has adequate measures . It is noted that in recent years , it did not publish relevant ESG reports and a board committee at the company is responsible for overseeing governance issues only . \" [SEP] <PAD>\n",
            "Run batch torch.Size([2, 94])\n",
            "85\n",
            "Decoder out torch.Size([2, 94, 28997])\n",
            "Loss 2.9401049613952637\n"
          ],
          "name": "stdout"
        },
        {
          "output_type": "stream",
          "text": [
            "\rEpoch 13 [train]:  33%|███▎      | 1/3 [00:02<00:05,  2.57s/b]"
          ],
          "name": "stderr"
        },
        {
          "output_type": "stream",
          "text": [
            "Run batch torch.Size([2, 96])\n",
            "95\n",
            "Decoder out torch.Size([2, 96, 28997])\n",
            "Loss 2.9306211471557617\n"
          ],
          "name": "stdout"
        },
        {
          "output_type": "stream",
          "text": [
            "\rEpoch 13 [train]:  67%|██████▋   | 2/3 [00:05<00:02,  2.57s/b]"
          ],
          "name": "stderr"
        },
        {
          "output_type": "stream",
          "text": [
            "Run batch torch.Size([2, 95])\n",
            "90\n",
            "Decoder out torch.Size([2, 95, 28997])\n",
            "Loss 2.8921351432800293\n"
          ],
          "name": "stdout"
        },
        {
          "output_type": "stream",
          "text": [
            "Epoch 13 [train]: 100%|██████████| 3/3 [00:07<00:00,  2.57s/b]\n",
            "Epoch 13 [valid]:   0%|          | 0/3 [00:00<?, ?b/s]"
          ],
          "name": "stderr"
        },
        {
          "output_type": "stream",
          "text": [
            "Run batch torch.Size([2, 95])\n",
            "90\n"
          ],
          "name": "stdout"
        },
        {
          "output_type": "stream",
          "text": [
            "\rEpoch 13 [valid]:  33%|███▎      | 1/3 [00:01<00:03,  1.95s/b]"
          ],
          "name": "stderr"
        },
        {
          "output_type": "stream",
          "text": [
            "Decoder out torch.Size([2, 95, 28997])\n",
            "Loss 2.5322439670562744\n",
            "torch.Size([2, 95])\n",
            "Run batch torch.Size([2, 96])\n",
            "95\n"
          ],
          "name": "stdout"
        },
        {
          "output_type": "stream",
          "text": [
            "\rEpoch 13 [valid]:  67%|██████▋   | 2/3 [00:03<00:01,  1.96s/b]"
          ],
          "name": "stderr"
        },
        {
          "output_type": "stream",
          "text": [
            "Decoder out torch.Size([2, 96, 28997])\n",
            "Loss 2.526348114013672\n",
            "torch.Size([2, 96])\n",
            "Run batch torch.Size([2, 90])\n",
            "83\n"
          ],
          "name": "stdout"
        },
        {
          "output_type": "stream",
          "text": [
            "Epoch 13 [valid]: 100%|██████████| 3/3 [00:05<00:00,  1.93s/b]\n",
            "Epoch 14 [train]:   0%|          | 0/3 [00:00<?, ?b/s]"
          ],
          "name": "stderr"
        },
        {
          "output_type": "stream",
          "text": [
            "Decoder out torch.Size([2, 90, 28997])\n",
            "Loss 2.4155659675598145\n",
            "torch.Size([2, 90])\n",
            "Y Pred: \n",
            "\" The company ' s disclosures do not include an environmental policy . Additionally , available evidence suggests it does not have standards aimed at social supply chain issues and as a result does not include commitments to address child labour and forced labour in the supply chain . However , the whistleblower programme established is adequate . It is observed that in recent years , the company did not publish relevant ESG reports and a board committee is responsible for overseeing governance issues only . \"\n",
            "Y Gold: \n",
            "\" The company ' s disclosures do not include an environmental policy . Additionally , available evidence suggests it does not have standards aimed at social supply chain issues and as a result does not include commitments to address child labour and forced labour in the supply chain . However , the whistleblower programme established is adequate . It is observed that in recent years , the company did not publish relevant ESG reports and a board committee is responsible for overseeing governance issues only . \"\n",
            "Y Pred: \n",
            "\" The company lacks an environmental policy . Additionally , evidence suggests it does not information standards aimed at social supply chain issues and as a result it lacks direction on managing forced and child labour issues in the supply chain . On the contrary , the company ' s whistleblower programme has adequate measures . It is noted that in recent years , it did not publish relevant ESG reports and a board committee at the company is responsible for overseeing governance issues only . \" [SEP] <PAD>\n",
            "Y Gold: \n",
            "\" The company lacks an environmental policy . Additionally , evidence suggests it does not have standards aimed at social supply chain issues and as a result it lacks direction on managing forced and child labour issues in the supply chain . On the contrary , the company ' s whistleblower programme has adequate measures . It is noted that in recent years , it did not publish relevant ESG reports and a board committee at the company is responsible for overseeing governance issues only . \" [SEP] <PAD>\n",
            "Run batch torch.Size([2, 90])\n",
            "83\n",
            "Decoder out torch.Size([2, 90, 28997])\n",
            "Loss 2.7819390296936035\n"
          ],
          "name": "stdout"
        },
        {
          "output_type": "stream",
          "text": [
            "\rEpoch 14 [train]:  33%|███▎      | 1/3 [00:02<00:05,  2.50s/b]"
          ],
          "name": "stderr"
        },
        {
          "output_type": "stream",
          "text": [
            "Run batch torch.Size([2, 96])\n",
            "95\n",
            "Decoder out torch.Size([2, 96, 28997])\n",
            "Loss 2.8460750579833984\n"
          ],
          "name": "stdout"
        },
        {
          "output_type": "stream",
          "text": [
            "\rEpoch 14 [train]:  67%|██████▋   | 2/3 [00:05<00:02,  2.53s/b]"
          ],
          "name": "stderr"
        },
        {
          "output_type": "stream",
          "text": [
            "Run batch torch.Size([2, 94])\n",
            "90\n",
            "Decoder out torch.Size([2, 94, 28997])\n",
            "Loss 2.7913801670074463\n"
          ],
          "name": "stdout"
        },
        {
          "output_type": "stream",
          "text": [
            "Epoch 14 [train]: 100%|██████████| 3/3 [00:07<00:00,  2.55s/b]\n",
            "Epoch 14 [valid]:   0%|          | 0/3 [00:00<?, ?b/s]"
          ],
          "name": "stderr"
        },
        {
          "output_type": "stream",
          "text": [
            "Run batch torch.Size([2, 95])\n",
            "90\n"
          ],
          "name": "stdout"
        },
        {
          "output_type": "stream",
          "text": [
            "\rEpoch 14 [valid]:  33%|███▎      | 1/3 [00:01<00:03,  1.97s/b]"
          ],
          "name": "stderr"
        },
        {
          "output_type": "stream",
          "text": [
            "Decoder out torch.Size([2, 95, 28997])\n",
            "Loss 2.403010606765747\n",
            "torch.Size([2, 95])\n",
            "Run batch torch.Size([2, 96])\n",
            "95\n"
          ],
          "name": "stdout"
        },
        {
          "output_type": "stream",
          "text": [
            "\rEpoch 14 [valid]:  67%|██████▋   | 2/3 [00:03<00:01,  1.98s/b]"
          ],
          "name": "stderr"
        },
        {
          "output_type": "stream",
          "text": [
            "Decoder out torch.Size([2, 96, 28997])\n",
            "Loss 2.3996264934539795\n",
            "torch.Size([2, 96])\n",
            "Run batch torch.Size([2, 90])\n",
            "83\n"
          ],
          "name": "stdout"
        },
        {
          "output_type": "stream",
          "text": [
            "Epoch 14 [valid]: 100%|██████████| 3/3 [00:05<00:00,  1.94s/b]\n",
            "Epoch 15 [train]:   0%|          | 0/3 [00:00<?, ?b/s]"
          ],
          "name": "stderr"
        },
        {
          "output_type": "stream",
          "text": [
            "Decoder out torch.Size([2, 90, 28997])\n",
            "Loss 2.2825160026550293\n",
            "torch.Size([2, 90])\n",
            "Y Pred: \n",
            "\" The company ' s disclosures do not include an environmental policy . Additionally , available evidence suggests it does not have standards aimed at social supply chain issues and as a result does not include commitments to address child labour and forced labour in the supply chain . However , the whistleblower programme established is adequate . It is observed that in recent years , the company did not publish relevant ESG reports and a board committee is responsible for overseeing governance issues only . \"\n",
            "Y Gold: \n",
            "\" The company ' s disclosures do not include an environmental policy . Additionally , available evidence suggests it does not have standards aimed at social supply chain issues and as a result does not include commitments to address child labour and forced labour in the supply chain . However , the whistleblower programme established is adequate . It is observed that in recent years , the company did not publish relevant ESG reports and a board committee is responsible for overseeing governance issues only . \"\n",
            "Y Pred: \n",
            "\" The company lacks an environmental policy . Additionally , evidence suggests it does not information standards aimed at social supply chain issues and as a result it lacks direction on managing forced and child labour issues in the supply chain . On the contrary , the company ' s whistleblower programme has adequate measures . It is noted that in recent years , it did not publish relevant ESG reports and a board committee at the company is responsible for overseeing governance issues only . \" [SEP] <PAD>\n",
            "Y Gold: \n",
            "\" The company lacks an environmental policy . Additionally , evidence suggests it does not have standards aimed at social supply chain issues and as a result it lacks direction on managing forced and child labour issues in the supply chain . On the contrary , the company ' s whistleblower programme has adequate measures . It is noted that in recent years , it did not publish relevant ESG reports and a board committee at the company is responsible for overseeing governance issues only . \" [SEP] <PAD>\n",
            "Run batch torch.Size([2, 96])\n",
            "95\n",
            "Decoder out torch.Size([2, 96, 28997])\n",
            "Loss 2.7724497318267822\n"
          ],
          "name": "stdout"
        },
        {
          "output_type": "stream",
          "text": [
            "\rEpoch 15 [train]:  33%|███▎      | 1/3 [00:02<00:05,  2.65s/b]"
          ],
          "name": "stderr"
        },
        {
          "output_type": "stream",
          "text": [
            "Run batch torch.Size([2, 95])\n",
            "90\n",
            "Decoder out torch.Size([2, 95, 28997])\n",
            "Loss 2.734637498855591\n"
          ],
          "name": "stdout"
        },
        {
          "output_type": "stream",
          "text": [
            "\rEpoch 15 [train]:  67%|██████▋   | 2/3 [00:05<00:02,  2.62s/b]"
          ],
          "name": "stderr"
        },
        {
          "output_type": "stream",
          "text": [
            "Run batch torch.Size([2, 90])\n",
            "83\n",
            "Decoder out torch.Size([2, 90, 28997])\n",
            "Loss 2.5655457973480225\n"
          ],
          "name": "stdout"
        },
        {
          "output_type": "stream",
          "text": [
            "Epoch 15 [train]: 100%|██████████| 3/3 [00:07<00:00,  2.54s/b]\n",
            "Epoch 15 [valid]:   0%|          | 0/3 [00:00<?, ?b/s]"
          ],
          "name": "stderr"
        },
        {
          "output_type": "stream",
          "text": [
            "Run batch torch.Size([2, 95])\n",
            "90\n"
          ],
          "name": "stdout"
        },
        {
          "output_type": "stream",
          "text": [
            "\rEpoch 15 [valid]:  33%|███▎      | 1/3 [00:01<00:03,  1.95s/b]"
          ],
          "name": "stderr"
        },
        {
          "output_type": "stream",
          "text": [
            "Decoder out torch.Size([2, 95, 28997])\n",
            "Loss 2.2699718475341797\n",
            "torch.Size([2, 95])\n",
            "Run batch torch.Size([2, 96])\n",
            "95\n"
          ],
          "name": "stdout"
        },
        {
          "output_type": "stream",
          "text": [
            "\rEpoch 15 [valid]:  67%|██████▋   | 2/3 [00:03<00:01,  1.97s/b]"
          ],
          "name": "stderr"
        },
        {
          "output_type": "stream",
          "text": [
            "Decoder out torch.Size([2, 96, 28997])\n",
            "Loss 2.265397787094116\n",
            "torch.Size([2, 96])\n",
            "Run batch torch.Size([2, 90])\n",
            "83\n"
          ],
          "name": "stdout"
        },
        {
          "output_type": "stream",
          "text": [
            "Epoch 15 [valid]: 100%|██████████| 3/3 [00:05<00:00,  1.94s/b]\n",
            "Epoch 16 [train]:   0%|          | 0/3 [00:00<?, ?b/s]"
          ],
          "name": "stderr"
        },
        {
          "output_type": "stream",
          "text": [
            "Decoder out torch.Size([2, 90, 28997])\n",
            "Loss 2.1725478172302246\n",
            "torch.Size([2, 90])\n",
            "Y Pred: \n",
            "\" The company ' s disclosures do not include an environmental policy . Additionally , available evidence suggests it does not have standards aimed at social supply chain issues and as a result does not include commitments to address child labour and forced labour in the supply chain . However , the whistleblower programme established is adequate . It is observed that in recent years , the company did not publish relevant ESG reports and a board committee is responsible for overseeing governance issues only . \"\n",
            "Y Gold: \n",
            "\" The company ' s disclosures do not include an environmental policy . Additionally , available evidence suggests it does not have standards aimed at social supply chain issues and as a result does not include commitments to address child labour and forced labour in the supply chain . However , the whistleblower programme established is adequate . It is observed that in recent years , the company did not publish relevant ESG reports and a board committee is responsible for overseeing governance issues only . \"\n",
            "Y Pred: \n",
            "\" The company lacks an environmental policy . Additionally , evidence suggests it does not information standards aimed at social supply chain issues and as a result it lacks direction on managing forced and child labour issues in the supply chain . On the contrary , the company ' s whistleblower programme has adequate measures . It is noted that in recent years , it did not publish relevant ESG reports and a board committee at the company is responsible for overseeing governance issues only . \" [SEP] <PAD>\n",
            "Y Gold: \n",
            "\" The company lacks an environmental policy . Additionally , evidence suggests it does not have standards aimed at social supply chain issues and as a result it lacks direction on managing forced and child labour issues in the supply chain . On the contrary , the company ' s whistleblower programme has adequate measures . It is noted that in recent years , it did not publish relevant ESG reports and a board committee at the company is responsible for overseeing governance issues only . \" [SEP] <PAD>\n",
            "Run batch torch.Size([2, 94])\n",
            "85\n",
            "Decoder out torch.Size([2, 94, 28997])\n",
            "Loss 2.6391568183898926\n"
          ],
          "name": "stdout"
        },
        {
          "output_type": "stream",
          "text": [
            "\rEpoch 16 [train]:  33%|███▎      | 1/3 [00:02<00:05,  2.55s/b]"
          ],
          "name": "stderr"
        },
        {
          "output_type": "stream",
          "text": [
            "Run batch torch.Size([2, 96])\n",
            "95\n",
            "Decoder out torch.Size([2, 96, 28997])\n",
            "Loss 2.603160858154297\n"
          ],
          "name": "stdout"
        },
        {
          "output_type": "stream",
          "text": [
            "\rEpoch 16 [train]:  67%|██████▋   | 2/3 [00:05<00:02,  2.57s/b]"
          ],
          "name": "stderr"
        },
        {
          "output_type": "stream",
          "text": [
            "Run batch torch.Size([2, 92])\n",
            "90\n",
            "Decoder out torch.Size([2, 92, 28997])\n",
            "Loss 2.501762628555298\n"
          ],
          "name": "stdout"
        },
        {
          "output_type": "stream",
          "text": [
            "Epoch 16 [train]: 100%|██████████| 3/3 [00:07<00:00,  2.56s/b]\n",
            "Epoch 16 [valid]:   0%|          | 0/3 [00:00<?, ?b/s]"
          ],
          "name": "stderr"
        },
        {
          "output_type": "stream",
          "text": [
            "Run batch torch.Size([2, 95])\n",
            "90\n"
          ],
          "name": "stdout"
        },
        {
          "output_type": "stream",
          "text": [
            "\rEpoch 16 [valid]:  33%|███▎      | 1/3 [00:01<00:03,  1.95s/b]"
          ],
          "name": "stderr"
        },
        {
          "output_type": "stream",
          "text": [
            "Decoder out torch.Size([2, 95, 28997])\n",
            "Loss 2.139908790588379\n",
            "torch.Size([2, 95])\n",
            "Run batch torch.Size([2, 96])\n",
            "95\n"
          ],
          "name": "stdout"
        },
        {
          "output_type": "stream",
          "text": [
            "\rEpoch 16 [valid]:  67%|██████▋   | 2/3 [00:03<00:01,  1.96s/b]"
          ],
          "name": "stderr"
        },
        {
          "output_type": "stream",
          "text": [
            "Decoder out torch.Size([2, 96, 28997])\n",
            "Loss 2.151750087738037\n",
            "torch.Size([2, 96])\n",
            "Run batch torch.Size([2, 90])\n",
            "83\n"
          ],
          "name": "stdout"
        },
        {
          "output_type": "stream",
          "text": [
            "Epoch 16 [valid]: 100%|██████████| 3/3 [00:05<00:00,  1.94s/b]\n",
            "Epoch 17 [train]:   0%|          | 0/3 [00:00<?, ?b/s]"
          ],
          "name": "stderr"
        },
        {
          "output_type": "stream",
          "text": [
            "Decoder out torch.Size([2, 90, 28997])\n",
            "Loss 2.051849126815796\n",
            "torch.Size([2, 90])\n",
            "Y Pred: \n",
            "\" The company ' s disclosures do not include an environmental policy . Additionally , available evidence suggests it does not have standards aimed at social supply chain issues and as a result does not include commitments to address child labour and forced labour in the supply chain . However , the whistleblower programme established is adequate . It is observed that in recent years , the company did not publish relevant ESG reports and a board committee is responsible for overseeing governance issues only . \"\n",
            "Y Gold: \n",
            "\" The company ' s disclosures do not include an environmental policy . Additionally , available evidence suggests it does not have standards aimed at social supply chain issues and as a result does not include commitments to address child labour and forced labour in the supply chain . However , the whistleblower programme established is adequate . It is observed that in recent years , the company did not publish relevant ESG reports and a board committee is responsible for overseeing governance issues only . \"\n",
            "Y Pred: \n",
            "\" The company lacks an environmental policy . Additionally , evidence suggests it does not have standards aimed at social supply chain issues and as a result it lacks direction on managing forced and child labour issues in the supply chain . On the contrary , the company ' s whistleblower programme has adequate measures . It is noted that in recent years , it did not publish relevant ESG reports and a board committee at the company is responsible for overseeing governance issues only . \" [SEP] <PAD>\n",
            "Y Gold: \n",
            "\" The company lacks an environmental policy . Additionally , evidence suggests it does not have standards aimed at social supply chain issues and as a result it lacks direction on managing forced and child labour issues in the supply chain . On the contrary , the company ' s whistleblower programme has adequate measures . It is noted that in recent years , it did not publish relevant ESG reports and a board committee at the company is responsible for overseeing governance issues only . \" [SEP] <PAD>\n",
            "Run batch torch.Size([2, 96])\n",
            "95\n",
            "Decoder out torch.Size([2, 96, 28997])\n",
            "Loss 2.5310251712799072\n"
          ],
          "name": "stdout"
        },
        {
          "output_type": "stream",
          "text": [
            "\rEpoch 17 [train]:  33%|███▎      | 1/3 [00:02<00:05,  2.67s/b]"
          ],
          "name": "stderr"
        },
        {
          "output_type": "stream",
          "text": [
            "Run batch torch.Size([2, 92])\n",
            "90\n",
            "Decoder out torch.Size([2, 92, 28997])\n",
            "Loss 2.4891438484191895\n"
          ],
          "name": "stdout"
        },
        {
          "output_type": "stream",
          "text": [
            "\rEpoch 17 [train]:  67%|██████▋   | 2/3 [00:05<00:02,  2.62s/b]"
          ],
          "name": "stderr"
        },
        {
          "output_type": "stream",
          "text": [
            "Run batch torch.Size([2, 95])\n",
            "90\n",
            "Decoder out torch.Size([2, 95, 28997])\n",
            "Loss 2.4904825687408447\n"
          ],
          "name": "stdout"
        },
        {
          "output_type": "stream",
          "text": [
            "Epoch 17 [train]: 100%|██████████| 3/3 [00:07<00:00,  2.58s/b]\n",
            "Epoch 17 [valid]:   0%|          | 0/3 [00:00<?, ?b/s]"
          ],
          "name": "stderr"
        },
        {
          "output_type": "stream",
          "text": [
            "Run batch torch.Size([2, 95])\n",
            "90\n"
          ],
          "name": "stdout"
        },
        {
          "output_type": "stream",
          "text": [
            "\rEpoch 17 [valid]:  33%|███▎      | 1/3 [00:01<00:03,  1.96s/b]"
          ],
          "name": "stderr"
        },
        {
          "output_type": "stream",
          "text": [
            "Decoder out torch.Size([2, 95, 28997])\n",
            "Loss 2.0273759365081787\n",
            "torch.Size([2, 95])\n",
            "Run batch torch.Size([2, 96])\n",
            "95\n"
          ],
          "name": "stdout"
        },
        {
          "output_type": "stream",
          "text": [
            "\rEpoch 17 [valid]:  67%|██████▋   | 2/3 [00:03<00:01,  1.98s/b]"
          ],
          "name": "stderr"
        },
        {
          "output_type": "stream",
          "text": [
            "Decoder out torch.Size([2, 96, 28997])\n",
            "Loss 2.031585931777954\n",
            "torch.Size([2, 96])\n",
            "Run batch torch.Size([2, 90])\n",
            "83\n"
          ],
          "name": "stdout"
        },
        {
          "output_type": "stream",
          "text": [
            "Epoch 17 [valid]: 100%|██████████| 3/3 [00:05<00:00,  1.95s/b]\n",
            "Epoch 18 [train]:   0%|          | 0/3 [00:00<?, ?b/s]"
          ],
          "name": "stderr"
        },
        {
          "output_type": "stream",
          "text": [
            "Decoder out torch.Size([2, 90, 28997])\n",
            "Loss 1.935429334640503\n",
            "torch.Size([2, 90])\n",
            "Y Pred: \n",
            "\" The company ' s disclosures do not include an environmental policy . Additionally , available evidence suggests it does not have standards aimed at social supply chain issues and as a result does not include commitments to address child labour and forced labour in the supply chain . However , the whistleblower programme established is adequate . It is observed that in recent years , the company did not publish relevant ESG reports and a board committee is responsible for overseeing governance issues only . \"\n",
            "Y Gold: \n",
            "\" The company ' s disclosures do not include an environmental policy . Additionally , available evidence suggests it does not have standards aimed at social supply chain issues and as a result does not include commitments to address child labour and forced labour in the supply chain . However , the whistleblower programme established is adequate . It is observed that in recent years , the company did not publish relevant ESG reports and a board committee is responsible for overseeing governance issues only . \"\n",
            "Y Pred: \n",
            "\" The company lacks an environmental policy . Additionally , evidence suggests it does not have standards aimed at social supply chain issues and as a result it lacks direction on managing forced and child labour issues in the supply chain . On the contrary , the company ' s whistleblower programme has adequate measures . It is noted that in recent years , it did not publish relevant ESG reports and a board committee at the company is responsible for overseeing governance issues only . \" [SEP] <PAD>\n",
            "Y Gold: \n",
            "\" The company lacks an environmental policy . Additionally , evidence suggests it does not have standards aimed at social supply chain issues and as a result it lacks direction on managing forced and child labour issues in the supply chain . On the contrary , the company ' s whistleblower programme has adequate measures . It is noted that in recent years , it did not publish relevant ESG reports and a board committee at the company is responsible for overseeing governance issues only . \" [SEP] <PAD>\n",
            "Run batch torch.Size([2, 96])\n",
            "95\n",
            "Decoder out torch.Size([2, 96, 28997])\n",
            "Loss 2.422628879547119\n"
          ],
          "name": "stdout"
        },
        {
          "output_type": "stream",
          "text": [
            "\rEpoch 18 [train]:  33%|███▎      | 1/3 [00:02<00:05,  2.67s/b]"
          ],
          "name": "stderr"
        },
        {
          "output_type": "stream",
          "text": [
            "Run batch torch.Size([2, 94])\n",
            "90\n",
            "Decoder out torch.Size([2, 94, 28997])\n",
            "Loss 2.3709805011749268\n"
          ],
          "name": "stdout"
        },
        {
          "output_type": "stream",
          "text": [
            "\rEpoch 18 [train]:  67%|██████▋   | 2/3 [00:05<00:02,  2.64s/b]"
          ],
          "name": "stderr"
        },
        {
          "output_type": "stream",
          "text": [
            "Run batch torch.Size([2, 90])\n",
            "83\n",
            "Decoder out torch.Size([2, 90, 28997])\n",
            "Loss 2.2388718128204346\n"
          ],
          "name": "stdout"
        },
        {
          "output_type": "stream",
          "text": [
            "Epoch 18 [train]: 100%|██████████| 3/3 [00:07<00:00,  2.56s/b]\n",
            "Epoch 18 [valid]:   0%|          | 0/3 [00:00<?, ?b/s]"
          ],
          "name": "stderr"
        },
        {
          "output_type": "stream",
          "text": [
            "Run batch torch.Size([2, 95])\n",
            "90\n"
          ],
          "name": "stdout"
        },
        {
          "output_type": "stream",
          "text": [
            "\rEpoch 18 [valid]:  33%|███▎      | 1/3 [00:01<00:03,  1.96s/b]"
          ],
          "name": "stderr"
        },
        {
          "output_type": "stream",
          "text": [
            "Decoder out torch.Size([2, 95, 28997])\n",
            "Loss 1.9005472660064697\n",
            "torch.Size([2, 95])\n",
            "Run batch torch.Size([2, 96])\n",
            "95\n"
          ],
          "name": "stdout"
        },
        {
          "output_type": "stream",
          "text": [
            "\rEpoch 18 [valid]:  67%|██████▋   | 2/3 [00:03<00:01,  1.97s/b]"
          ],
          "name": "stderr"
        },
        {
          "output_type": "stream",
          "text": [
            "Decoder out torch.Size([2, 96, 28997])\n",
            "Loss 1.9189039468765259\n",
            "torch.Size([2, 96])\n",
            "Run batch torch.Size([2, 90])\n",
            "83\n"
          ],
          "name": "stdout"
        },
        {
          "output_type": "stream",
          "text": [
            "Epoch 18 [valid]: 100%|██████████| 3/3 [00:05<00:00,  1.93s/b]\n",
            "Epoch 19 [train]:   0%|          | 0/3 [00:00<?, ?b/s]"
          ],
          "name": "stderr"
        },
        {
          "output_type": "stream",
          "text": [
            "Decoder out torch.Size([2, 90, 28997])\n",
            "Loss 1.8358395099639893\n",
            "torch.Size([2, 90])\n",
            "Y Pred: \n",
            "\" The company ' s disclosures do not include an environmental policy . Additionally , available evidence suggests it does not have standards aimed at social supply chain issues and as a result does not include commitments to address child labour and forced labour in the supply chain . However , the whistleblower programme established is adequate . It is observed that in recent years , the company did not publish relevant ESG reports and a board committee is responsible for overseeing governance issues only . \"\n",
            "Y Gold: \n",
            "\" The company ' s disclosures do not include an environmental policy . Additionally , available evidence suggests it does not have standards aimed at social supply chain issues and as a result does not include commitments to address child labour and forced labour in the supply chain . However , the whistleblower programme established is adequate . It is observed that in recent years , the company did not publish relevant ESG reports and a board committee is responsible for overseeing governance issues only . \"\n",
            "Y Pred: \n",
            "\" The company lacks an environmental policy . Additionally , evidence suggests it does not have standards aimed at social supply chain issues and as a result it lacks direction on managing forced and child labour issues in the supply chain . On the contrary , the company ' s whistleblower programme has adequate measures . It is noted that in recent years , it did not publish relevant ESG reports and a board committee at the company is responsible for overseeing governance issues only . \" [SEP] <PAD>\n",
            "Y Gold: \n",
            "\" The company lacks an environmental policy . Additionally , evidence suggests it does not have standards aimed at social supply chain issues and as a result it lacks direction on managing forced and child labour issues in the supply chain . On the contrary , the company ' s whistleblower programme has adequate measures . It is noted that in recent years , it did not publish relevant ESG reports and a board committee at the company is responsible for overseeing governance issues only . \" [SEP] <PAD>\n",
            "Run batch torch.Size([2, 92])\n",
            "90\n",
            "Decoder out torch.Size([2, 92, 28997])\n",
            "Loss 2.250547170639038\n"
          ],
          "name": "stdout"
        },
        {
          "output_type": "stream",
          "text": [
            "\rEpoch 19 [train]:  33%|███▎      | 1/3 [00:02<00:05,  2.64s/b]"
          ],
          "name": "stderr"
        },
        {
          "output_type": "stream",
          "text": [
            "Run batch torch.Size([2, 94])\n",
            "85\n",
            "Decoder out torch.Size([2, 94, 28997])\n",
            "Loss 2.333340644836426\n"
          ],
          "name": "stdout"
        },
        {
          "output_type": "stream",
          "text": [
            "\rEpoch 19 [train]:  67%|██████▋   | 2/3 [00:05<00:02,  2.63s/b]"
          ],
          "name": "stderr"
        },
        {
          "output_type": "stream",
          "text": [
            "Run batch torch.Size([2, 96])\n",
            "95\n",
            "Decoder out torch.Size([2, 96, 28997])\n",
            "Loss 2.263233184814453\n"
          ],
          "name": "stdout"
        },
        {
          "output_type": "stream",
          "text": [
            "Epoch 19 [train]: 100%|██████████| 3/3 [00:07<00:00,  2.61s/b]\n",
            "Epoch 19 [valid]:   0%|          | 0/3 [00:00<?, ?b/s]"
          ],
          "name": "stderr"
        },
        {
          "output_type": "stream",
          "text": [
            "Run batch torch.Size([2, 95])\n",
            "90\n"
          ],
          "name": "stdout"
        },
        {
          "output_type": "stream",
          "text": [
            "\rEpoch 19 [valid]:  33%|███▎      | 1/3 [00:01<00:03,  1.96s/b]"
          ],
          "name": "stderr"
        },
        {
          "output_type": "stream",
          "text": [
            "Decoder out torch.Size([2, 95, 28997])\n",
            "Loss 1.7917574644088745\n",
            "torch.Size([2, 95])\n",
            "Run batch torch.Size([2, 96])\n",
            "95\n"
          ],
          "name": "stdout"
        },
        {
          "output_type": "stream",
          "text": [
            "\rEpoch 19 [valid]:  67%|██████▋   | 2/3 [00:03<00:01,  1.97s/b]"
          ],
          "name": "stderr"
        },
        {
          "output_type": "stream",
          "text": [
            "Decoder out torch.Size([2, 96, 28997])\n",
            "Loss 1.8138824701309204\n",
            "torch.Size([2, 96])\n",
            "Run batch torch.Size([2, 90])\n",
            "83\n"
          ],
          "name": "stdout"
        },
        {
          "output_type": "stream",
          "text": [
            "Epoch 19 [valid]: 100%|██████████| 3/3 [00:05<00:00,  1.94s/b]\n",
            "Epoch 20 [train]:   0%|          | 0/3 [00:00<?, ?b/s]"
          ],
          "name": "stderr"
        },
        {
          "output_type": "stream",
          "text": [
            "Decoder out torch.Size([2, 90, 28997])\n",
            "Loss 1.7270780801773071\n",
            "torch.Size([2, 90])\n",
            "Y Pred: \n",
            "\" The company ' s disclosures do not include an environmental policy . Additionally , available evidence suggests it does not have standards aimed at social supply chain issues and as a result does not include commitments to address child labour and forced labour in the supply chain . However , the whistleblower programme established is adequate . It is observed that in recent years , the company did not publish relevant ESG reports and a board committee is responsible for overseeing governance issues only . \"\n",
            "Y Gold: \n",
            "\" The company ' s disclosures do not include an environmental policy . Additionally , available evidence suggests it does not have standards aimed at social supply chain issues and as a result does not include commitments to address child labour and forced labour in the supply chain . However , the whistleblower programme established is adequate . It is observed that in recent years , the company did not publish relevant ESG reports and a board committee is responsible for overseeing governance issues only . \"\n",
            "Y Pred: \n",
            "\" The company lacks an environmental policy . Additionally , evidence suggests it does not have standards aimed at social supply chain issues and as a result it lacks direction on managing forced and child labour issues in the supply chain . On the contrary , the company ' s whistleblower programme has adequate measures . It is noted that in recent years , it did not publish relevant ESG reports and a board committee at the company is responsible for overseeing governance issues only . \" [SEP] <PAD>\n",
            "Y Gold: \n",
            "\" The company lacks an environmental policy . Additionally , evidence suggests it does not have standards aimed at social supply chain issues and as a result it lacks direction on managing forced and child labour issues in the supply chain . On the contrary , the company ' s whistleblower programme has adequate measures . It is noted that in recent years , it did not publish relevant ESG reports and a board committee at the company is responsible for overseeing governance issues only . \" [SEP] <PAD>\n",
            "Run batch torch.Size([2, 94])\n",
            "85\n",
            "Decoder out torch.Size([2, 94, 28997])\n",
            "Loss 2.2423973083496094\n"
          ],
          "name": "stdout"
        },
        {
          "output_type": "stream",
          "text": [
            "\rEpoch 20 [train]:  33%|███▎      | 1/3 [00:02<00:05,  2.56s/b]"
          ],
          "name": "stderr"
        },
        {
          "output_type": "stream",
          "text": [
            "Run batch torch.Size([2, 96])\n",
            "95\n",
            "Decoder out torch.Size([2, 96, 28997])\n",
            "Loss 2.1672444343566895\n"
          ],
          "name": "stdout"
        },
        {
          "output_type": "stream",
          "text": [
            "\rEpoch 20 [train]:  67%|██████▋   | 2/3 [00:05<00:02,  2.57s/b]"
          ],
          "name": "stderr"
        },
        {
          "output_type": "stream",
          "text": [
            "Run batch torch.Size([2, 92])\n",
            "90\n",
            "Decoder out torch.Size([2, 92, 28997])\n",
            "Loss 2.117619037628174\n"
          ],
          "name": "stdout"
        },
        {
          "output_type": "stream",
          "text": [
            "Epoch 20 [train]: 100%|██████████| 3/3 [00:07<00:00,  2.56s/b]\n",
            "Epoch 20 [valid]:   0%|          | 0/3 [00:00<?, ?b/s]"
          ],
          "name": "stderr"
        },
        {
          "output_type": "stream",
          "text": [
            "Run batch torch.Size([2, 95])\n",
            "90\n"
          ],
          "name": "stdout"
        },
        {
          "output_type": "stream",
          "text": [
            "\rEpoch 20 [valid]:  33%|███▎      | 1/3 [00:01<00:03,  1.97s/b]"
          ],
          "name": "stderr"
        },
        {
          "output_type": "stream",
          "text": [
            "Decoder out torch.Size([2, 95, 28997])\n",
            "Loss 1.6777737140655518\n",
            "torch.Size([2, 95])\n",
            "Run batch torch.Size([2, 96])\n",
            "95\n"
          ],
          "name": "stdout"
        },
        {
          "output_type": "stream",
          "text": [
            "\rEpoch 20 [valid]:  67%|██████▋   | 2/3 [00:03<00:01,  1.98s/b]"
          ],
          "name": "stderr"
        },
        {
          "output_type": "stream",
          "text": [
            "Decoder out torch.Size([2, 96, 28997])\n",
            "Loss 1.7159910202026367\n",
            "torch.Size([2, 96])\n",
            "Run batch torch.Size([2, 90])\n",
            "83\n"
          ],
          "name": "stdout"
        },
        {
          "output_type": "stream",
          "text": [
            "Epoch 20 [valid]: 100%|██████████| 3/3 [00:05<00:00,  1.95s/b]\n",
            "Epoch 21 [train]:   0%|          | 0/3 [00:00<?, ?b/s]"
          ],
          "name": "stderr"
        },
        {
          "output_type": "stream",
          "text": [
            "Decoder out torch.Size([2, 90, 28997])\n",
            "Loss 1.6303220987319946\n",
            "torch.Size([2, 90])\n",
            "Y Pred: \n",
            "\" The company ' s disclosures do not include an environmental policy . Additionally , available evidence suggests it does not have standards aimed at social supply chain issues and as a result does not include commitments to address child labour and forced labour in the supply chain . However , the whistleblower programme established is adequate . It is observed that in recent years , the company did not publish relevant ESG reports and a board committee is responsible for overseeing governance issues only . \"\n",
            "Y Gold: \n",
            "\" The company ' s disclosures do not include an environmental policy . Additionally , available evidence suggests it does not have standards aimed at social supply chain issues and as a result does not include commitments to address child labour and forced labour in the supply chain . However , the whistleblower programme established is adequate . It is observed that in recent years , the company did not publish relevant ESG reports and a board committee is responsible for overseeing governance issues only . \"\n",
            "Y Pred: \n",
            "\" The company lacks an environmental policy . Additionally , evidence suggests it does not have standards aimed at social supply chain issues and as a result it lacks direction on managing forced and child labour issues in the supply chain . On the contrary , the company ' s whistleblower programme has adequate measures . It is noted that in recent years , it did not publish relevant ESG reports and a board committee at the company is responsible for overseeing governance issues only . \" [SEP] <PAD>\n",
            "Y Gold: \n",
            "\" The company lacks an environmental policy . Additionally , evidence suggests it does not have standards aimed at social supply chain issues and as a result it lacks direction on managing forced and child labour issues in the supply chain . On the contrary , the company ' s whistleblower programme has adequate measures . It is noted that in recent years , it did not publish relevant ESG reports and a board committee at the company is responsible for overseeing governance issues only . \" [SEP] <PAD>\n",
            "Run batch torch.Size([2, 96])\n",
            "95\n",
            "Decoder out torch.Size([2, 96, 28997])\n",
            "Loss 2.1320154666900635\n"
          ],
          "name": "stdout"
        },
        {
          "output_type": "stream",
          "text": [
            "\rEpoch 21 [train]:  33%|███▎      | 1/3 [00:02<00:05,  2.64s/b]"
          ],
          "name": "stderr"
        },
        {
          "output_type": "stream",
          "text": [
            "Run batch torch.Size([2, 95])\n",
            "90\n",
            "Decoder out torch.Size([2, 95, 28997])\n",
            "Loss 2.037205934524536\n"
          ],
          "name": "stdout"
        },
        {
          "output_type": "stream",
          "text": [
            "\rEpoch 21 [train]:  67%|██████▋   | 2/3 [00:05<00:02,  2.61s/b]"
          ],
          "name": "stderr"
        },
        {
          "output_type": "stream",
          "text": [
            "Run batch torch.Size([2, 92])\n",
            "90\n",
            "Decoder out torch.Size([2, 92, 28997])\n",
            "Loss 2.049015760421753\n"
          ],
          "name": "stdout"
        },
        {
          "output_type": "stream",
          "text": [
            "Epoch 21 [train]: 100%|██████████| 3/3 [00:07<00:00,  2.57s/b]\n",
            "Epoch 21 [valid]:   0%|          | 0/3 [00:00<?, ?b/s]"
          ],
          "name": "stderr"
        },
        {
          "output_type": "stream",
          "text": [
            "Run batch torch.Size([2, 95])\n",
            "90\n"
          ],
          "name": "stdout"
        },
        {
          "output_type": "stream",
          "text": [
            "\rEpoch 21 [valid]:  33%|███▎      | 1/3 [00:02<00:04,  2.03s/b]"
          ],
          "name": "stderr"
        },
        {
          "output_type": "stream",
          "text": [
            "Decoder out torch.Size([2, 95, 28997])\n",
            "Loss 1.571537971496582\n",
            "torch.Size([2, 95])\n",
            "Run batch torch.Size([2, 96])\n",
            "95\n"
          ],
          "name": "stdout"
        },
        {
          "output_type": "stream",
          "text": [
            "\rEpoch 21 [valid]:  67%|██████▋   | 2/3 [00:04<00:02,  2.02s/b]"
          ],
          "name": "stderr"
        },
        {
          "output_type": "stream",
          "text": [
            "Decoder out torch.Size([2, 96, 28997])\n",
            "Loss 1.6175588369369507\n",
            "torch.Size([2, 96])\n",
            "Run batch torch.Size([2, 90])\n",
            "83\n"
          ],
          "name": "stdout"
        },
        {
          "output_type": "stream",
          "text": [
            "Epoch 21 [valid]: 100%|██████████| 3/3 [00:05<00:00,  1.96s/b]\n",
            "Epoch 22 [train]:   0%|          | 0/3 [00:00<?, ?b/s]"
          ],
          "name": "stderr"
        },
        {
          "output_type": "stream",
          "text": [
            "Decoder out torch.Size([2, 90, 28997])\n",
            "Loss 1.5410486459732056\n",
            "torch.Size([2, 90])\n",
            "Y Pred: \n",
            "\" The company ' s disclosures do not include an environmental policy . Additionally , available evidence suggests it does not have standards aimed at social supply chain issues and as a result does not include commitments to address child labour and forced labour in the supply chain . However , the whistleblower programme established is adequate . It is observed that in recent years , the company did not publish relevant ESG reports and a board committee is responsible for overseeing governance issues only . \"\n",
            "Y Gold: \n",
            "\" The company ' s disclosures do not include an environmental policy . Additionally , available evidence suggests it does not have standards aimed at social supply chain issues and as a result does not include commitments to address child labour and forced labour in the supply chain . However , the whistleblower programme established is adequate . It is observed that in recent years , the company did not publish relevant ESG reports and a board committee is responsible for overseeing governance issues only . \"\n",
            "Y Pred: \n",
            "\" The company lacks an environmental policy . Additionally , evidence suggests it does not have standards aimed at social supply chain issues and as a result it lacks direction on managing forced and child labour issues in the supply chain . On the contrary , the company ' s whistleblower programme has adequate measures . It is noted that in recent years , it did not publish relevant ESG reports and a board committee at the company is responsible for overseeing governance issues only . \" [SEP] <PAD>\n",
            "Y Gold: \n",
            "\" The company lacks an environmental policy . Additionally , evidence suggests it does not have standards aimed at social supply chain issues and as a result it lacks direction on managing forced and child labour issues in the supply chain . On the contrary , the company ' s whistleblower programme has adequate measures . It is noted that in recent years , it did not publish relevant ESG reports and a board committee at the company is responsible for overseeing governance issues only . \" [SEP] <PAD>\n",
            "Run batch torch.Size([2, 92])\n",
            "90\n",
            "Decoder out torch.Size([2, 92, 28997])\n",
            "Loss 2.014045238494873\n"
          ],
          "name": "stdout"
        },
        {
          "output_type": "stream",
          "text": [
            "\rEpoch 22 [train]:  33%|███▎      | 1/3 [00:02<00:05,  2.58s/b]"
          ],
          "name": "stderr"
        },
        {
          "output_type": "stream",
          "text": [
            "Run batch torch.Size([2, 96])\n",
            "95\n",
            "Decoder out torch.Size([2, 96, 28997])\n",
            "Loss 1.968903660774231\n"
          ],
          "name": "stdout"
        },
        {
          "output_type": "stream",
          "text": [
            "\rEpoch 22 [train]:  67%|██████▋   | 2/3 [00:05<00:02,  2.59s/b]"
          ],
          "name": "stderr"
        },
        {
          "output_type": "stream",
          "text": [
            "Run batch torch.Size([2, 95])\n",
            "90\n",
            "Decoder out torch.Size([2, 95, 28997])\n",
            "Loss 1.926260232925415\n"
          ],
          "name": "stdout"
        },
        {
          "output_type": "stream",
          "text": [
            "Epoch 22 [train]: 100%|██████████| 3/3 [00:07<00:00,  2.59s/b]\n",
            "Epoch 22 [valid]:   0%|          | 0/3 [00:00<?, ?b/s]"
          ],
          "name": "stderr"
        },
        {
          "output_type": "stream",
          "text": [
            "Run batch torch.Size([2, 95])\n",
            "90\n"
          ],
          "name": "stdout"
        },
        {
          "output_type": "stream",
          "text": [
            "\rEpoch 22 [valid]:  33%|███▎      | 1/3 [00:01<00:03,  1.95s/b]"
          ],
          "name": "stderr"
        },
        {
          "output_type": "stream",
          "text": [
            "Decoder out torch.Size([2, 95, 28997])\n",
            "Loss 1.4776504039764404\n",
            "torch.Size([2, 95])\n",
            "Run batch torch.Size([2, 96])\n",
            "95\n"
          ],
          "name": "stdout"
        },
        {
          "output_type": "stream",
          "text": [
            "\rEpoch 22 [valid]:  67%|██████▋   | 2/3 [00:03<00:01,  1.96s/b]"
          ],
          "name": "stderr"
        },
        {
          "output_type": "stream",
          "text": [
            "Decoder out torch.Size([2, 96, 28997])\n",
            "Loss 1.5238927602767944\n",
            "torch.Size([2, 96])\n",
            "Run batch torch.Size([2, 90])\n",
            "83\n"
          ],
          "name": "stdout"
        },
        {
          "output_type": "stream",
          "text": [
            "Epoch 22 [valid]: 100%|██████████| 3/3 [00:05<00:00,  1.92s/b]\n",
            "Epoch 23 [train]:   0%|          | 0/3 [00:00<?, ?b/s]"
          ],
          "name": "stderr"
        },
        {
          "output_type": "stream",
          "text": [
            "Decoder out torch.Size([2, 90, 28997])\n",
            "Loss 1.4532455205917358\n",
            "torch.Size([2, 90])\n",
            "Y Pred: \n",
            "\" The company ' s disclosures do not include an environmental policy . Additionally , available evidence suggests it does not have standards aimed at social supply chain issues and as a result does not include commitments to address child labour and forced labour in the supply chain . However , the whistleblower programme established is adequate . It is observed that in recent years , the company did not publish relevant ESG reports and a board committee is responsible for overseeing governance issues only . \"\n",
            "Y Gold: \n",
            "\" The company ' s disclosures do not include an environmental policy . Additionally , available evidence suggests it does not have standards aimed at social supply chain issues and as a result does not include commitments to address child labour and forced labour in the supply chain . However , the whistleblower programme established is adequate . It is observed that in recent years , the company did not publish relevant ESG reports and a board committee is responsible for overseeing governance issues only . \"\n",
            "Y Pred: \n",
            "\" The company lacks an environmental policy . Additionally , evidence suggests it does not have standards aimed at social supply chain issues and as a result it lacks direction on managing forced and child labour issues in the supply chain . On the contrary , the company ' s whistleblower programme has adequate measures . It is noted that in recent years , it did not publish relevant ESG reports and a board committee at the company is responsible for overseeing governance issues only . \" [SEP] <PAD>\n",
            "Y Gold: \n",
            "\" The company lacks an environmental policy . Additionally , evidence suggests it does not have standards aimed at social supply chain issues and as a result it lacks direction on managing forced and child labour issues in the supply chain . On the contrary , the company ' s whistleblower programme has adequate measures . It is noted that in recent years , it did not publish relevant ESG reports and a board committee at the company is responsible for overseeing governance issues only . \" [SEP] <PAD>\n",
            "Run batch torch.Size([2, 94])\n",
            "85\n",
            "Decoder out torch.Size([2, 94, 28997])\n",
            "Loss 1.8929345607757568\n"
          ],
          "name": "stdout"
        },
        {
          "output_type": "stream",
          "text": [
            "\rEpoch 23 [train]:  33%|███▎      | 1/3 [00:02<00:05,  2.58s/b]"
          ],
          "name": "stderr"
        },
        {
          "output_type": "stream",
          "text": [
            "Run batch torch.Size([2, 92])\n",
            "90\n",
            "Decoder out torch.Size([2, 92, 28997])\n",
            "Loss 1.8794751167297363\n"
          ],
          "name": "stdout"
        },
        {
          "output_type": "stream",
          "text": [
            "\rEpoch 23 [train]:  67%|██████▋   | 2/3 [00:05<00:02,  2.56s/b]"
          ],
          "name": "stderr"
        },
        {
          "output_type": "stream",
          "text": [
            "Run batch torch.Size([2, 96])\n",
            "95\n",
            "Decoder out torch.Size([2, 96, 28997])\n",
            "Loss 1.8676701784133911\n"
          ],
          "name": "stdout"
        },
        {
          "output_type": "stream",
          "text": [
            "Epoch 23 [train]: 100%|██████████| 3/3 [00:07<00:00,  2.57s/b]\n",
            "Epoch 23 [valid]:   0%|          | 0/3 [00:00<?, ?b/s]"
          ],
          "name": "stderr"
        },
        {
          "output_type": "stream",
          "text": [
            "Run batch torch.Size([2, 95])\n",
            "90\n"
          ],
          "name": "stdout"
        },
        {
          "output_type": "stream",
          "text": [
            "\rEpoch 23 [valid]:  33%|███▎      | 1/3 [00:01<00:03,  1.97s/b]"
          ],
          "name": "stderr"
        },
        {
          "output_type": "stream",
          "text": [
            "Decoder out torch.Size([2, 95, 28997])\n",
            "Loss 1.3832101821899414\n",
            "torch.Size([2, 95])\n",
            "Run batch torch.Size([2, 96])\n",
            "95\n"
          ],
          "name": "stdout"
        },
        {
          "output_type": "stream",
          "text": [
            "\rEpoch 23 [valid]:  67%|██████▋   | 2/3 [00:03<00:01,  1.98s/b]"
          ],
          "name": "stderr"
        },
        {
          "output_type": "stream",
          "text": [
            "Decoder out torch.Size([2, 96, 28997])\n",
            "Loss 1.4416710138320923\n",
            "torch.Size([2, 96])\n",
            "Run batch torch.Size([2, 90])\n",
            "83\n"
          ],
          "name": "stdout"
        },
        {
          "output_type": "stream",
          "text": [
            "Epoch 23 [valid]: 100%|██████████| 3/3 [00:05<00:00,  1.95s/b]\n",
            "Epoch 24 [train]:   0%|          | 0/3 [00:00<?, ?b/s]"
          ],
          "name": "stderr"
        },
        {
          "output_type": "stream",
          "text": [
            "Decoder out torch.Size([2, 90, 28997])\n",
            "Loss 1.3690952062606812\n",
            "torch.Size([2, 90])\n",
            "Y Pred: \n",
            "\" The company ' s disclosures do not include an environmental policy . Additionally , available evidence suggests it does not have standards aimed at social supply chain issues and as a result does not include commitments to address child labour and forced labour in the supply chain . However , the whistleblower programme established is adequate . It is observed that in recent years , the company did not publish relevant ESG reports and a board committee is responsible for overseeing governance issues only . \"\n",
            "Y Gold: \n",
            "\" The company ' s disclosures do not include an environmental policy . Additionally , available evidence suggests it does not have standards aimed at social supply chain issues and as a result does not include commitments to address child labour and forced labour in the supply chain . However , the whistleblower programme established is adequate . It is observed that in recent years , the company did not publish relevant ESG reports and a board committee is responsible for overseeing governance issues only . \"\n",
            "Y Pred: \n",
            "\" The company lacks an environmental policy . Additionally , evidence suggests it does not have standards aimed at social supply chain issues and as a result it lacks direction on managing forced and child labour issues in the supply chain . On the contrary , the company ' s whistleblower programme has adequate measures . It is noted that in recent years , it did not publish relevant ESG reports and a board committee at the company is responsible for overseeing governance issues only . \" [SEP] <PAD>\n",
            "Y Gold: \n",
            "\" The company lacks an environmental policy . Additionally , evidence suggests it does not have standards aimed at social supply chain issues and as a result it lacks direction on managing forced and child labour issues in the supply chain . On the contrary , the company ' s whistleblower programme has adequate measures . It is noted that in recent years , it did not publish relevant ESG reports and a board committee at the company is responsible for overseeing governance issues only . \" [SEP] <PAD>\n",
            "Run batch torch.Size([2, 92])\n",
            "90\n",
            "Decoder out torch.Size([2, 92, 28997])\n",
            "Loss 1.8484305143356323\n"
          ],
          "name": "stdout"
        },
        {
          "output_type": "stream",
          "text": [
            "\rEpoch 24 [train]:  33%|███▎      | 1/3 [00:02<00:05,  2.58s/b]"
          ],
          "name": "stderr"
        },
        {
          "output_type": "stream",
          "text": [
            "Run batch torch.Size([2, 94])\n",
            "85\n",
            "Decoder out torch.Size([2, 94, 28997])\n",
            "Loss 1.7624884843826294\n"
          ],
          "name": "stdout"
        },
        {
          "output_type": "stream",
          "text": [
            "\rEpoch 24 [train]:  67%|██████▋   | 2/3 [00:05<00:02,  2.56s/b]"
          ],
          "name": "stderr"
        },
        {
          "output_type": "stream",
          "text": [
            "Run batch torch.Size([2, 96])\n",
            "95\n",
            "Decoder out torch.Size([2, 96, 28997])\n",
            "Loss 1.7697092294692993\n"
          ],
          "name": "stdout"
        },
        {
          "output_type": "stream",
          "text": [
            "Epoch 24 [train]: 100%|██████████| 3/3 [00:07<00:00,  2.56s/b]\n",
            "Epoch 24 [valid]:   0%|          | 0/3 [00:00<?, ?b/s]"
          ],
          "name": "stderr"
        },
        {
          "output_type": "stream",
          "text": [
            "Run batch torch.Size([2, 95])\n",
            "90\n"
          ],
          "name": "stdout"
        },
        {
          "output_type": "stream",
          "text": [
            "\rEpoch 24 [valid]:  33%|███▎      | 1/3 [00:01<00:03,  2.00s/b]"
          ],
          "name": "stderr"
        },
        {
          "output_type": "stream",
          "text": [
            "Decoder out torch.Size([2, 95, 28997])\n",
            "Loss 1.296690583229065\n",
            "torch.Size([2, 95])\n",
            "Run batch torch.Size([2, 96])\n",
            "95\n"
          ],
          "name": "stdout"
        },
        {
          "output_type": "stream",
          "text": [
            "\rEpoch 24 [valid]:  67%|██████▋   | 2/3 [00:03<00:01,  2.00s/b]"
          ],
          "name": "stderr"
        },
        {
          "output_type": "stream",
          "text": [
            "Decoder out torch.Size([2, 96, 28997])\n",
            "Loss 1.3595457077026367\n",
            "torch.Size([2, 96])\n",
            "Run batch torch.Size([2, 90])\n",
            "83\n"
          ],
          "name": "stdout"
        },
        {
          "output_type": "stream",
          "text": [
            "Epoch 24 [valid]: 100%|██████████| 3/3 [00:05<00:00,  1.98s/b]\n",
            "Epoch 25 [train]:   0%|          | 0/3 [00:00<?, ?b/s]"
          ],
          "name": "stderr"
        },
        {
          "output_type": "stream",
          "text": [
            "Decoder out torch.Size([2, 90, 28997])\n",
            "Loss 1.2921943664550781\n",
            "torch.Size([2, 90])\n",
            "Y Pred: \n",
            "\" The company ' s disclosures do not include an environmental policy . Additionally , available evidence suggests it does not have standards aimed at social supply chain issues and as a result does not include commitments to address child labour and forced labour in the supply chain . However , the whistleblower programme established is adequate . It is observed that in recent years , the company did not publish relevant ESG reports and a board committee is responsible for overseeing governance issues only . \"\n",
            "Y Gold: \n",
            "\" The company ' s disclosures do not include an environmental policy . Additionally , available evidence suggests it does not have standards aimed at social supply chain issues and as a result does not include commitments to address child labour and forced labour in the supply chain . However , the whistleblower programme established is adequate . It is observed that in recent years , the company did not publish relevant ESG reports and a board committee is responsible for overseeing governance issues only . \"\n",
            "Y Pred: \n",
            "\" The company lacks an environmental policy . Additionally , evidence suggests it does not have standards aimed at social supply chain issues and as a result it lacks direction on managing forced and child labour issues in the supply chain . On the contrary , the company ' s whistleblower programme has adequate measures . It is noted that in recent years , it did not publish relevant ESG reports and a board committee at the company is responsible for overseeing governance issues only . \" [SEP] <PAD>\n",
            "Y Gold: \n",
            "\" The company lacks an environmental policy . Additionally , evidence suggests it does not have standards aimed at social supply chain issues and as a result it lacks direction on managing forced and child labour issues in the supply chain . On the contrary , the company ' s whistleblower programme has adequate measures . It is noted that in recent years , it did not publish relevant ESG reports and a board committee at the company is responsible for overseeing governance issues only . \" [SEP] <PAD>\n",
            "Run batch torch.Size([2, 96])\n",
            "95\n",
            "Decoder out torch.Size([2, 96, 28997])\n",
            "Loss 1.8318809270858765\n"
          ],
          "name": "stdout"
        },
        {
          "output_type": "stream",
          "text": [
            "\rEpoch 25 [train]:  33%|███▎      | 1/3 [00:02<00:05,  2.64s/b]"
          ],
          "name": "stderr"
        },
        {
          "output_type": "stream",
          "text": [
            "Run batch torch.Size([2, 95])\n",
            "90\n",
            "Decoder out torch.Size([2, 95, 28997])\n",
            "Loss 1.6719905138015747\n"
          ],
          "name": "stdout"
        },
        {
          "output_type": "stream",
          "text": [
            "\rEpoch 25 [train]:  67%|██████▋   | 2/3 [00:05<00:02,  2.62s/b]"
          ],
          "name": "stderr"
        },
        {
          "output_type": "stream",
          "text": [
            "Run batch torch.Size([2, 94])\n",
            "85\n",
            "Decoder out torch.Size([2, 94, 28997])\n",
            "Loss 1.68039870262146\n"
          ],
          "name": "stdout"
        },
        {
          "output_type": "stream",
          "text": [
            "Epoch 25 [train]: 100%|██████████| 3/3 [00:07<00:00,  2.57s/b]\n",
            "Epoch 25 [valid]:   0%|          | 0/3 [00:00<?, ?b/s]"
          ],
          "name": "stderr"
        },
        {
          "output_type": "stream",
          "text": [
            "Run batch torch.Size([2, 95])\n",
            "90\n"
          ],
          "name": "stdout"
        },
        {
          "output_type": "stream",
          "text": [
            "\rEpoch 25 [valid]:  33%|███▎      | 1/3 [00:01<00:03,  1.95s/b]"
          ],
          "name": "stderr"
        },
        {
          "output_type": "stream",
          "text": [
            "Decoder out torch.Size([2, 95, 28997])\n",
            "Loss 1.214369535446167\n",
            "torch.Size([2, 95])\n",
            "Run batch torch.Size([2, 96])\n",
            "95\n"
          ],
          "name": "stdout"
        },
        {
          "output_type": "stream",
          "text": [
            "\rEpoch 25 [valid]:  67%|██████▋   | 2/3 [00:03<00:01,  1.97s/b]"
          ],
          "name": "stderr"
        },
        {
          "output_type": "stream",
          "text": [
            "Decoder out torch.Size([2, 96, 28997])\n",
            "Loss 1.2820464372634888\n",
            "torch.Size([2, 96])\n",
            "Run batch torch.Size([2, 90])\n",
            "83\n"
          ],
          "name": "stdout"
        },
        {
          "output_type": "stream",
          "text": [
            "Epoch 25 [valid]: 100%|██████████| 3/3 [00:05<00:00,  1.93s/b]\n",
            "Epoch 26 [train]:   0%|          | 0/3 [00:00<?, ?b/s]"
          ],
          "name": "stderr"
        },
        {
          "output_type": "stream",
          "text": [
            "Decoder out torch.Size([2, 90, 28997])\n",
            "Loss 1.2225093841552734\n",
            "torch.Size([2, 90])\n",
            "Y Pred: \n",
            "\" The company ' s disclosures do not include an environmental policy . Additionally , available evidence suggests it does not have standards aimed at social supply chain issues and as a result does not include commitments to address child labour and forced labour in the supply chain . However , the whistleblower programme established is adequate . It is observed that in recent years , the company did not publish relevant ESG reports and a board committee is responsible for overseeing governance issues only . \"\n",
            "Y Gold: \n",
            "\" The company ' s disclosures do not include an environmental policy . Additionally , available evidence suggests it does not have standards aimed at social supply chain issues and as a result does not include commitments to address child labour and forced labour in the supply chain . However , the whistleblower programme established is adequate . It is observed that in recent years , the company did not publish relevant ESG reports and a board committee is responsible for overseeing governance issues only . \"\n",
            "Y Pred: \n",
            "\" The company lacks an environmental policy . Additionally , evidence suggests it does not have standards aimed at social supply chain issues and as a result it lacks direction on managing forced and child labour issues in the supply chain . On the contrary , the company ' s whistleblower programme has adequate measures . It is noted that in recent years , it did not publish relevant ESG reports and a board committee at the company is responsible for overseeing governance issues only . \" [SEP] <PAD>\n",
            "Y Gold: \n",
            "\" The company lacks an environmental policy . Additionally , evidence suggests it does not have standards aimed at social supply chain issues and as a result it lacks direction on managing forced and child labour issues in the supply chain . On the contrary , the company ' s whistleblower programme has adequate measures . It is noted that in recent years , it did not publish relevant ESG reports and a board committee at the company is responsible for overseeing governance issues only . \" [SEP] <PAD>\n",
            "Run batch torch.Size([2, 96])\n",
            "95\n",
            "Decoder out torch.Size([2, 96, 28997])\n",
            "Loss 1.6795545816421509\n"
          ],
          "name": "stdout"
        },
        {
          "output_type": "stream",
          "text": [
            "\rEpoch 26 [train]:  33%|███▎      | 1/3 [00:02<00:05,  2.66s/b]"
          ],
          "name": "stderr"
        },
        {
          "output_type": "stream",
          "text": [
            "Run batch torch.Size([2, 95])\n",
            "90\n",
            "Decoder out torch.Size([2, 95, 28997])\n",
            "Loss 1.608565330505371\n"
          ],
          "name": "stdout"
        },
        {
          "output_type": "stream",
          "text": [
            "\rEpoch 26 [train]:  67%|██████▋   | 2/3 [00:05<00:02,  2.63s/b]"
          ],
          "name": "stderr"
        },
        {
          "output_type": "stream",
          "text": [
            "Run batch torch.Size([2, 94])\n",
            "85\n",
            "Decoder out torch.Size([2, 94, 28997])\n",
            "Loss 1.7003111839294434\n"
          ],
          "name": "stdout"
        },
        {
          "output_type": "stream",
          "text": [
            "Epoch 26 [train]: 100%|██████████| 3/3 [00:07<00:00,  2.57s/b]\n",
            "Epoch 26 [valid]:   0%|          | 0/3 [00:00<?, ?b/s]"
          ],
          "name": "stderr"
        },
        {
          "output_type": "stream",
          "text": [
            "Run batch torch.Size([2, 95])\n",
            "90\n"
          ],
          "name": "stdout"
        },
        {
          "output_type": "stream",
          "text": [
            "\rEpoch 26 [valid]:  33%|███▎      | 1/3 [00:01<00:03,  1.98s/b]"
          ],
          "name": "stderr"
        },
        {
          "output_type": "stream",
          "text": [
            "Decoder out torch.Size([2, 95, 28997])\n",
            "Loss 1.1377915143966675\n",
            "torch.Size([2, 95])\n",
            "Run batch torch.Size([2, 96])\n",
            "95\n"
          ],
          "name": "stdout"
        },
        {
          "output_type": "stream",
          "text": [
            "\rEpoch 26 [valid]:  67%|██████▋   | 2/3 [00:03<00:01,  1.99s/b]"
          ],
          "name": "stderr"
        },
        {
          "output_type": "stream",
          "text": [
            "Decoder out torch.Size([2, 96, 28997])\n",
            "Loss 1.2079918384552002\n",
            "torch.Size([2, 96])\n",
            "Run batch torch.Size([2, 90])\n",
            "83\n"
          ],
          "name": "stdout"
        },
        {
          "output_type": "stream",
          "text": [
            "Epoch 26 [valid]: 100%|██████████| 3/3 [00:05<00:00,  1.96s/b]\n",
            "Epoch 27 [train]:   0%|          | 0/3 [00:00<?, ?b/s]"
          ],
          "name": "stderr"
        },
        {
          "output_type": "stream",
          "text": [
            "Decoder out torch.Size([2, 90, 28997])\n",
            "Loss 1.1595536470413208\n",
            "torch.Size([2, 90])\n",
            "Y Pred: \n",
            "\" The company ' s disclosures do not include an environmental policy . Additionally , available evidence suggests it does not have standards aimed at social supply chain issues and as a result does not include commitments to address child labour and forced labour in the supply chain . However , the whistleblower programme established is adequate . It is observed that in recent years , the company did not publish relevant ESG reports and a board committee is responsible for overseeing governance issues only . \"\n",
            "Y Gold: \n",
            "\" The company ' s disclosures do not include an environmental policy . Additionally , available evidence suggests it does not have standards aimed at social supply chain issues and as a result does not include commitments to address child labour and forced labour in the supply chain . However , the whistleblower programme established is adequate . It is observed that in recent years , the company did not publish relevant ESG reports and a board committee is responsible for overseeing governance issues only . \"\n",
            "Y Pred: \n",
            "\" The company lacks an environmental policy . Additionally , evidence suggests it does not have standards aimed at social supply chain issues and as a result it lacks direction on managing forced and child labour issues in the supply chain . On the contrary , the company ' s whistleblower programme has adequate measures . It is noted that in recent years , it did not publish relevant ESG reports and a board committee at the company is responsible for overseeing governance issues only . \" [SEP] <PAD>\n",
            "Y Gold: \n",
            "\" The company lacks an environmental policy . Additionally , evidence suggests it does not have standards aimed at social supply chain issues and as a result it lacks direction on managing forced and child labour issues in the supply chain . On the contrary , the company ' s whistleblower programme has adequate measures . It is noted that in recent years , it did not publish relevant ESG reports and a board committee at the company is responsible for overseeing governance issues only . \" [SEP] <PAD>\n",
            "Run batch torch.Size([2, 94])\n",
            "90\n",
            "Decoder out torch.Size([2, 94, 28997])\n",
            "Loss 1.618493914604187\n"
          ],
          "name": "stdout"
        },
        {
          "output_type": "stream",
          "text": [
            "\rEpoch 27 [train]:  33%|███▎      | 1/3 [00:02<00:05,  2.57s/b]"
          ],
          "name": "stderr"
        },
        {
          "output_type": "stream",
          "text": [
            "Run batch torch.Size([2, 96])\n",
            "95\n",
            "Decoder out torch.Size([2, 96, 28997])\n",
            "Loss 1.5648077726364136\n"
          ],
          "name": "stdout"
        },
        {
          "output_type": "stream",
          "text": [
            "\rEpoch 27 [train]:  67%|██████▋   | 2/3 [00:05<00:02,  2.58s/b]"
          ],
          "name": "stderr"
        },
        {
          "output_type": "stream",
          "text": [
            "Run batch torch.Size([2, 95])\n",
            "90\n",
            "Decoder out torch.Size([2, 95, 28997])\n",
            "Loss 1.5727373361587524\n"
          ],
          "name": "stdout"
        },
        {
          "output_type": "stream",
          "text": [
            "Epoch 27 [train]: 100%|██████████| 3/3 [00:07<00:00,  2.58s/b]\n",
            "Epoch 27 [valid]:   0%|          | 0/3 [00:00<?, ?b/s]"
          ],
          "name": "stderr"
        },
        {
          "output_type": "stream",
          "text": [
            "Run batch torch.Size([2, 95])\n",
            "90\n"
          ],
          "name": "stdout"
        },
        {
          "output_type": "stream",
          "text": [
            "\rEpoch 27 [valid]:  33%|███▎      | 1/3 [00:01<00:03,  1.99s/b]"
          ],
          "name": "stderr"
        },
        {
          "output_type": "stream",
          "text": [
            "Decoder out torch.Size([2, 95, 28997])\n",
            "Loss 1.0641437768936157\n",
            "torch.Size([2, 95])\n",
            "Run batch torch.Size([2, 96])\n",
            "95\n"
          ],
          "name": "stdout"
        },
        {
          "output_type": "stream",
          "text": [
            "\rEpoch 27 [valid]:  67%|██████▋   | 2/3 [00:03<00:01,  1.99s/b]"
          ],
          "name": "stderr"
        },
        {
          "output_type": "stream",
          "text": [
            "Decoder out torch.Size([2, 96, 28997])\n",
            "Loss 1.1439703702926636\n",
            "torch.Size([2, 96])\n",
            "Run batch torch.Size([2, 90])\n",
            "83\n"
          ],
          "name": "stdout"
        },
        {
          "output_type": "stream",
          "text": [
            "Epoch 27 [valid]: 100%|██████████| 3/3 [00:05<00:00,  1.95s/b]\n",
            "Epoch 28 [train]:   0%|          | 0/3 [00:00<?, ?b/s]"
          ],
          "name": "stderr"
        },
        {
          "output_type": "stream",
          "text": [
            "Decoder out torch.Size([2, 90, 28997])\n",
            "Loss 1.101271629333496\n",
            "torch.Size([2, 90])\n",
            "Y Pred: \n",
            "\" The company ' s disclosures do not include an environmental policy . Additionally , available evidence suggests it does not have standards aimed at social supply chain issues and as a result does not include commitments to address child labour and forced labour in the supply chain . However , the whistleblower programme established is adequate . It is observed that in recent years , the company did not publish relevant ESG reports and a board committee is responsible for overseeing governance issues only . \"\n",
            "Y Gold: \n",
            "\" The company ' s disclosures do not include an environmental policy . Additionally , available evidence suggests it does not have standards aimed at social supply chain issues and as a result does not include commitments to address child labour and forced labour in the supply chain . However , the whistleblower programme established is adequate . It is observed that in recent years , the company did not publish relevant ESG reports and a board committee is responsible for overseeing governance issues only . \"\n",
            "Y Pred: \n",
            "\" The company lacks an environmental policy . Additionally , evidence suggests it does not have standards aimed at social supply chain issues and as a result it lacks direction on managing forced and child labour issues in the supply chain . On the contrary , the company ' s whistleblower programme has adequate measures . It is noted that in recent years , it did not publish relevant ESG reports and a board committee at the company is responsible for overseeing governance issues only . \" [SEP] <PAD>\n",
            "Y Gold: \n",
            "\" The company lacks an environmental policy . Additionally , evidence suggests it does not have standards aimed at social supply chain issues and as a result it lacks direction on managing forced and child labour issues in the supply chain . On the contrary , the company ' s whistleblower programme has adequate measures . It is noted that in recent years , it did not publish relevant ESG reports and a board committee at the company is responsible for overseeing governance issues only . \" [SEP] <PAD>\n",
            "Run batch torch.Size([2, 92])\n",
            "90\n",
            "Decoder out torch.Size([2, 92, 28997])\n",
            "Loss 1.5164905786514282\n"
          ],
          "name": "stdout"
        },
        {
          "output_type": "stream",
          "text": [
            "\rEpoch 28 [train]:  33%|███▎      | 1/3 [00:02<00:05,  2.57s/b]"
          ],
          "name": "stderr"
        },
        {
          "output_type": "stream",
          "text": [
            "Run batch torch.Size([2, 94])\n",
            "85\n",
            "Decoder out torch.Size([2, 94, 28997])\n",
            "Loss 1.4299405813217163\n"
          ],
          "name": "stdout"
        },
        {
          "output_type": "stream",
          "text": [
            "\rEpoch 28 [train]:  67%|██████▋   | 2/3 [00:05<00:02,  2.55s/b]"
          ],
          "name": "stderr"
        },
        {
          "output_type": "stream",
          "text": [
            "Run batch torch.Size([2, 96])\n",
            "95\n",
            "Decoder out torch.Size([2, 96, 28997])\n",
            "Loss 1.4189987182617188\n"
          ],
          "name": "stdout"
        },
        {
          "output_type": "stream",
          "text": [
            "Epoch 28 [train]: 100%|██████████| 3/3 [00:07<00:00,  2.56s/b]\n",
            "Epoch 28 [valid]:   0%|          | 0/3 [00:00<?, ?b/s]"
          ],
          "name": "stderr"
        },
        {
          "output_type": "stream",
          "text": [
            "Run batch torch.Size([2, 95])\n",
            "90\n"
          ],
          "name": "stdout"
        },
        {
          "output_type": "stream",
          "text": [
            "\rEpoch 28 [valid]:  33%|███▎      | 1/3 [00:01<00:03,  1.95s/b]"
          ],
          "name": "stderr"
        },
        {
          "output_type": "stream",
          "text": [
            "Decoder out torch.Size([2, 95, 28997])\n",
            "Loss 0.9987948536872864\n",
            "torch.Size([2, 95])\n",
            "Run batch torch.Size([2, 96])\n",
            "95\n"
          ],
          "name": "stdout"
        },
        {
          "output_type": "stream",
          "text": [
            "\rEpoch 28 [valid]:  67%|██████▋   | 2/3 [00:03<00:01,  1.96s/b]"
          ],
          "name": "stderr"
        },
        {
          "output_type": "stream",
          "text": [
            "Decoder out torch.Size([2, 96, 28997])\n",
            "Loss 1.0858441591262817\n",
            "torch.Size([2, 96])\n",
            "Run batch torch.Size([2, 90])\n",
            "83\n"
          ],
          "name": "stdout"
        },
        {
          "output_type": "stream",
          "text": [
            "Epoch 28 [valid]: 100%|██████████| 3/3 [00:05<00:00,  1.94s/b]\n",
            "Epoch 29 [train]:   0%|          | 0/3 [00:00<?, ?b/s]"
          ],
          "name": "stderr"
        },
        {
          "output_type": "stream",
          "text": [
            "Decoder out torch.Size([2, 90, 28997])\n",
            "Loss 1.0444869995117188\n",
            "torch.Size([2, 90])\n",
            "Y Pred: \n",
            "\" The company ' s disclosures do not include an environmental policy . Additionally , available evidence suggests it does not have standards aimed at social supply chain issues and as a result does not include commitments to address child labour and forced labour in the supply chain . However , the whistleblower programme established is adequate . It is observed that in recent years , the company did not publish relevant ESG reports and a board committee is responsible for overseeing governance issues only . \"\n",
            "Y Gold: \n",
            "\" The company ' s disclosures do not include an environmental policy . Additionally , available evidence suggests it does not have standards aimed at social supply chain issues and as a result does not include commitments to address child labour and forced labour in the supply chain . However , the whistleblower programme established is adequate . It is observed that in recent years , the company did not publish relevant ESG reports and a board committee is responsible for overseeing governance issues only . \"\n",
            "Y Pred: \n",
            "\" The company lacks an environmental policy . Additionally , evidence suggests it does not have standards aimed at social supply chain issues and as a result it lacks direction on managing forced and child labour issues in the supply chain . On the contrary , the company ' s whistleblower programme has adequate measures . It is noted that in recent years , it did not publish relevant ESG reports and a board committee at the company is responsible for overseeing governance issues only . \" [SEP] <PAD>\n",
            "Y Gold: \n",
            "\" The company lacks an environmental policy . Additionally , evidence suggests it does not have standards aimed at social supply chain issues and as a result it lacks direction on managing forced and child labour issues in the supply chain . On the contrary , the company ' s whistleblower programme has adequate measures . It is noted that in recent years , it did not publish relevant ESG reports and a board committee at the company is responsible for overseeing governance issues only . \" [SEP] <PAD>\n",
            "Run batch torch.Size([2, 95])\n",
            "90\n",
            "Decoder out torch.Size([2, 95, 28997])\n",
            "Loss 1.3949130773544312\n"
          ],
          "name": "stdout"
        },
        {
          "output_type": "stream",
          "text": [
            "\rEpoch 29 [train]:  33%|███▎      | 1/3 [00:02<00:05,  2.62s/b]"
          ],
          "name": "stderr"
        },
        {
          "output_type": "stream",
          "text": [
            "Run batch torch.Size([2, 96])\n",
            "95\n",
            "Decoder out torch.Size([2, 96, 28997])\n",
            "Loss 1.426052451133728\n"
          ],
          "name": "stdout"
        },
        {
          "output_type": "stream",
          "text": [
            "\rEpoch 29 [train]:  67%|██████▋   | 2/3 [00:05<00:02,  2.61s/b]"
          ],
          "name": "stderr"
        },
        {
          "output_type": "stream",
          "text": [
            "Run batch torch.Size([2, 90])\n",
            "83\n",
            "Decoder out torch.Size([2, 90, 28997])\n",
            "Loss 1.3715465068817139\n"
          ],
          "name": "stdout"
        },
        {
          "output_type": "stream",
          "text": [
            "Epoch 29 [train]: 100%|██████████| 3/3 [00:07<00:00,  2.55s/b]\n",
            "Epoch 29 [valid]:   0%|          | 0/3 [00:00<?, ?b/s]"
          ],
          "name": "stderr"
        },
        {
          "output_type": "stream",
          "text": [
            "Run batch torch.Size([2, 95])\n",
            "90\n"
          ],
          "name": "stdout"
        },
        {
          "output_type": "stream",
          "text": [
            "\rEpoch 29 [valid]:  33%|███▎      | 1/3 [00:01<00:03,  1.95s/b]"
          ],
          "name": "stderr"
        },
        {
          "output_type": "stream",
          "text": [
            "Decoder out torch.Size([2, 95, 28997])\n",
            "Loss 0.9320586323738098\n",
            "torch.Size([2, 95])\n",
            "Run batch torch.Size([2, 96])\n",
            "95\n"
          ],
          "name": "stdout"
        },
        {
          "output_type": "stream",
          "text": [
            "\rEpoch 29 [valid]:  67%|██████▋   | 2/3 [00:03<00:01,  1.97s/b]"
          ],
          "name": "stderr"
        },
        {
          "output_type": "stream",
          "text": [
            "Decoder out torch.Size([2, 96, 28997])\n",
            "Loss 1.0317314863204956\n",
            "torch.Size([2, 96])\n",
            "Run batch torch.Size([2, 90])\n",
            "83\n"
          ],
          "name": "stdout"
        },
        {
          "output_type": "stream",
          "text": [
            "Epoch 29 [valid]: 100%|██████████| 3/3 [00:05<00:00,  1.94s/b]\n",
            "Epoch 30 [train]:   0%|          | 0/3 [00:00<?, ?b/s]"
          ],
          "name": "stderr"
        },
        {
          "output_type": "stream",
          "text": [
            "Decoder out torch.Size([2, 90, 28997])\n",
            "Loss 0.9983070492744446\n",
            "torch.Size([2, 90])\n",
            "Y Pred: \n",
            "\" The company ' s disclosures do not include an environmental policy . Additionally , available evidence suggests it does not have standards aimed at social supply chain issues and as a result does not include commitments to address child labour and forced labour in the supply chain . However , the whistleblower programme established is adequate . It is observed that in recent years , the company did not publish relevant ESG reports and a board committee is responsible for overseeing governance issues only . \"\n",
            "Y Gold: \n",
            "\" The company ' s disclosures do not include an environmental policy . Additionally , available evidence suggests it does not have standards aimed at social supply chain issues and as a result does not include commitments to address child labour and forced labour in the supply chain . However , the whistleblower programme established is adequate . It is observed that in recent years , the company did not publish relevant ESG reports and a board committee is responsible for overseeing governance issues only . \"\n",
            "Y Pred: \n",
            "\" The company lacks an environmental policy . Additionally , evidence suggests it does not have standards aimed at social supply chain issues and as a result it lacks direction on managing forced and child labour issues in the supply chain . On the contrary , the company ' s whistleblower programme has adequate measures . It is noted that in recent years , it did not publish relevant ESG reports and a board committee at the company is responsible for overseeing governance issues only . \" [SEP] <PAD>\n",
            "Y Gold: \n",
            "\" The company lacks an environmental policy . Additionally , evidence suggests it does not have standards aimed at social supply chain issues and as a result it lacks direction on managing forced and child labour issues in the supply chain . On the contrary , the company ' s whistleblower programme has adequate measures . It is noted that in recent years , it did not publish relevant ESG reports and a board committee at the company is responsible for overseeing governance issues only . \" [SEP] <PAD>\n",
            "Run batch torch.Size([2, 90])\n",
            "83\n",
            "Decoder out torch.Size([2, 90, 28997])\n",
            "Loss 1.3439233303070068\n"
          ],
          "name": "stdout"
        },
        {
          "output_type": "stream",
          "text": [
            "\rEpoch 30 [train]:  33%|███▎      | 1/3 [00:02<00:04,  2.48s/b]"
          ],
          "name": "stderr"
        },
        {
          "output_type": "stream",
          "text": [
            "Run batch torch.Size([2, 96])\n",
            "95\n",
            "Decoder out torch.Size([2, 96, 28997])\n",
            "Loss 1.3235645294189453\n"
          ],
          "name": "stdout"
        },
        {
          "output_type": "stream",
          "text": [
            "\rEpoch 30 [train]:  67%|██████▋   | 2/3 [00:05<00:02,  2.53s/b]"
          ],
          "name": "stderr"
        },
        {
          "output_type": "stream",
          "text": [
            "Run batch torch.Size([2, 94])\n",
            "90\n",
            "Decoder out torch.Size([2, 94, 28997])\n",
            "Loss 1.2836017608642578\n"
          ],
          "name": "stdout"
        },
        {
          "output_type": "stream",
          "text": [
            "Epoch 30 [train]: 100%|██████████| 3/3 [00:07<00:00,  2.57s/b]\n",
            "Epoch 30 [valid]:   0%|          | 0/3 [00:00<?, ?b/s]"
          ],
          "name": "stderr"
        },
        {
          "output_type": "stream",
          "text": [
            "Run batch torch.Size([2, 95])\n",
            "90\n"
          ],
          "name": "stdout"
        },
        {
          "output_type": "stream",
          "text": [
            "\rEpoch 30 [valid]:  33%|███▎      | 1/3 [00:01<00:03,  2.00s/b]"
          ],
          "name": "stderr"
        },
        {
          "output_type": "stream",
          "text": [
            "Decoder out torch.Size([2, 95, 28997])\n",
            "Loss 0.8786659836769104\n",
            "torch.Size([2, 95])\n",
            "Run batch torch.Size([2, 96])\n",
            "95\n"
          ],
          "name": "stdout"
        },
        {
          "output_type": "stream",
          "text": [
            "\rEpoch 30 [valid]:  67%|██████▋   | 2/3 [00:03<00:01,  2.00s/b]"
          ],
          "name": "stderr"
        },
        {
          "output_type": "stream",
          "text": [
            "Decoder out torch.Size([2, 96, 28997])\n",
            "Loss 0.9834401607513428\n",
            "torch.Size([2, 96])\n",
            "Run batch torch.Size([2, 90])\n",
            "83\n"
          ],
          "name": "stdout"
        },
        {
          "output_type": "stream",
          "text": [
            "Epoch 30 [valid]: 100%|██████████| 3/3 [00:05<00:00,  1.95s/b]\n",
            "Epoch 31 [train]:   0%|          | 0/3 [00:00<?, ?b/s]"
          ],
          "name": "stderr"
        },
        {
          "output_type": "stream",
          "text": [
            "Decoder out torch.Size([2, 90, 28997])\n",
            "Loss 0.9484738111495972\n",
            "torch.Size([2, 90])\n",
            "Y Pred: \n",
            "\" The company ' s disclosures do not include an environmental policy . Additionally , available evidence suggests it does not have standards aimed at social supply chain issues and as a result does not include commitments to address child labour and forced labour in the supply chain . However , the whistleblower programme established is adequate . It is observed that in recent years , the company did not publish relevant ESG reports and a board committee is responsible for overseeing governance issues only . \"\n",
            "Y Gold: \n",
            "\" The company ' s disclosures do not include an environmental policy . Additionally , available evidence suggests it does not have standards aimed at social supply chain issues and as a result does not include commitments to address child labour and forced labour in the supply chain . However , the whistleblower programme established is adequate . It is observed that in recent years , the company did not publish relevant ESG reports and a board committee is responsible for overseeing governance issues only . \"\n",
            "Y Pred: \n",
            "\" The company lacks an environmental policy . Additionally , evidence suggests it does not have standards aimed at social supply chain issues and as a result it lacks direction on managing forced and child labour issues in the supply chain . On the contrary , the company ' s whistleblower programme has adequate measures . It is noted that in recent years , it did not publish relevant ESG reports and a board committee at the company is responsible for overseeing governance issues only . \" [SEP] <PAD>\n",
            "Y Gold: \n",
            "\" The company lacks an environmental policy . Additionally , evidence suggests it does not have standards aimed at social supply chain issues and as a result it lacks direction on managing forced and child labour issues in the supply chain . On the contrary , the company ' s whistleblower programme has adequate measures . It is noted that in recent years , it did not publish relevant ESG reports and a board committee at the company is responsible for overseeing governance issues only . \" [SEP] <PAD>\n",
            "Run batch torch.Size([2, 95])\n",
            "90\n",
            "Decoder out torch.Size([2, 95, 28997])\n",
            "Loss 1.284532070159912\n"
          ],
          "name": "stdout"
        },
        {
          "output_type": "stream",
          "text": [
            "\rEpoch 31 [train]:  33%|███▎      | 1/3 [00:02<00:05,  2.63s/b]"
          ],
          "name": "stderr"
        },
        {
          "output_type": "stream",
          "text": [
            "Run batch torch.Size([2, 96])\n",
            "95\n",
            "Decoder out torch.Size([2, 96, 28997])\n",
            "Loss 1.3005560636520386\n"
          ],
          "name": "stdout"
        },
        {
          "output_type": "stream",
          "text": [
            "\rEpoch 31 [train]:  67%|██████▋   | 2/3 [00:05<00:02,  2.63s/b]"
          ],
          "name": "stderr"
        },
        {
          "output_type": "stream",
          "text": [
            "Run batch torch.Size([2, 90])\n",
            "83\n",
            "Decoder out torch.Size([2, 90, 28997])\n",
            "Loss 1.2171156406402588\n"
          ],
          "name": "stdout"
        },
        {
          "output_type": "stream",
          "text": [
            "Epoch 31 [train]: 100%|██████████| 3/3 [00:07<00:00,  2.57s/b]\n",
            "Epoch 31 [valid]:   0%|          | 0/3 [00:00<?, ?b/s]"
          ],
          "name": "stderr"
        },
        {
          "output_type": "stream",
          "text": [
            "Run batch torch.Size([2, 95])\n",
            "90\n"
          ],
          "name": "stdout"
        },
        {
          "output_type": "stream",
          "text": [
            "\rEpoch 31 [valid]:  33%|███▎      | 1/3 [00:01<00:03,  1.95s/b]"
          ],
          "name": "stderr"
        },
        {
          "output_type": "stream",
          "text": [
            "Decoder out torch.Size([2, 95, 28997])\n",
            "Loss 0.8247684836387634\n",
            "torch.Size([2, 95])\n",
            "Run batch torch.Size([2, 96])\n",
            "95\n"
          ],
          "name": "stdout"
        },
        {
          "output_type": "stream",
          "text": [
            "\rEpoch 31 [valid]:  67%|██████▋   | 2/3 [00:04<00:01,  1.98s/b]"
          ],
          "name": "stderr"
        },
        {
          "output_type": "stream",
          "text": [
            "Decoder out torch.Size([2, 96, 28997])\n",
            "Loss 0.936390221118927\n",
            "torch.Size([2, 96])\n",
            "Run batch torch.Size([2, 90])\n",
            "83\n"
          ],
          "name": "stdout"
        },
        {
          "output_type": "stream",
          "text": [
            "Epoch 31 [valid]: 100%|██████████| 3/3 [00:05<00:00,  1.96s/b]\n",
            "Epoch 32 [train]:   0%|          | 0/3 [00:00<?, ?b/s]"
          ],
          "name": "stderr"
        },
        {
          "output_type": "stream",
          "text": [
            "Decoder out torch.Size([2, 90, 28997])\n",
            "Loss 0.9111617207527161\n",
            "torch.Size([2, 90])\n",
            "Y Pred: \n",
            "\" The company ' s disclosures do not include an environmental policy . Additionally , available evidence suggests it does not have standards aimed at social supply chain issues and as a result does not include commitments to address child labour and forced labour in the supply chain . However , the whistleblower programme established is adequate . It is observed that in recent years , the company did not publish relevant ESG reports and a board committee is responsible for overseeing governance issues only . \"\n",
            "Y Gold: \n",
            "\" The company ' s disclosures do not include an environmental policy . Additionally , available evidence suggests it does not have standards aimed at social supply chain issues and as a result does not include commitments to address child labour and forced labour in the supply chain . However , the whistleblower programme established is adequate . It is observed that in recent years , the company did not publish relevant ESG reports and a board committee is responsible for overseeing governance issues only . \"\n",
            "Y Pred: \n",
            "\" The company lacks an environmental policy . Additionally , evidence suggests it does not have standards aimed at social supply chain issues and as a result it lacks direction on managing forced and child labour issues in the supply chain . On the contrary , the company ' s whistleblower programme has adequate measures . It is noted that in recent years , it did not publish relevant ESG reports and a board committee at the company is responsible for overseeing governance issues only . \" [SEP] <PAD>\n",
            "Y Gold: \n",
            "\" The company lacks an environmental policy . Additionally , evidence suggests it does not have standards aimed at social supply chain issues and as a result it lacks direction on managing forced and child labour issues in the supply chain . On the contrary , the company ' s whistleblower programme has adequate measures . It is noted that in recent years , it did not publish relevant ESG reports and a board committee at the company is responsible for overseeing governance issues only . \" [SEP] <PAD>\n",
            "Run batch torch.Size([2, 92])\n",
            "90\n",
            "Decoder out torch.Size([2, 92, 28997])\n",
            "Loss 1.244370698928833\n"
          ],
          "name": "stdout"
        },
        {
          "output_type": "stream",
          "text": [
            "\rEpoch 32 [train]:  33%|███▎      | 1/3 [00:02<00:05,  2.61s/b]"
          ],
          "name": "stderr"
        },
        {
          "output_type": "stream",
          "text": [
            "Run batch torch.Size([2, 96])\n",
            "95\n",
            "Decoder out torch.Size([2, 96, 28997])\n",
            "Loss 1.3229808807373047\n"
          ],
          "name": "stdout"
        },
        {
          "output_type": "stream",
          "text": [
            "\rEpoch 32 [train]:  67%|██████▋   | 2/3 [00:05<00:02,  2.62s/b]"
          ],
          "name": "stderr"
        },
        {
          "output_type": "stream",
          "text": [
            "Run batch torch.Size([2, 95])\n",
            "90\n",
            "Decoder out torch.Size([2, 95, 28997])\n",
            "Loss 1.127575159072876\n"
          ],
          "name": "stdout"
        },
        {
          "output_type": "stream",
          "text": [
            "Epoch 32 [train]: 100%|██████████| 3/3 [00:07<00:00,  2.62s/b]\n",
            "Epoch 32 [valid]:   0%|          | 0/3 [00:00<?, ?b/s]"
          ],
          "name": "stderr"
        },
        {
          "output_type": "stream",
          "text": [
            "Run batch torch.Size([2, 95])\n",
            "90\n"
          ],
          "name": "stdout"
        },
        {
          "output_type": "stream",
          "text": [
            "\rEpoch 32 [valid]:  33%|███▎      | 1/3 [00:01<00:03,  1.96s/b]"
          ],
          "name": "stderr"
        },
        {
          "output_type": "stream",
          "text": [
            "Decoder out torch.Size([2, 95, 28997])\n",
            "Loss 0.7811536192893982\n",
            "torch.Size([2, 95])\n",
            "Run batch torch.Size([2, 96])\n",
            "95\n"
          ],
          "name": "stdout"
        },
        {
          "output_type": "stream",
          "text": [
            "\rEpoch 32 [valid]:  67%|██████▋   | 2/3 [00:03<00:01,  1.97s/b]"
          ],
          "name": "stderr"
        },
        {
          "output_type": "stream",
          "text": [
            "Decoder out torch.Size([2, 96, 28997])\n",
            "Loss 0.8950924873352051\n",
            "torch.Size([2, 96])\n",
            "Run batch torch.Size([2, 90])\n",
            "83\n"
          ],
          "name": "stdout"
        },
        {
          "output_type": "stream",
          "text": [
            "Epoch 32 [valid]: 100%|██████████| 3/3 [00:05<00:00,  1.94s/b]\n",
            "Epoch 33 [train]:   0%|          | 0/3 [00:00<?, ?b/s]"
          ],
          "name": "stderr"
        },
        {
          "output_type": "stream",
          "text": [
            "Decoder out torch.Size([2, 90, 28997])\n",
            "Loss 0.8723961710929871\n",
            "torch.Size([2, 90])\n",
            "Y Pred: \n",
            "\" The company ' s disclosures do addressing include an environmental policy . Additionally , available evidence suggests it does not have standards aimed at social supply chain issues and as a result does not include commitments to address child labour and forced labour in the supply chain . However , the whistleblower programme established is adequate . It is observed that in recent years , the company did not publish relevant ESG reports and a board committee is responsible for overseeing governance issues only . \"\n",
            "Y Gold: \n",
            "\" The company ' s disclosures do not include an environmental policy . Additionally , available evidence suggests it does not have standards aimed at social supply chain issues and as a result does not include commitments to address child labour and forced labour in the supply chain . However , the whistleblower programme established is adequate . It is observed that in recent years , the company did not publish relevant ESG reports and a board committee is responsible for overseeing governance issues only . \"\n",
            "Y Pred: \n",
            "\" The company lacks an environmental policy . Additionally , evidence suggests it does not have standards aimed at social supply chain issues and as a result it lacks direction on managing forced and child labour issues in the supply chain . On the contrary , the company ' s whistleblower programme has adequate measures . It is noted that in recent years , it did not publish relevant ESG reports and a board committee at the company is responsible for overseeing governance issues only . \" [SEP] <PAD>\n",
            "Y Gold: \n",
            "\" The company lacks an environmental policy . Additionally , evidence suggests it does not have standards aimed at social supply chain issues and as a result it lacks direction on managing forced and child labour issues in the supply chain . On the contrary , the company ' s whistleblower programme has adequate measures . It is noted that in recent years , it did not publish relevant ESG reports and a board committee at the company is responsible for overseeing governance issues only . \" [SEP] <PAD>\n",
            "Run batch torch.Size([2, 96])\n",
            "95\n",
            "Decoder out torch.Size([2, 96, 28997])\n",
            "Loss 1.2483272552490234\n"
          ],
          "name": "stdout"
        },
        {
          "output_type": "stream",
          "text": [
            "\rEpoch 33 [train]:  33%|███▎      | 1/3 [00:02<00:05,  2.66s/b]"
          ],
          "name": "stderr"
        },
        {
          "output_type": "stream",
          "text": [
            "Run batch torch.Size([2, 94])\n",
            "85\n",
            "Decoder out torch.Size([2, 94, 28997])\n",
            "Loss 1.1556810140609741\n"
          ],
          "name": "stdout"
        },
        {
          "output_type": "stream",
          "text": [
            "\rEpoch 33 [train]:  67%|██████▋   | 2/3 [00:05<00:02,  2.61s/b]"
          ],
          "name": "stderr"
        },
        {
          "output_type": "stream",
          "text": [
            "Run batch torch.Size([2, 95])\n",
            "90\n",
            "Decoder out torch.Size([2, 95, 28997])\n",
            "Loss 1.1937495470046997\n"
          ],
          "name": "stdout"
        },
        {
          "output_type": "stream",
          "text": [
            "Epoch 33 [train]: 100%|██████████| 3/3 [00:07<00:00,  2.58s/b]\n",
            "Epoch 33 [valid]:   0%|          | 0/3 [00:00<?, ?b/s]"
          ],
          "name": "stderr"
        },
        {
          "output_type": "stream",
          "text": [
            "Run batch torch.Size([2, 95])\n",
            "90\n"
          ],
          "name": "stdout"
        },
        {
          "output_type": "stream",
          "text": [
            "\rEpoch 33 [valid]:  33%|███▎      | 1/3 [00:01<00:03,  1.99s/b]"
          ],
          "name": "stderr"
        },
        {
          "output_type": "stream",
          "text": [
            "Decoder out torch.Size([2, 95, 28997])\n",
            "Loss 0.7394102215766907\n",
            "torch.Size([2, 95])\n",
            "Run batch torch.Size([2, 96])\n",
            "95\n"
          ],
          "name": "stdout"
        },
        {
          "output_type": "stream",
          "text": [
            "\rEpoch 33 [valid]:  67%|██████▋   | 2/3 [00:04<00:02,  2.01s/b]"
          ],
          "name": "stderr"
        },
        {
          "output_type": "stream",
          "text": [
            "Decoder out torch.Size([2, 96, 28997])\n",
            "Loss 0.8560481667518616\n",
            "torch.Size([2, 96])\n",
            "Run batch torch.Size([2, 90])\n",
            "83\n"
          ],
          "name": "stdout"
        },
        {
          "output_type": "stream",
          "text": [
            "Epoch 33 [valid]: 100%|██████████| 3/3 [00:05<00:00,  1.97s/b]\n",
            "Epoch 34 [train]:   0%|          | 0/3 [00:00<?, ?b/s]"
          ],
          "name": "stderr"
        },
        {
          "output_type": "stream",
          "text": [
            "Decoder out torch.Size([2, 90, 28997])\n",
            "Loss 0.8414156436920166\n",
            "torch.Size([2, 90])\n",
            "Y Pred: \n",
            "\" The company ' s disclosures do addressing include an environmental policy . Additionally , available evidence suggests it does not have standards aimed at social supply chain issues and as a result does not include commitments to address child labour and forced labour in the supply they . However , the whistleblower programme established is adequate . It is observed that in recent years , the company did not publish relevant ESG reports and a board committee is responsible for overseeing governance issues only . \"\n",
            "Y Gold: \n",
            "\" The company ' s disclosures do not include an environmental policy . Additionally , available evidence suggests it does not have standards aimed at social supply chain issues and as a result does not include commitments to address child labour and forced labour in the supply chain . However , the whistleblower programme established is adequate . It is observed that in recent years , the company did not publish relevant ESG reports and a board committee is responsible for overseeing governance issues only . \"\n",
            "Y Pred: \n",
            "\" The company lacks an environmental policy . Additionally , evidence suggests it does not have standards aimed at social supply chain issues and as a result it lacks direction on managing forced and child labour issues in the supply chain . On the contrary , the company ' s whistleblower programme has adequate measures . It is noted that in recent years , it did not publish relevant ESG reports and a board committee at the company is responsible for overseeing governance issues only . \" [SEP] <PAD>\n",
            "Y Gold: \n",
            "\" The company lacks an environmental policy . Additionally , evidence suggests it does not have standards aimed at social supply chain issues and as a result it lacks direction on managing forced and child labour issues in the supply chain . On the contrary , the company ' s whistleblower programme has adequate measures . It is noted that in recent years , it did not publish relevant ESG reports and a board committee at the company is responsible for overseeing governance issues only . \" [SEP] <PAD>\n",
            "Run batch torch.Size([2, 96])\n",
            "95\n",
            "Decoder out torch.Size([2, 96, 28997])\n",
            "Loss 1.1557281017303467\n"
          ],
          "name": "stdout"
        },
        {
          "output_type": "stream",
          "text": [
            "\rEpoch 34 [train]:  33%|███▎      | 1/3 [00:02<00:05,  2.66s/b]"
          ],
          "name": "stderr"
        },
        {
          "output_type": "stream",
          "text": [
            "Run batch torch.Size([2, 90])\n",
            "83\n",
            "Decoder out torch.Size([2, 90, 28997])\n",
            "Loss 1.1325106620788574\n"
          ],
          "name": "stdout"
        },
        {
          "output_type": "stream",
          "text": [
            "\rEpoch 34 [train]:  67%|██████▋   | 2/3 [00:05<00:02,  2.59s/b]"
          ],
          "name": "stderr"
        },
        {
          "output_type": "stream",
          "text": [
            "Run batch torch.Size([2, 95])\n",
            "90\n",
            "Decoder out torch.Size([2, 95, 28997])\n",
            "Loss 1.014945387840271\n"
          ],
          "name": "stdout"
        },
        {
          "output_type": "stream",
          "text": [
            "Epoch 34 [train]: 100%|██████████| 3/3 [00:07<00:00,  2.56s/b]\n",
            "Epoch 34 [valid]:   0%|          | 0/3 [00:00<?, ?b/s]"
          ],
          "name": "stderr"
        },
        {
          "output_type": "stream",
          "text": [
            "Run batch torch.Size([2, 95])\n",
            "90\n"
          ],
          "name": "stdout"
        },
        {
          "output_type": "stream",
          "text": [
            "\rEpoch 34 [valid]:  33%|███▎      | 1/3 [00:01<00:03,  1.96s/b]"
          ],
          "name": "stderr"
        },
        {
          "output_type": "stream",
          "text": [
            "Decoder out torch.Size([2, 95, 28997])\n",
            "Loss 0.7017210125923157\n",
            "torch.Size([2, 95])\n",
            "Run batch torch.Size([2, 96])\n",
            "95\n"
          ],
          "name": "stdout"
        },
        {
          "output_type": "stream",
          "text": [
            "\rEpoch 34 [valid]:  67%|██████▋   | 2/3 [00:03<00:01,  1.97s/b]"
          ],
          "name": "stderr"
        },
        {
          "output_type": "stream",
          "text": [
            "Decoder out torch.Size([2, 96, 28997])\n",
            "Loss 0.8213377594947815\n",
            "torch.Size([2, 96])\n",
            "Run batch torch.Size([2, 90])\n",
            "83\n"
          ],
          "name": "stdout"
        },
        {
          "output_type": "stream",
          "text": [
            "Epoch 34 [valid]: 100%|██████████| 3/3 [00:05<00:00,  1.94s/b]\n",
            "Epoch 35 [train]:   0%|          | 0/3 [00:00<?, ?b/s]"
          ],
          "name": "stderr"
        },
        {
          "output_type": "stream",
          "text": [
            "Decoder out torch.Size([2, 90, 28997])\n",
            "Loss 0.8119321465492249\n",
            "torch.Size([2, 90])\n",
            "Y Pred: \n",
            "\" The company ' s disclosures do addressing include an environmental policy . Additionally , available evidence suggests it does not have standards aimed at social supply chain issues and as a result does not include commitments to address child labour and forced labour in the supply they . However , the whistleblower programme established is adequate . It is observed that in recent years , the company did not publish relevant ESG reports and a board committee is responsible for overseeing governance issues only . \"\n",
            "Y Gold: \n",
            "\" The company ' s disclosures do not include an environmental policy . Additionally , available evidence suggests it does not have standards aimed at social supply chain issues and as a result does not include commitments to address child labour and forced labour in the supply chain . However , the whistleblower programme established is adequate . It is observed that in recent years , the company did not publish relevant ESG reports and a board committee is responsible for overseeing governance issues only . \"\n",
            "Y Pred: \n",
            "\" The company lacks an environmental policy . Additionally , evidence suggests there does not have standards aimed at social supply chain issues and as a result it lacks direction on managing forced and child labour issues in the supply chain . On the contrary , the company ' s whistleblower programme has adequate measures . It is noted that in recent years , it did not publish relevant ESG reports and a board committee at the company is responsible for overseeing governance issues only . \" [SEP] <PAD>\n",
            "Y Gold: \n",
            "\" The company lacks an environmental policy . Additionally , evidence suggests it does not have standards aimed at social supply chain issues and as a result it lacks direction on managing forced and child labour issues in the supply chain . On the contrary , the company ' s whistleblower programme has adequate measures . It is noted that in recent years , it did not publish relevant ESG reports and a board committee at the company is responsible for overseeing governance issues only . \" [SEP] <PAD>\n",
            "Run batch torch.Size([2, 96])\n",
            "95\n",
            "Decoder out torch.Size([2, 96, 28997])\n",
            "Loss 1.2051132917404175\n"
          ],
          "name": "stdout"
        },
        {
          "output_type": "stream",
          "text": [
            "\rEpoch 35 [train]:  33%|███▎      | 1/3 [00:02<00:05,  2.66s/b]"
          ],
          "name": "stderr"
        },
        {
          "output_type": "stream",
          "text": [
            "Run batch torch.Size([2, 95])\n",
            "90\n",
            "Decoder out torch.Size([2, 95, 28997])\n",
            "Loss 1.0434869527816772\n"
          ],
          "name": "stdout"
        },
        {
          "output_type": "stream",
          "text": [
            "\rEpoch 35 [train]:  67%|██████▋   | 2/3 [00:05<00:02,  2.63s/b]"
          ],
          "name": "stderr"
        },
        {
          "output_type": "stream",
          "text": [
            "Run batch torch.Size([2, 94])\n",
            "90\n",
            "Decoder out torch.Size([2, 94, 28997])\n",
            "Loss 1.0253750085830688\n"
          ],
          "name": "stdout"
        },
        {
          "output_type": "stream",
          "text": [
            "Epoch 35 [train]: 100%|██████████| 3/3 [00:07<00:00,  2.59s/b]\n",
            "Epoch 35 [valid]:   0%|          | 0/3 [00:00<?, ?b/s]"
          ],
          "name": "stderr"
        },
        {
          "output_type": "stream",
          "text": [
            "Run batch torch.Size([2, 95])\n",
            "90\n"
          ],
          "name": "stdout"
        },
        {
          "output_type": "stream",
          "text": [
            "\rEpoch 35 [valid]:  33%|███▎      | 1/3 [00:01<00:03,  1.96s/b]"
          ],
          "name": "stderr"
        },
        {
          "output_type": "stream",
          "text": [
            "Decoder out torch.Size([2, 95, 28997])\n",
            "Loss 0.6668483018875122\n",
            "torch.Size([2, 95])\n",
            "Run batch torch.Size([2, 96])\n",
            "95\n"
          ],
          "name": "stdout"
        },
        {
          "output_type": "stream",
          "text": [
            "\rEpoch 35 [valid]:  67%|██████▋   | 2/3 [00:04<00:01,  1.99s/b]"
          ],
          "name": "stderr"
        },
        {
          "output_type": "stream",
          "text": [
            "Decoder out torch.Size([2, 96, 28997])\n",
            "Loss 0.7922401428222656\n",
            "torch.Size([2, 96])\n",
            "Run batch torch.Size([2, 90])\n",
            "83\n"
          ],
          "name": "stdout"
        },
        {
          "output_type": "stream",
          "text": [
            "Epoch 35 [valid]: 100%|██████████| 3/3 [00:05<00:00,  1.96s/b]\n",
            "Epoch 36 [train]:   0%|          | 0/3 [00:00<?, ?b/s]"
          ],
          "name": "stderr"
        },
        {
          "output_type": "stream",
          "text": [
            "Decoder out torch.Size([2, 90, 28997])\n",
            "Loss 0.7852718830108643\n",
            "torch.Size([2, 90])\n",
            "Y Pred: \n",
            "\" The company ' s disclosures do addressing include an environmental policy . Additionally , available evidence suggests it does not have standards aimed at social supply chain issues and as a result does not include commitments to address child labour and forced labour in the supply they . However , the whistleblower programme established is adequate . It is observed that in recent years , the company did not publish relevant ESG reports and a board committee is responsible for overseeing governance issues only . \"\n",
            "Y Gold: \n",
            "\" The company ' s disclosures do not include an environmental policy . Additionally , available evidence suggests it does not have standards aimed at social supply chain issues and as a result does not include commitments to address child labour and forced labour in the supply chain . However , the whistleblower programme established is adequate . It is observed that in recent years , the company did not publish relevant ESG reports and a board committee is responsible for overseeing governance issues only . \"\n",
            "Y Pred: \n",
            "\" The company lacks an environmental policy . Additionally , evidence suggests there does not have standards aimed at social supply chain issues and as a result it lacks direction on managing forced and child labour issues in the supply chain . On the contrary , the company ' s whistleblower programme has adequate measures . It is noted that in recent years , it did not publish relevant ESG reports and a board committee at the company is responsible for overseeing governance issues only . \" [SEP] <PAD>\n",
            "Y Gold: \n",
            "\" The company lacks an environmental policy . Additionally , evidence suggests it does not have standards aimed at social supply chain issues and as a result it lacks direction on managing forced and child labour issues in the supply chain . On the contrary , the company ' s whistleblower programme has adequate measures . It is noted that in recent years , it did not publish relevant ESG reports and a board committee at the company is responsible for overseeing governance issues only . \" [SEP] <PAD>\n",
            "Run batch torch.Size([2, 96])\n",
            "95\n",
            "Decoder out torch.Size([2, 96, 28997])\n",
            "Loss 1.0222296714782715\n"
          ],
          "name": "stdout"
        },
        {
          "output_type": "stream",
          "text": [
            "\rEpoch 36 [train]:  33%|███▎      | 1/3 [00:02<00:05,  2.64s/b]"
          ],
          "name": "stderr"
        },
        {
          "output_type": "stream",
          "text": [
            "Run batch torch.Size([2, 95])\n",
            "90\n",
            "Decoder out torch.Size([2, 95, 28997])\n",
            "Loss 0.9792004823684692\n"
          ],
          "name": "stdout"
        },
        {
          "output_type": "stream",
          "text": [
            "\rEpoch 36 [train]:  67%|██████▋   | 2/3 [00:05<00:02,  2.61s/b]"
          ],
          "name": "stderr"
        },
        {
          "output_type": "stream",
          "text": [
            "Run batch torch.Size([2, 92])\n",
            "90\n",
            "Decoder out torch.Size([2, 92, 28997])\n",
            "Loss 1.072066307067871\n"
          ],
          "name": "stdout"
        },
        {
          "output_type": "stream",
          "text": [
            "Epoch 36 [train]: 100%|██████████| 3/3 [00:07<00:00,  2.57s/b]\n",
            "Epoch 36 [valid]:   0%|          | 0/3 [00:00<?, ?b/s]"
          ],
          "name": "stderr"
        },
        {
          "output_type": "stream",
          "text": [
            "Run batch torch.Size([2, 95])\n",
            "90\n"
          ],
          "name": "stdout"
        },
        {
          "output_type": "stream",
          "text": [
            "\rEpoch 36 [valid]:  33%|███▎      | 1/3 [00:01<00:03,  1.97s/b]"
          ],
          "name": "stderr"
        },
        {
          "output_type": "stream",
          "text": [
            "Decoder out torch.Size([2, 95, 28997])\n",
            "Loss 0.6349400877952576\n",
            "torch.Size([2, 95])\n",
            "Run batch torch.Size([2, 96])\n",
            "95\n"
          ],
          "name": "stdout"
        },
        {
          "output_type": "stream",
          "text": [
            "\rEpoch 36 [valid]:  67%|██████▋   | 2/3 [00:03<00:01,  1.98s/b]"
          ],
          "name": "stderr"
        },
        {
          "output_type": "stream",
          "text": [
            "Decoder out torch.Size([2, 96, 28997])\n",
            "Loss 0.7658345103263855\n",
            "torch.Size([2, 96])\n",
            "Run batch torch.Size([2, 90])\n",
            "83\n"
          ],
          "name": "stdout"
        },
        {
          "output_type": "stream",
          "text": [
            "Epoch 36 [valid]: 100%|██████████| 3/3 [00:05<00:00,  1.94s/b]\n",
            "Epoch 37 [train]:   0%|          | 0/3 [00:00<?, ?b/s]"
          ],
          "name": "stderr"
        },
        {
          "output_type": "stream",
          "text": [
            "Decoder out torch.Size([2, 90, 28997])\n",
            "Loss 0.7634077072143555\n",
            "torch.Size([2, 90])\n",
            "Y Pred: \n",
            "\" The company ' s disclosures do addressing include an environmental policy . Additionally information available evidence suggests it does not have standards aimed at social supply chain issues Besides as a result does not include commitments to address child labour and forced labour in the supply they . However , the whistleblower programme established is adequate . It is observed that in recent years , the company did not publish relevant ESG reports and a board committee is responsible for overseeing governance issues only . \"\n",
            "Y Gold: \n",
            "\" The company ' s disclosures do not include an environmental policy . Additionally , available evidence suggests it does not have standards aimed at social supply chain issues and as a result does not include commitments to address child labour and forced labour in the supply chain . However , the whistleblower programme established is adequate . It is observed that in recent years , the company did not publish relevant ESG reports and a board committee is responsible for overseeing governance issues only . \"\n",
            "Y Pred: \n",
            "\" The company lacks an environmental policy . Additionally , evidence suggests there does not have standards aimed at social supply chain issues and as a result it lacks direction on managing forced and child labour issues in the supply chain . On the contrary , the company ' s whistleblower programme has adequate measures . It is noted that in recent years , it did not publish relevant ESG reports and a board committee at the company is responsible for overseeing governance issues only . \" [SEP] <PAD>\n",
            "Y Gold: \n",
            "\" The company lacks an environmental policy . Additionally , evidence suggests it does not have standards aimed at social supply chain issues and as a result it lacks direction on managing forced and child labour issues in the supply chain . On the contrary , the company ' s whistleblower programme has adequate measures . It is noted that in recent years , it did not publish relevant ESG reports and a board committee at the company is responsible for overseeing governance issues only . \" [SEP] <PAD>\n",
            "Run batch torch.Size([2, 96])\n",
            "95\n",
            "Decoder out torch.Size([2, 96, 28997])\n",
            "Loss 0.9604911208152771\n"
          ],
          "name": "stdout"
        },
        {
          "output_type": "stream",
          "text": [
            "\rEpoch 37 [train]:  33%|███▎      | 1/3 [00:02<00:05,  2.66s/b]"
          ],
          "name": "stderr"
        },
        {
          "output_type": "stream",
          "text": [
            "Run batch torch.Size([2, 95])\n",
            "90\n",
            "Decoder out torch.Size([2, 95, 28997])\n",
            "Loss 0.9222543239593506\n"
          ],
          "name": "stdout"
        },
        {
          "output_type": "stream",
          "text": [
            "\rEpoch 37 [train]:  67%|██████▋   | 2/3 [00:05<00:02,  2.63s/b]"
          ],
          "name": "stderr"
        },
        {
          "output_type": "stream",
          "text": [
            "Run batch torch.Size([2, 92])\n",
            "90\n",
            "Decoder out torch.Size([2, 92, 28997])\n",
            "Loss 1.038262128829956\n"
          ],
          "name": "stdout"
        },
        {
          "output_type": "stream",
          "text": [
            "Epoch 37 [train]: 100%|██████████| 3/3 [00:07<00:00,  2.60s/b]\n",
            "Epoch 37 [valid]:   0%|          | 0/3 [00:00<?, ?b/s]"
          ],
          "name": "stderr"
        },
        {
          "output_type": "stream",
          "text": [
            "Run batch torch.Size([2, 95])\n",
            "90\n"
          ],
          "name": "stdout"
        },
        {
          "output_type": "stream",
          "text": [
            "\rEpoch 37 [valid]:  33%|███▎      | 1/3 [00:01<00:03,  1.95s/b]"
          ],
          "name": "stderr"
        },
        {
          "output_type": "stream",
          "text": [
            "Decoder out torch.Size([2, 95, 28997])\n",
            "Loss 0.6068583726882935\n",
            "torch.Size([2, 95])\n",
            "Run batch torch.Size([2, 96])\n",
            "95\n"
          ],
          "name": "stdout"
        },
        {
          "output_type": "stream",
          "text": [
            "\rEpoch 37 [valid]:  67%|██████▋   | 2/3 [00:03<00:01,  1.96s/b]"
          ],
          "name": "stderr"
        },
        {
          "output_type": "stream",
          "text": [
            "Decoder out torch.Size([2, 96, 28997])\n",
            "Loss 0.7417981624603271\n",
            "torch.Size([2, 96])\n",
            "Run batch torch.Size([2, 90])\n",
            "83\n"
          ],
          "name": "stdout"
        },
        {
          "output_type": "stream",
          "text": [
            "Epoch 37 [valid]: 100%|██████████| 3/3 [00:05<00:00,  1.94s/b]\n",
            "Epoch 38 [train]:   0%|          | 0/3 [00:00<?, ?b/s]"
          ],
          "name": "stderr"
        },
        {
          "output_type": "stream",
          "text": [
            "Decoder out torch.Size([2, 90, 28997])\n",
            "Loss 0.7433723211288452\n",
            "torch.Size([2, 90])\n",
            "Y Pred: \n",
            "\" The company ' s disclosures do addressing include an environmental policy . Additionally information available evidence suggests it does not have standards aimed at social supply chain issues Besides as a result does not include commitments to address child labour and forced labour in the supply they . However , the whistleblower programme established is adequate . It is observed that in recent years , the company did not publish relevant ESG reports and a board committee is responsible for overseeing governance issues only . \"\n",
            "Y Gold: \n",
            "\" The company ' s disclosures do not include an environmental policy . Additionally , available evidence suggests it does not have standards aimed at social supply chain issues and as a result does not include commitments to address child labour and forced labour in the supply chain . However , the whistleblower programme established is adequate . It is observed that in recent years , the company did not publish relevant ESG reports and a board committee is responsible for overseeing governance issues only . \"\n",
            "Y Pred: \n",
            "\" The company lacks an environmental policy . Additionally , evidence suggests there does not have standards aimed at social supply chain issues and as a result it lacks direction on managing forced and child labour issues in the supply chain . On the contrary , the company ' s whistleblower programme has adequate measures . It is noted that in recent years , it did not publish relevant ESG reports and a board committee at the company is responsible for overseeing governance issues only . \" [SEP] <PAD>\n",
            "Y Gold: \n",
            "\" The company lacks an environmental policy . Additionally , evidence suggests it does not have standards aimed at social supply chain issues and as a result it lacks direction on managing forced and child labour issues in the supply chain . On the contrary , the company ' s whistleblower programme has adequate measures . It is noted that in recent years , it did not publish relevant ESG reports and a board committee at the company is responsible for overseeing governance issues only . \" [SEP] <PAD>\n",
            "Run batch torch.Size([2, 94])\n",
            "85\n",
            "Decoder out torch.Size([2, 94, 28997])\n",
            "Loss 0.9401850700378418\n"
          ],
          "name": "stdout"
        },
        {
          "output_type": "stream",
          "text": [
            "\rEpoch 38 [train]:  33%|███▎      | 1/3 [00:02<00:05,  2.59s/b]"
          ],
          "name": "stderr"
        },
        {
          "output_type": "stream",
          "text": [
            "Run batch torch.Size([2, 96])\n",
            "95\n",
            "Decoder out torch.Size([2, 96, 28997])\n",
            "Loss 1.0758001804351807\n"
          ],
          "name": "stdout"
        },
        {
          "output_type": "stream",
          "text": [
            "\rEpoch 38 [train]:  67%|██████▋   | 2/3 [00:05<00:02,  2.59s/b]"
          ],
          "name": "stderr"
        },
        {
          "output_type": "stream",
          "text": [
            "Run batch torch.Size([2, 95])\n",
            "90\n",
            "Decoder out torch.Size([2, 95, 28997])\n",
            "Loss 0.9188466668128967\n"
          ],
          "name": "stdout"
        },
        {
          "output_type": "stream",
          "text": [
            "Epoch 38 [train]: 100%|██████████| 3/3 [00:07<00:00,  2.58s/b]\n",
            "Epoch 38 [valid]:   0%|          | 0/3 [00:00<?, ?b/s]"
          ],
          "name": "stderr"
        },
        {
          "output_type": "stream",
          "text": [
            "Run batch torch.Size([2, 95])\n",
            "90\n"
          ],
          "name": "stdout"
        },
        {
          "output_type": "stream",
          "text": [
            "\rEpoch 38 [valid]:  33%|███▎      | 1/3 [00:01<00:03,  1.95s/b]"
          ],
          "name": "stderr"
        },
        {
          "output_type": "stream",
          "text": [
            "Decoder out torch.Size([2, 95, 28997])\n",
            "Loss 0.5828163027763367\n",
            "torch.Size([2, 95])\n",
            "Run batch torch.Size([2, 96])\n",
            "95\n"
          ],
          "name": "stdout"
        },
        {
          "output_type": "stream",
          "text": [
            "\rEpoch 38 [valid]:  67%|██████▋   | 2/3 [00:04<00:01,  1.98s/b]"
          ],
          "name": "stderr"
        },
        {
          "output_type": "stream",
          "text": [
            "Decoder out torch.Size([2, 96, 28997])\n",
            "Loss 0.7216005325317383\n",
            "torch.Size([2, 96])\n",
            "Run batch torch.Size([2, 90])\n",
            "83\n"
          ],
          "name": "stdout"
        },
        {
          "output_type": "stream",
          "text": [
            "Epoch 38 [valid]: 100%|██████████| 3/3 [00:05<00:00,  1.95s/b]\n",
            "Epoch 39 [train]:   0%|          | 0/3 [00:00<?, ?b/s]"
          ],
          "name": "stderr"
        },
        {
          "output_type": "stream",
          "text": [
            "Decoder out torch.Size([2, 90, 28997])\n",
            "Loss 0.7242339849472046\n",
            "torch.Size([2, 90])\n",
            "Y Pred: \n",
            "\" The company ' s disclosures do addressing include an environmental policy . Additionally information available evidence suggests it does not have standards aimed at social supply chain issues Besides as a result does not include commitments to address child labour and forced labour in the supply they . However , the whistleblower programme established is adequate noted It is observed that in recent years , the company did not publish relevant ESG reports and a board committee is responsible for overseeing governance issues only . \"\n",
            "Y Gold: \n",
            "\" The company ' s disclosures do not include an environmental policy . Additionally , available evidence suggests it does not have standards aimed at social supply chain issues and as a result does not include commitments to address child labour and forced labour in the supply chain . However , the whistleblower programme established is adequate . It is observed that in recent years , the company did not publish relevant ESG reports and a board committee is responsible for overseeing governance issues only . \"\n",
            "Y Pred: \n",
            "\" The company lacks an environmental policy . Additionally , evidence suggests there does not have standards aimed at social supply chain issues and as a result it lacks direction on managing forced and child labour issues in the supply chain . On the contrary , the company ' s whistleblower programme has adequate measures . It is noted that in recent years , it did not publish relevant ESG reports and a board committee at the company is responsible for overseeing governance issues only . \" [SEP] <PAD>\n",
            "Y Gold: \n",
            "\" The company lacks an environmental policy . Additionally , evidence suggests it does not have standards aimed at social supply chain issues and as a result it lacks direction on managing forced and child labour issues in the supply chain . On the contrary , the company ' s whistleblower programme has adequate measures . It is noted that in recent years , it did not publish relevant ESG reports and a board committee at the company is responsible for overseeing governance issues only . \" [SEP] <PAD>\n",
            "Run batch torch.Size([2, 90])\n",
            "83\n",
            "Decoder out torch.Size([2, 90, 28997])\n",
            "Loss 0.9623169898986816\n"
          ],
          "name": "stdout"
        },
        {
          "output_type": "stream",
          "text": [
            "\rEpoch 39 [train]:  33%|███▎      | 1/3 [00:02<00:04,  2.49s/b]"
          ],
          "name": "stderr"
        },
        {
          "output_type": "stream",
          "text": [
            "Run batch torch.Size([2, 96])\n",
            "95\n",
            "Decoder out torch.Size([2, 96, 28997])\n",
            "Loss 0.8950082659721375\n"
          ],
          "name": "stdout"
        },
        {
          "output_type": "stream",
          "text": [
            "\rEpoch 39 [train]:  67%|██████▋   | 2/3 [00:05<00:02,  2.54s/b]"
          ],
          "name": "stderr"
        },
        {
          "output_type": "stream",
          "text": [
            "Run batch torch.Size([2, 95])\n",
            "90\n",
            "Decoder out torch.Size([2, 95, 28997])\n",
            "Loss 0.8844519257545471\n"
          ],
          "name": "stdout"
        },
        {
          "output_type": "stream",
          "text": [
            "Epoch 39 [train]: 100%|██████████| 3/3 [00:07<00:00,  2.57s/b]\n",
            "Epoch 39 [valid]:   0%|          | 0/3 [00:00<?, ?b/s]"
          ],
          "name": "stderr"
        },
        {
          "output_type": "stream",
          "text": [
            "Run batch torch.Size([2, 95])\n",
            "90\n"
          ],
          "name": "stdout"
        },
        {
          "output_type": "stream",
          "text": [
            "\rEpoch 39 [valid]:  33%|███▎      | 1/3 [00:01<00:03,  1.97s/b]"
          ],
          "name": "stderr"
        },
        {
          "output_type": "stream",
          "text": [
            "Decoder out torch.Size([2, 95, 28997])\n",
            "Loss 0.5625710487365723\n",
            "torch.Size([2, 95])\n",
            "Run batch torch.Size([2, 96])\n",
            "95\n"
          ],
          "name": "stdout"
        },
        {
          "output_type": "stream",
          "text": [
            "\rEpoch 39 [valid]:  67%|██████▋   | 2/3 [00:03<00:01,  1.98s/b]"
          ],
          "name": "stderr"
        },
        {
          "output_type": "stream",
          "text": [
            "Decoder out torch.Size([2, 96, 28997])\n",
            "Loss 0.7038309574127197\n",
            "torch.Size([2, 96])\n",
            "Run batch torch.Size([2, 90])\n",
            "83\n"
          ],
          "name": "stdout"
        },
        {
          "output_type": "stream",
          "text": [
            "Epoch 39 [valid]: 100%|██████████| 3/3 [00:05<00:00,  1.96s/b]"
          ],
          "name": "stderr"
        },
        {
          "output_type": "stream",
          "text": [
            "Decoder out torch.Size([2, 90, 28997])\n",
            "Loss 0.7071083784103394\n",
            "torch.Size([2, 90])\n",
            "Y Pred: \n",
            "\" The company ' s disclosures do addressing include an environmental policy . Additionally information available evidence suggests it does not have standards aimed at social supply chain issues Besides as a result does not include commitments to address child labour and forced labour in the supply they . However , the whistleblower programme established is adequate noted It is observed that in recent years , the company did not publish relevant ESG reports and a board committee is responsible for overseeing governance issues only . \"\n",
            "Y Gold: \n",
            "\" The company ' s disclosures do not include an environmental policy . Additionally , available evidence suggests it does not have standards aimed at social supply chain issues and as a result does not include commitments to address child labour and forced labour in the supply chain . However , the whistleblower programme established is adequate . It is observed that in recent years , the company did not publish relevant ESG reports and a board committee is responsible for overseeing governance issues only . \"\n",
            "Y Pred: \n",
            "\" The company lacks an environmental policy . Additionally , evidence suggests there does not have standards aimed at social supply chain issues and as a result it lacks direction on managing forced and child labour issues in the supply chain . On the contrary , the company ' s whistleblower programme has adequate measures . It is noted that in recent years , it did not publish relevant ESG reports and a board committee at the company is responsible for overseeing governance issues only . \" [SEP] <PAD>\n",
            "Y Gold: \n",
            "\" The company lacks an environmental policy . Additionally , evidence suggests it does not have standards aimed at social supply chain issues and as a result it lacks direction on managing forced and child labour issues in the supply chain . On the contrary , the company ' s whistleblower programme has adequate measures . It is noted that in recent years , it did not publish relevant ESG reports and a board committee at the company is responsible for overseeing governance issues only . \" [SEP] <PAD>\n"
          ],
          "name": "stdout"
        },
        {
          "output_type": "stream",
          "text": [
            "\n"
          ],
          "name": "stderr"
        }
      ]
    },
    {
      "cell_type": "code",
      "metadata": {
        "id": "wHaWuF-UCnh9",
        "colab_type": "code",
        "colab": {}
      },
      "source": [
        ""
      ],
      "execution_count": 0,
      "outputs": []
    }
  ]
}